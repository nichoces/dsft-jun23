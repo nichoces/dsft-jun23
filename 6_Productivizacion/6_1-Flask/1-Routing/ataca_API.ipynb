{
 "cells": [
  {
   "cell_type": "code",
   "execution_count": 4,
   "metadata": {},
   "outputs": [
    {
     "name": "stdout",
     "output_type": "stream",
     "text": [
      "<Response [200]>\n",
      "{\n",
      "  \"author\": \"Samuel R. Delany\",\n",
      "  \"first_sentence\": \"to wound the autumnal city.\",\n",
      "  \"id\": 2,\n",
      "  \"published\": \"1975\",\n",
      "  \"title\": \"Dhalgren\"\n",
      "}\n",
      "\n"
     ]
    }
   ],
   "source": [
    "import requests\n",
    "\n",
    "root_path = \"http://127.0.0.1:5000\"\n",
    "\n",
    "path = \"/api/v2/resources/book\"\n",
    "\n",
    "content = {'id': 2}\n",
    "\n",
    "response = requests.get(url = root_path + path, json = content)\n",
    "print(response)\n",
    "print(response.text)\n"
   ]
  },
  {
   "cell_type": "code",
   "execution_count": 3,
   "metadata": {},
   "outputs": [
    {
     "name": "stdout",
     "output_type": "stream",
     "text": [
      "everything is here\n"
     ]
    }
   ],
   "source": [
    "import requests\n",
    "response = requests.get(url = \"http://localhost:5000/health\")\n",
    "print(response.text)"
   ]
  },
  {
   "cell_type": "code",
   "execution_count": null,
   "metadata": {},
   "outputs": [],
   "source": []
  }
 ],
 "metadata": {
  "kernelspec": {
   "display_name": "Python 3",
   "language": "python",
   "name": "python3"
  },
  "language_info": {
   "codemirror_mode": {
    "name": "ipython",
    "version": 3
   },
   "file_extension": ".py",
   "mimetype": "text/x-python",
   "name": "python",
   "nbconvert_exporter": "python",
   "pygments_lexer": "ipython3",
   "version": "3.11.3"
  },
  "orig_nbformat": 4
 },
 "nbformat": 4,
 "nbformat_minor": 2
}
