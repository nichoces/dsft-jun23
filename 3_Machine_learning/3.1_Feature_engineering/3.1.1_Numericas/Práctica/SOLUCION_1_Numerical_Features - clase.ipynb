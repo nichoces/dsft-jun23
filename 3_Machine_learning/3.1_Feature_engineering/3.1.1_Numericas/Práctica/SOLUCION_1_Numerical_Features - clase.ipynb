{
 "cells": [
  {
   "cell_type": "markdown",
   "metadata": {
    "colab_type": "text",
    "id": "cjmXmszUA5bN"
   },
   "source": [
    "# Working with numerical features\n",
    "\n",
    "We have to prepare our data to work with ML algorithms. In the case of numerical values we have some methods that we should apply before we start working with ML algorithms. Some of those methosts are:\n",
    "\n",
    "    Imputation\n",
    "    Handling Outliers\n",
    "    Feature Scaling\n",
    "    Feature Transformation\n",
    "    Binning\n",
    "    Log Transform\n",
    "   \n",
    "\n",
    "We saw how to work with outliers, and null values, and the techniques for imputation of NaN values. In this lesson we are going to focus on scaling, bining and log transformation.\n",
    "\n",
    "\n",
    "We discussed previously that the scale of the features is an important consideration when building machine learning models. Briefly:\n",
    "Feature magnitude matters because:\n",
    "\n",
    "    The regression coefficients of linear models are directly influenced by the scale of the variable.\n",
    "    Variables with bigger magnitude / larger value range dominate over those with smaller magnitude / value range\n",
    "    Gradient descent converges faster when features are on similar scales\n",
    "    Feature scaling helps decrease the time to find support vectors for SVMs\n",
    "    Euclidean distances are sensitive to feature magnitude.\n",
    "    Some algorithms, like PCA require the features to be centered at 0.\n",
    "\n",
    "The machine learning models affected by the feature scale are:\n",
    "\n",
    "    Linear and Logistic Regression\n",
    "    Neural Networks\n",
    "    Support Vector Machines\n",
    "    KNN\n",
    "    K-means clustering\n",
    "    Linear Discriminant Analysis (LDA)\n",
    "    Principal Component Analysis (PCA)\n",
    "\n",
    "\n",
    "## Feature Scaling\n",
    "\n",
    "Feature scaling refers to the methods or techniques used to normalize the range of independent variables in our data, or in other words, the methods to set the feature value range within a similar scale. Feature scaling is generally the last step in the data preprocessing pipeline, performed just before training the machine learning algorithms.\n",
    "\n",
    "\n"
   ]
  },
  {
   "cell_type": "markdown",
   "metadata": {
    "colab_type": "text",
    "id": "iNRSx2dfA5bO"
   },
   "source": [
    "## Feature Scaling: Z-Score Standardization and Min-Max Scaling "
   ]
  },
  {
   "cell_type": "markdown",
   "metadata": {
    "colab_type": "text",
    "id": "r0ORIQYJA5bP"
   },
   "source": [
    "- [About standardization](#About-standardization)\n",
    "- [About Min-Max scaling / \"normalization\"](#About-Min-Max-scaling-normalization)\n",
    "- [Standardization or Min-Max scaling?](#Standardization-or-Min-Max-scaling?)\n",
    "- [Standardizing and normalizing - how it can be done using scikit-learn](#Standardizing-and-normalizing---how-it-can-be-done-using-scikit-learn)\n",
    "- [Bottom-up approaches](#Bottom-up-approaches)\n",
    "- [The effect of standardization on PCA in a pattern classification task](#The-effect-of-standardization-on-PCA-in-a-pattern-classification-task)"
   ]
  },
  {
   "cell_type": "markdown",
   "metadata": {
    "colab_type": "text",
    "id": "Ti17xhGNA5bP"
   },
   "source": [
    "<br>\n",
    "<br>"
   ]
  },
  {
   "cell_type": "markdown",
   "metadata": {
    "colab_type": "text",
    "id": "s8eIevUaA5bQ"
   },
   "source": [
    "### About standardization"
   ]
  },
  {
   "cell_type": "markdown",
   "metadata": {
    "colab_type": "text",
    "id": "4iuLMzyIA5bQ"
   },
   "source": [
    "The result of **standardization** (or **Z-score normalization**) is that the features will be rescaled so that they'll have the properties of a standard normal distribution with   \n",
    "\n",
    "$\\mu = 0$ and $\\sigma = 1$\n",
    "\n",
    "where $\\mu$ is the mean (average) and $\\sigma$ is the standard deviation from the mean; standard scores (also called ***z*** scores) of the samples are calculated as follows:\n",
    "\n",
    "\\begin{equation} z = \\frac{x - \\mu}{\\sigma}\\end{equation} \n",
    "\n",
    "Standardizing the features so that they are centered around 0 with a standard deviation of 1 is not only important if we are comparing measurements that have different units, but it is also a general requirement for many machine learning algorithms. Intuitively, we can think of gradient descent as a prominent example\n",
    "(an optimization algorithm often used in logistic regression, SVMs, perceptrons, neural networks etc.); with features being on different scales, certain weights may update faster than others since the feature values $x_j$ play a role in the weight updates\n",
    "\n",
    "$$\\Delta w_j = - \\eta \\frac{\\partial J}{\\partial w_j} = \\eta \\sum_i (t^{(i)} - o^{(i)})x^{(i)}_{j},$$\n",
    "\n",
    "so that \n",
    "\n",
    "$$w_j := w_j + \\Delta w_j,$$\n",
    "where $\\eta$ is the learning rate, $t$ the target class label, and $o$ the actual output.\n",
    "Other intuitive examples include K-Nearest Neighbor algorithms and clustering algorithms that use, for example, Euclidean distance measures -- in fact, tree-based classifier are probably the only classifiers where feature scaling doesn't make a difference.\n",
    "\n",
    "\n",
    "\n",
    "To quote from the [`scikit-learn`](http://scikit-learn.org/stable/modules/generated/sklearn.preprocessing.StandardScaler.html) documentation:\n",
    "\n",
    "*\"Standardization of a dataset is a common requirement for many machine learning estimators: they might behave badly if the individual feature do not more or less look like standard normally distributed data (e.g. Gaussian with 0 mean and unit variance).\"*"
   ]
  },
  {
   "cell_type": "markdown",
   "metadata": {
    "colab_type": "text",
    "id": "AFSDfRzDA5bR"
   },
   "source": [
    "<br>\n",
    "<br>"
   ]
  },
  {
   "cell_type": "markdown",
   "metadata": {
    "colab_type": "text",
    "id": "j5A0INeBA5bR"
   },
   "source": [
    "<a id='About-Min-Max-scaling-normalization'></a>"
   ]
  },
  {
   "cell_type": "markdown",
   "metadata": {
    "colab_type": "text",
    "id": "nI1hkCE_A5bS"
   },
   "source": [
    "### About Min-Max scaling"
   ]
  },
  {
   "cell_type": "markdown",
   "metadata": {
    "colab_type": "text",
    "id": "b9Jf3rSTA5bS"
   },
   "source": [
    "[[back to top](#Sections)]"
   ]
  },
  {
   "cell_type": "markdown",
   "metadata": {
    "colab_type": "text",
    "id": "wVm48vnkA5bT"
   },
   "source": [
    "An alternative approach to Z-score normalization (or standardization) is the so-called **Min-Max scaling** (often also simply called \"normalization\" - a common cause for ambiguities).  \n",
    "In this approach, the data is scaled to a fixed range - usually 0 to 1.  \n",
    "The cost of having this bounded range - in contrast to standardization - is that we will end up with smaller standard deviations, which can suppress the effect of outliers.\n",
    "\n",
    "A Min-Max scaling is typically done via the following equation:\n",
    "\n",
    "\\begin{equation} X_{norm} = \\frac{X - X_{min}}{X_{max}-X_{min}} \\end{equation}"
   ]
  },
  {
   "cell_type": "markdown",
   "metadata": {
    "colab_type": "text",
    "id": "6QCXeBnBA5bT"
   },
   "source": [
    "<br>\n",
    "<br>"
   ]
  },
  {
   "cell_type": "markdown",
   "metadata": {
    "colab_type": "text",
    "id": "Jxrqn_WEA5bU"
   },
   "source": [
    "### Z-score standardization or Min-Max scaling?"
   ]
  },
  {
   "cell_type": "markdown",
   "metadata": {
    "colab_type": "text",
    "id": "nfQWCindA5bU"
   },
   "source": [
    "[[back to top](#Sections)]"
   ]
  },
  {
   "cell_type": "markdown",
   "metadata": {
    "colab_type": "text",
    "id": "pcYyZgW_A5bV"
   },
   "source": [
    "*\"Standardization or Min-Max scaling?\"* - There is no obvious answer to this question: it really depends on the application. \n",
    "\n",
    "For example, in clustering analyses, standardization may be especially crucial in order to compare similarities between features based on certain distance measures. Another prominent example is the Principal Component Analysis, where we usually prefer standardization over Min-Max scaling, since we are interested in the components that maximize the variance (depending on the question and if the PCA computes the components via the correlation matrix instead of the covariance matrix; [but more about PCA in my previous article](http://sebastianraschka.com/Articles/2014_pca_step_by_step.html)).\n",
    "\n",
    "However, this doesn't mean that Min-Max scaling is not useful at all! A popular application is image processing, where pixel intensities have to be normalized to fit within a certain range (i.e., 0 to 255 for the RGB color range). Also, typical neural network algorithm require data that on a 0-1 scale."
   ]
  },
  {
   "cell_type": "markdown",
   "metadata": {
    "colab_type": "text",
    "id": "wzrirBRmA5bV"
   },
   "source": [
    "<br>\n",
    "<br>"
   ]
  },
  {
   "cell_type": "markdown",
   "metadata": {
    "colab_type": "text",
    "id": "kX1ITX9yA5bW"
   },
   "source": [
    "## Standardizing and normalizing - how it can be done using scikit-learn"
   ]
  },
  {
   "cell_type": "markdown",
   "metadata": {
    "colab_type": "text",
    "id": "BQPknixmA5bW"
   },
   "source": [
    "[[back to top](#Sections)]"
   ]
  },
  {
   "cell_type": "markdown",
   "metadata": {
    "colab_type": "text",
    "id": "m1B5R04aA5bW"
   },
   "source": [
    "Of course, we could make use of NumPy's vectorization capabilities to calculate the z-scores for standardization and to normalize the data using the equations that were mentioned in the previous sections. However, there is an even more convenient approach using the preprocessing module from one of Python's open-source machine learning library [scikit-learn](http://scikit-learn.org )."
   ]
  },
  {
   "cell_type": "markdown",
   "metadata": {
    "colab_type": "text",
    "id": "kWEN_OL5A5bX"
   },
   "source": [
    "<br>\n",
    "<br>"
   ]
  },
  {
   "cell_type": "markdown",
   "metadata": {
    "colab_type": "text",
    "id": "BOakFslHA5bX"
   },
   "source": [
    "For the following examples and discussion, we will have a look at the free \"Wine\" Dataset that is deposited on the UCI machine learning repository  \n",
    "(http://archive.ics.uci.edu/ml/datasets/Wine).\n",
    "\n",
    "<br>\n",
    "\n",
    "<font size=\"1\">\n",
    "**Reference:**  \n",
    "Forina, M. et al, PARVUS - An Extendible Package for Data\n",
    "Exploration, Classification and Correlation. Institute of Pharmaceutical\n",
    "and Food Analysis and Technologies, Via Brigata Salerno, \n",
    "16147 Genoa, Italy.\n",
    "\n",
    "Bache, K. & Lichman, M. (2013). UCI Machine Learning Repository [http://archive.ics.uci.edu/ml]. Irvine, CA: University of California, School of Information and Computer Science.\n",
    "\n",
    "</font>"
   ]
  },
  {
   "cell_type": "markdown",
   "metadata": {
    "colab_type": "text",
    "id": "91cm_5heA5bY"
   },
   "source": [
    "The Wine dataset consists of 3 different classes where each row correspond to a particular wine sample.\n",
    "\n",
    "The class labels (1, 2, 3) are listed in the first column, and the columns 2-14 correspond to 13 different attributes (features):\n",
    "\n",
    "1) Alcohol  \n",
    "2) Malic acid  \n",
    "..."
   ]
  },
  {
   "cell_type": "markdown",
   "metadata": {
    "colab_type": "text",
    "id": "6oF1VqrLA5bY"
   },
   "source": [
    "#### Loading the wine dataset"
   ]
  },
  {
   "cell_type": "code",
   "execution_count": 1,
   "metadata": {
    "colab": {},
    "colab_type": "code",
    "collapsed": false,
    "id": "S6edsgZMA5bZ",
    "jupyter": {
     "outputs_hidden": false
    },
    "outputId": "ead5438b-7990-4a8f-9ac2-5e1c89c3fbfb"
   },
   "outputs": [
    {
     "data": {
      "text/html": [
       "<div>\n",
       "<style scoped>\n",
       "    .dataframe tbody tr th:only-of-type {\n",
       "        vertical-align: middle;\n",
       "    }\n",
       "\n",
       "    .dataframe tbody tr th {\n",
       "        vertical-align: top;\n",
       "    }\n",
       "\n",
       "    .dataframe thead th {\n",
       "        text-align: right;\n",
       "    }\n",
       "</style>\n",
       "<table border=\"1\" class=\"dataframe\">\n",
       "  <thead>\n",
       "    <tr style=\"text-align: right;\">\n",
       "      <th></th>\n",
       "      <th>Class label</th>\n",
       "      <th>Alcohol</th>\n",
       "      <th>Malic acid</th>\n",
       "    </tr>\n",
       "  </thead>\n",
       "  <tbody>\n",
       "    <tr>\n",
       "      <th>0</th>\n",
       "      <td>1</td>\n",
       "      <td>14.23</td>\n",
       "      <td>1.71</td>\n",
       "    </tr>\n",
       "    <tr>\n",
       "      <th>1</th>\n",
       "      <td>1</td>\n",
       "      <td>13.20</td>\n",
       "      <td>1.78</td>\n",
       "    </tr>\n",
       "    <tr>\n",
       "      <th>2</th>\n",
       "      <td>1</td>\n",
       "      <td>13.16</td>\n",
       "      <td>2.36</td>\n",
       "    </tr>\n",
       "    <tr>\n",
       "      <th>3</th>\n",
       "      <td>1</td>\n",
       "      <td>14.37</td>\n",
       "      <td>1.95</td>\n",
       "    </tr>\n",
       "    <tr>\n",
       "      <th>4</th>\n",
       "      <td>1</td>\n",
       "      <td>13.24</td>\n",
       "      <td>2.59</td>\n",
       "    </tr>\n",
       "  </tbody>\n",
       "</table>\n",
       "</div>"
      ],
      "text/plain": [
       "   Class label  Alcohol  Malic acid\n",
       "0            1    14.23        1.71\n",
       "1            1    13.20        1.78\n",
       "2            1    13.16        2.36\n",
       "3            1    14.37        1.95\n",
       "4            1    13.24        2.59"
      ]
     },
     "execution_count": 1,
     "metadata": {},
     "output_type": "execute_result"
    }
   ],
   "source": [
    "\n",
    "import pandas as pd\n",
    "import numpy as np\n",
    "\n",
    "df = pd.io.parsers.read_csv(\n",
    "    'https://raw.githubusercontent.com/rasbt/pattern_classification/master/data/wine_data.csv', \n",
    "     header=None,\n",
    "     usecols=[0,1,2]\n",
    "    )\n",
    "\n",
    "df.columns=['Class label', 'Alcohol', 'Malic acid']\n",
    "\n",
    "df.head()\n"
   ]
  },
  {
   "cell_type": "markdown",
   "metadata": {
    "colab_type": "text",
    "id": "5SHQKwf7A5bc"
   },
   "source": [
    "<br>\n",
    "<br>"
   ]
  },
  {
   "cell_type": "markdown",
   "metadata": {
    "colab_type": "text",
    "id": "sxm6pRQBA5bd"
   },
   "source": [
    "As we can see in the table above, the features **Alcohol** (percent/volumne) and **Malic acid** (g/l) are measured on different scales, so that ***Feature Scaling*** is necessary important prior to any comparison or combination of these data.  \n",
    "\n"
   ]
  },
  {
   "cell_type": "markdown",
   "metadata": {
    "colab_type": "text",
    "id": "-KwkhPa5A5bd"
   },
   "source": [
    "<br>\n",
    "<br>"
   ]
  },
  {
   "cell_type": "markdown",
   "metadata": {
    "colab_type": "text",
    "id": "QvTYGjOrA5be"
   },
   "source": [
    "#### Standardization and Min-Max scaling"
   ]
  },
  {
   "cell_type": "code",
   "execution_count": 12,
   "metadata": {
    "colab": {},
    "colab_type": "code",
    "collapsed": false,
    "id": "fVbIgf2PA5be",
    "jupyter": {
     "outputs_hidden": false
    }
   },
   "outputs": [
    {
     "name": "stdout",
     "output_type": "stream",
     "text": [
      "StandardScaler()\n",
      "{'copy': True, 'with_mean': True, 'with_std': True}\n",
      "StandardScaler()\n",
      "[13.00061798  2.33634831]\n"
     ]
    }
   ],
   "source": [
    "from sklearn import preprocessing\n",
    "std_scale = preprocessing.StandardScaler()#.fit(df[['Alcohol', 'Malic acid']])\n",
    "#np_std = std_scale.transform(df[['Alcohol', 'Malic acid']])\n",
    "\n",
    "print(std_scale)\n",
    "print(std_scale.get_params())\n",
    "#print(std_scale.mean_)\n",
    "\n",
    "std_scale.fit(df[['Alcohol', 'Malic acid']])\n",
    "print(std_scale)\n",
    "print(std_scale.mean_)\n",
    "\n",
    "np_std = std_scale.transform(df[['Alcohol', 'Malic acid']])\n",
    "#np_std"
   ]
  },
  {
   "cell_type": "code",
   "execution_count": 13,
   "metadata": {},
   "outputs": [
    {
     "data": {
      "text/plain": [
       "array(['Alcohol', 'Malic acid'], dtype=object)"
      ]
     },
     "execution_count": 13,
     "metadata": {},
     "output_type": "execute_result"
    }
   ],
   "source": [
    "std_scale.get_feature_names_out()"
   ]
  },
  {
   "cell_type": "code",
   "execution_count": 15,
   "metadata": {},
   "outputs": [],
   "source": [
    "# MinMaxScaler\n",
    "# minmax_scale\n",
    "# np_minmax\n",
    "\n",
    "minmax_scale = preprocessing.MinMaxScaler().fit(df[['Alcohol', 'Malic acid']])\n",
    "np_minmax = minmax_scale.transform(df[['Alcohol', 'Malic acid']]) # escalado"
   ]
  },
  {
   "cell_type": "code",
   "execution_count": 17,
   "metadata": {},
   "outputs": [],
   "source": [
    "#np_minmax"
   ]
  },
  {
   "cell_type": "code",
   "execution_count": 18,
   "metadata": {},
   "outputs": [
    {
     "data": {
      "text/plain": [
       "array([13.00061798,  2.33634831])"
      ]
     },
     "execution_count": 18,
     "metadata": {},
     "output_type": "execute_result"
    }
   ],
   "source": [
    "std_scale.mean_"
   ]
  },
  {
   "cell_type": "code",
   "execution_count": 19,
   "metadata": {},
   "outputs": [
    {
     "data": {
      "text/plain": [
       "sklearn.preprocessing._data.StandardScaler"
      ]
     },
     "execution_count": 19,
     "metadata": {},
     "output_type": "execute_result"
    }
   ],
   "source": [
    "type(std_scale)"
   ]
  },
  {
   "cell_type": "code",
   "execution_count": 5,
   "metadata": {},
   "outputs": [
    {
     "data": {
      "text/plain": [
       "array([[ 1.51861254, -0.5622498 ],\n",
       "       [ 0.24628963, -0.49941338],\n",
       "       [ 0.19687903,  0.02123125],\n",
       "       [ 1.69154964, -0.34681064],\n",
       "       [ 0.29570023,  0.22769377],\n",
       "       [ 1.48155459, -0.51736664],\n",
       "       [ 1.71625494, -0.4186237 ],\n",
       "       [ 1.3086175 , -0.16727801],\n",
       "       [ 2.25977152, -0.62508622],\n",
       "       [ 1.0615645 , -0.88540853],\n",
       "       [ 1.3580281 , -0.15830138],\n",
       "       [ 1.38273339, -0.76871232],\n",
       "       [ 0.92568536, -0.54429654],\n",
       "       [ 2.16095032, -0.54429654],\n",
       "       [ 1.70390229, -0.4186237 ],\n",
       "       [ 0.77745356, -0.47248348],\n",
       "       [ 1.60508109, -0.37374054],\n",
       "       [ 1.02450655, -0.68792264],\n",
       "       [ 1.46920194, -0.66996938],\n",
       "       [ 0.78980621,  0.68550197],\n",
       "       [ 1.3086175 , -0.63406285],\n",
       "       [-0.08723191,  1.31386618],\n",
       "       [ 0.87627476, -0.42760033],\n",
       "       [-0.18605311, -0.66099274],\n",
       "       [ 0.61686912, -0.47248348],\n",
       "       [ 0.06099988, -0.25704433],\n",
       "       [ 0.48098997, -0.50839001],\n",
       "       [ 0.36981612, -0.55327317],\n",
       "       [ 1.07391715, -0.3916938 ],\n",
       "       [ 1.2592069 , -0.58917969],\n",
       "       [ 0.90098006, -0.75075906],\n",
       "       [ 0.71569031, -0.60713296],\n",
       "       [ 0.83921681, -0.45453022],\n",
       "       [ 0.93803801, -0.72382916],\n",
       "       [ 0.62922177, -0.48146012],\n",
       "       [ 0.59216382, -0.47248348],\n",
       "       [ 0.34511082, -0.62508622],\n",
       "       [ 0.06099988, -0.61610959],\n",
       "       [ 0.08570518, -0.75075906],\n",
       "       [ 1.50625989,  1.48442217],\n",
       "       [ 0.69098501, -0.5622498 ],\n",
       "       [ 0.50569527,  1.3497727 ],\n",
       "       [ 1.0862698 , -0.40067043],\n",
       "       [ 0.29570023,  1.47544554],\n",
       "       [ 0.06099988, -0.50839001],\n",
       "       [ 1.49390724,  1.52930533],\n",
       "       [ 1.70390229,  1.12535692],\n",
       "       [ 1.1109751 , -0.58917969],\n",
       "       [ 1.3580281 , -0.28397422],\n",
       "       [ 1.1603857 , -0.54429654],\n",
       "       [ 0.06099988, -0.54429654],\n",
       "       [ 1.02450655, -0.61610959],\n",
       "       [ 1.01215391, -0.52634327],\n",
       "       [ 0.95039066, -0.3916938 ],\n",
       "       [ 0.91333271, -0.59815632],\n",
       "       [ 0.69098501, -0.54429654],\n",
       "       [ 1.50625989, -0.57122643],\n",
       "       [ 0.35746347, -0.32885738],\n",
       "       [ 0.88862741, -0.81359548],\n",
       "       [-0.77898029, -1.25345042],\n",
       "       [-0.82839089, -1.10982432],\n",
       "       [-0.44545875, -0.8764319 ],\n",
       "       [ 0.82686416, -0.97517485],\n",
       "       [-0.77898029, -1.08289442],\n",
       "       [-1.02603329, -0.79564222],\n",
       "       [-0.77898029, -1.01108137],\n",
       "       [ 0.13511578, -1.190614  ],\n",
       "       [-0.77898029, -1.0469879 ],\n",
       "       [ 0.41922672, -1.25345042],\n",
       "       [-0.97662269, -1.02903463],\n",
       "       [-0.87780149, -0.65201611],\n",
       "       [ 1.0615645 , -0.74178243],\n",
       "       [ 0.60451647, -0.60713296],\n",
       "       [-0.01311602, -0.59815632],\n",
       "       [-1.28543893, -1.11880095],\n",
       "       [-1.65601842, -0.40964706],\n",
       "       [ 0.03629458, -1.28935695],\n",
       "       [-1.43367073,  0.49699271],\n",
       "       [-0.82839089, -1.20856726],\n",
       "       [-0.37134286,  1.3767026 ],\n",
       "       [-1.23602833, -1.27140368],\n",
       "       [-0.34663756, -0.47248348],\n",
       "       [-1.13720713, -1.08289442],\n",
       "       [ 0.06099988,  1.36772596],\n",
       "       [-1.43367073, -1.29833358],\n",
       "       [-0.4084008 , -1.21754389],\n",
       "       [-1.03838594, -0.65201611],\n",
       "       [-1.66837107, -0.59815632],\n",
       "       [-1.68072372, -0.2480677 ],\n",
       "       [-1.13720713, -0.90336179],\n",
       "       [-1.13720713, -0.45453022],\n",
       "       [-1.23602833, -0.74178243],\n",
       "       [-0.38369551, -0.72382916],\n",
       "       [-0.87780149,  0.44313292],\n",
       "       [-1.70542902, -0.31090412],\n",
       "       [-0.6554538 , -0.7328058 ],\n",
       "       [-1.47072867, -0.19420791],\n",
       "       [-0.87780149, -0.83154874],\n",
       "       [-0.77898029, -1.13675421],\n",
       "       [-0.87780149,  0.74833839],\n",
       "       [-1.13720713, -0.23011443],\n",
       "       [-0.49486935, -0.89438516],\n",
       "       [-0.81603824,  0.10202093],\n",
       "       [-1.45837602, -0.55327317],\n",
       "       [-0.6060432 , -0.54429654],\n",
       "       [-0.71721705,  0.19178724],\n",
       "       [-0.92721209, -0.54429654],\n",
       "       [-0.34663756, -0.52634327],\n",
       "       [-0.96427004, -0.93926832],\n",
       "       [-1.71778167, -0.88540853],\n",
       "       [-1.90307141,  1.26000639],\n",
       "       [-0.59369055,  0.08406767],\n",
       "       [-1.53249192,  0.30848345],\n",
       "       [-1.96483466, -1.43298305],\n",
       "       [-1.13720713, -0.849502  ],\n",
       "       [-2.43423535, -0.74178243],\n",
       "       [-1.45837602, -0.77768895],\n",
       "       [-0.71721705, -0.65201611],\n",
       "       [-0.28487431,  0.98173081],\n",
       "       [-1.23602833,  0.98173081],\n",
       "       [-1.91542406,  0.05713777],\n",
       "       [-1.77954492, -0.25704433],\n",
       "       [-0.71721705,  1.87939396],\n",
       "       [ 0.06099988,  3.10919247],\n",
       "       [-1.39661278,  1.77167438],\n",
       "       [-1.14955978, -0.15830138],\n",
       "       [-0.7048644 , -0.72382916],\n",
       "       [-1.49543397, -0.18523128],\n",
       "       [-0.77898029, -0.63406285],\n",
       "       [-1.18661773,  1.76269775],\n",
       "       [-0.17370046, -0.88540853],\n",
       "       [-0.14899516,  0.58675903],\n",
       "       [-0.23546371, -0.02365191],\n",
       "       [-0.37134286,  1.08945039],\n",
       "       [-0.6060432 , -0.98415148],\n",
       "       [-0.49486935,  0.11099756],\n",
       "       [-0.92721209,  2.13971627],\n",
       "       [-0.5813379 ,  2.84887015],\n",
       "       [ 0.60451647,  1.12535692],\n",
       "       [-0.19840576,  0.55982913],\n",
       "       [-0.08723191,  0.42517966],\n",
       "       [ 0.44393202,  0.20076388],\n",
       "       [ 0.64157442,  0.74833839],\n",
       "       [ 0.76510091,  2.34617879],\n",
       "       [-0.92721209,  1.38567923],\n",
       "       [ 0.19687903,  1.10740365],\n",
       "       [ 1.0862698 ,  2.42696848],\n",
       "       [-0.16134781,  2.04097332],\n",
       "       [ 0.39452142,  0.81117481],\n",
       "       [ 0.09805783,  1.40363249],\n",
       "       [ 0.61686912,  0.70345524],\n",
       "       [-0.26016901,  0.29950682],\n",
       "       [ 0.13511578, -0.3916938 ],\n",
       "       [ 0.28334758,  0.8650346 ],\n",
       "       [-0.51957465, -0.93926832],\n",
       "       [ 0.20923168,  2.56161795],\n",
       "       [ 1.0368592 ,  1.60111838],\n",
       "       [-0.6801591 ,  0.62266555],\n",
       "       [ 1.65449169, -0.58917969],\n",
       "       [ 0.59216382, -0.59815632],\n",
       "       [-0.79133294,  1.34079607],\n",
       "       [ 0.85156946,  0.82912808],\n",
       "       [-0.18605311,  0.83810471],\n",
       "       [-0.05017396,  0.99968408],\n",
       "       [ 0.96274331,  0.3802965 ],\n",
       "       [ 0.90098006,  1.81655754],\n",
       "       [ 0.55510587,  1.22409986],\n",
       "       [-0.22311106,  0.92787102],\n",
       "       [ 0.71569031,  0.21871714],\n",
       "       [ 0.49334262,  2.03199669],\n",
       "       [-0.98897534,  0.62266555],\n",
       "       [-0.28487431,  0.04816114],\n",
       "       [ 1.43214399,  0.15588072],\n",
       "       [ 0.87627476,  2.974543  ],\n",
       "       [ 0.49334262,  1.41260912],\n",
       "       [ 0.33275817,  1.74474449],\n",
       "       [ 0.20923168,  0.22769377],\n",
       "       [ 1.39508604,  1.58316512]])"
      ]
     },
     "execution_count": 5,
     "metadata": {},
     "output_type": "execute_result"
    }
   ],
   "source": []
  },
  {
   "cell_type": "code",
   "execution_count": 20,
   "metadata": {},
   "outputs": [
    {
     "data": {
      "text/plain": [
       "array([13.00061798,  2.33634831])"
      ]
     },
     "execution_count": 20,
     "metadata": {},
     "output_type": "execute_result"
    }
   ],
   "source": [
    "std_scale.mean_"
   ]
  },
  {
   "cell_type": "code",
   "execution_count": 22,
   "metadata": {},
   "outputs": [
    {
     "data": {
      "text/plain": [
       "sklearn.preprocessing._data.StandardScaler"
      ]
     },
     "execution_count": 22,
     "metadata": {},
     "output_type": "execute_result"
    }
   ],
   "source": [
    "type(std_scale)"
   ]
  },
  {
   "cell_type": "code",
   "execution_count": 8,
   "metadata": {},
   "outputs": [
    {
     "data": {
      "text/plain": [
       "numpy.ndarray"
      ]
     },
     "execution_count": 8,
     "metadata": {},
     "output_type": "execute_result"
    }
   ],
   "source": [
    "type(np_std)"
   ]
  },
  {
   "cell_type": "code",
   "execution_count": 23,
   "metadata": {},
   "outputs": [
    {
     "data": {
      "text/plain": [
       "sklearn.preprocessing._data.MinMaxScaler"
      ]
     },
     "execution_count": 23,
     "metadata": {},
     "output_type": "execute_result"
    }
   ],
   "source": [
    "type(minmax_scale)"
   ]
  },
  {
   "cell_type": "code",
   "execution_count": 24,
   "metadata": {},
   "outputs": [
    {
     "data": {
      "text/plain": [
       "numpy.ndarray"
      ]
     },
     "execution_count": 24,
     "metadata": {},
     "output_type": "execute_result"
    }
   ],
   "source": [
    "type(np_minmax)"
   ]
  },
  {
   "cell_type": "code",
   "execution_count": 25,
   "metadata": {},
   "outputs": [
    {
     "data": {
      "text/plain": [
       "array([[ 1.51861254, -0.5622498 ],\n",
       "       [ 0.24628963, -0.49941338],\n",
       "       [ 0.19687903,  0.02123125],\n",
       "       [ 1.69154964, -0.34681064],\n",
       "       [ 0.29570023,  0.22769377]])"
      ]
     },
     "execution_count": 25,
     "metadata": {},
     "output_type": "execute_result"
    }
   ],
   "source": [
    "np_std[0:5, :]"
   ]
  },
  {
   "cell_type": "code",
   "execution_count": 26,
   "metadata": {},
   "outputs": [
    {
     "data": {
      "text/plain": [
       "array([[ 1.51861254, -0.5622498 ],\n",
       "       [ 0.24628963, -0.49941338],\n",
       "       [ 0.19687903,  0.02123125],\n",
       "       [ 1.69154964, -0.34681064],\n",
       "       [ 0.29570023,  0.22769377]])"
      ]
     },
     "execution_count": 26,
     "metadata": {},
     "output_type": "execute_result"
    }
   ],
   "source": [
    "np_std[0:5,:]"
   ]
  },
  {
   "cell_type": "code",
   "execution_count": 27,
   "metadata": {
    "colab": {},
    "colab_type": "code",
    "collapsed": false,
    "id": "v93uyjO_A5bh",
    "jupyter": {
     "outputs_hidden": false
    },
    "outputId": "6287a137-d1a3-4c99-d61d-fb5fb5cfb4d1"
   },
   "outputs": [
    {
     "name": "stdout",
     "output_type": "stream",
     "text": [
      "Mean after standardization:\n",
      "Alcohol=-0.00, Malic acid=-0.00\n",
      "Standard deviation after standardization:\n",
      "Alcohol=1.00, Malic acid=1.00\n"
     ]
    }
   ],
   "source": [
    "print('Mean after standardization:\\nAlcohol={:.2f}, Malic acid={:.2f}'.\\\n",
    "format(np_std[:,0].mean(), np_std[:,1].mean()))\n",
    "\n",
    "print('Standard deviation after standardization:\\nAlcohol={:.2f}, Malic acid={:.2f}'.\\\n",
    "format(np_std[:,0].std(), np_std[:,1].std()))"
   ]
  },
  {
   "cell_type": "code",
   "execution_count": 28,
   "metadata": {
    "colab": {},
    "colab_type": "code",
    "collapsed": false,
    "id": "6ytjA_lHA5bj",
    "jupyter": {
     "outputs_hidden": false
    },
    "outputId": "fc867db1-5119-49e3-e5b7-130f5376445b"
   },
   "outputs": [
    {
     "name": "stdout",
     "output_type": "stream",
     "text": [
      "Min-value after min-max scaling :\n",
      "Alcohol=0.00, Malic acid=0.00\n",
      "Max-value deviation after min-max scaling:\n",
      "Alcohol=1.00, Malic acid=1.00\n"
     ]
    }
   ],
   "source": [
    "print('Min-value after min-max scaling :\\nAlcohol={:.2f}, Malic acid={:.2f}'.\\\n",
    "format(np_minmax[:,0].min(), np_minmax[:,1].min()))\n",
    "\n",
    "print('Max-value deviation after min-max scaling:\\nAlcohol={:.2f}, Malic acid={:.2f}'.\\\n",
    "format(np_minmax[:,0].max(), np_minmax[:,1].max()))\n"
   ]
  },
  {
   "cell_type": "markdown",
   "metadata": {
    "colab_type": "text",
    "id": "QFkDQES_A5bl"
   },
   "source": [
    "<br>\n",
    "<br>"
   ]
  },
  {
   "cell_type": "markdown",
   "metadata": {
    "colab_type": "text",
    "id": "oFYVfTZNA5bm"
   },
   "source": [
    "#### Plotting"
   ]
  },
  {
   "cell_type": "code",
   "execution_count": 29,
   "metadata": {
    "colab": {},
    "colab_type": "code",
    "collapsed": false,
    "id": "77K__G6WA5bm",
    "jupyter": {
     "outputs_hidden": false
    }
   },
   "outputs": [],
   "source": [
    "%matplotlib inline"
   ]
  },
  {
   "cell_type": "code",
   "execution_count": 16,
   "metadata": {
    "colab": {},
    "colab_type": "code",
    "collapsed": false,
    "id": "Qfm1-VqJA5br",
    "jupyter": {
     "outputs_hidden": false
    },
    "outputId": "9271d145-5550-43ef-fab2-b2c9180ab8cd"
   },
   "outputs": [
    {
     "data": {
      "image/png": "[encoded data removed]",
      "text/plain": [
       "<Figure size 576x432 with 1 Axes>"
      ]
     },
     "metadata": {
      "needs_background": "light"
     },
     "output_type": "display_data"
    }
   ],
   "source": [
    "\n",
    "from matplotlib import pyplot as plt\n",
    "\n",
    "def plot():\n",
    "    plt.figure(figsize=(8,6))\n",
    "\n",
    "    plt.scatter(df['Alcohol'], df['Malic acid'], \n",
    "            color='green', label='input scale', alpha=0.5)\n",
    "\n",
    "    plt.scatter(np_std[:,0], np_std[:,1], color='red', \n",
    "            label='Standardized [$N  (\\mu=0, \\; \\sigma=1)$]', alpha=0.3)\n",
    "\n",
    "    plt.scatter(np_minmax[:,0], np_minmax[:,1], \n",
    "            color='blue', label='min-max scaled [min=0, max=1]', alpha=0.3)\n",
    "\n",
    "    plt.title('Alcohol and Malic Acid content of the wine dataset')\n",
    "    plt.xlabel('Alcohol')\n",
    "    plt.ylabel('Malic Acid')\n",
    "\n",
    "    plt.legend(loc='upper left')\n",
    "    plt.grid()\n",
    "    \n",
    "\n",
    "    \n",
    "    plt.tight_layout() # te ajusta para que se vea bien\n",
    "\n",
    "plot() #¡la acabo de definir yo!\n",
    "\n"
   ]
  },
  {
   "cell_type": "code",
   "execution_count": 17,
   "metadata": {},
   "outputs": [
    {
     "data": {
      "text/plain": [
       "{'copy': True, 'with_mean': True, 'with_std': True}"
      ]
     },
     "execution_count": 17,
     "metadata": {},
     "output_type": "execute_result"
    }
   ],
   "source": []
  },
  {
   "cell_type": "markdown",
   "metadata": {
    "colab_type": "text",
    "id": "oG7IESkRA5bu"
   },
   "source": [
    "<br>\n",
    "<br>"
   ]
  },
  {
   "cell_type": "markdown",
   "metadata": {
    "colab_type": "text",
    "id": "EbYAU0ZoA5bu"
   },
   "source": [
    "The plot above includes the wine datapoints on all three different scales: the input scale where the alcohol content was measured in volume-percent (green), the standardized features (red), and the normalized features (blue).\n",
    "In the following plot, we will zoom in into the three different axis-scales."
   ]
  },
  {
   "cell_type": "markdown",
   "metadata": {},
   "source": [
    "Recordatorio de numpy"
   ]
  },
  {
   "cell_type": "code",
   "execution_count": 30,
   "metadata": {},
   "outputs": [
    {
     "data": {
      "text/plain": [
       "(5,)"
      ]
     },
     "execution_count": 30,
     "metadata": {},
     "output_type": "execute_result"
    }
   ],
   "source": [
    "# en numpy un array UNIDIMENSIONAL tiene de dimensiones\n",
    "np.array([0,1,2,3,4]).shape\n"
   ]
  },
  {
   "cell_type": "code",
   "execution_count": 19,
   "metadata": {},
   "outputs": [
    {
     "data": {
      "text/plain": [
       "array([0, 1, 2, 3, 4])"
      ]
     },
     "execution_count": 19,
     "metadata": {},
     "output_type": "execute_result"
    }
   ],
   "source": [
    "np.array([0,1,2,3,4])"
   ]
  },
  {
   "cell_type": "code",
   "execution_count": 20,
   "metadata": {},
   "outputs": [
    {
     "data": {
      "text/plain": [
       "array([[0, 1, 2, 3, 4],\n",
       "       [5, 6, 7, 8, 9]])"
      ]
     },
     "execution_count": 20,
     "metadata": {},
     "output_type": "execute_result"
    }
   ],
   "source": [
    "# un numpy un array 2D tiene de dimensiones\n",
    "np.array([[0,1,2,3,4], [5,6,7,8,9]])\n"
   ]
  },
  {
   "cell_type": "code",
   "execution_count": 21,
   "metadata": {},
   "outputs": [
    {
     "data": {
      "text/plain": [
       "(2, 5)"
      ]
     },
     "execution_count": 21,
     "metadata": {},
     "output_type": "execute_result"
    }
   ],
   "source": [
    "np.array([[0,1,2,3,4], [5,6,7,8,9]]).shape"
   ]
  },
  {
   "cell_type": "code",
   "execution_count": 22,
   "metadata": {},
   "outputs": [],
   "source": [
    "# ¡Importante!\n",
    "# No es lo mismo un array UNIDIMENSIONAL que uno en 2D con solo una fila o solo una columna "
   ]
  },
  {
   "cell_type": "code",
   "execution_count": 23,
   "metadata": {},
   "outputs": [
    {
     "data": {
      "text/plain": [
       "(1, 5)"
      ]
     },
     "execution_count": 23,
     "metadata": {},
     "output_type": "execute_result"
    }
   ],
   "source": [
    "np.array([[0,1,2,3,4]]).shape"
   ]
  },
  {
   "cell_type": "code",
   "execution_count": 24,
   "metadata": {},
   "outputs": [
    {
     "data": {
      "text/plain": [
       "(5, 1)"
      ]
     },
     "execution_count": 24,
     "metadata": {},
     "output_type": "execute_result"
    }
   ],
   "source": [
    "np.array([[0], [1],[2], [3], [4]]).shape"
   ]
  },
  {
   "cell_type": "code",
   "execution_count": 25,
   "metadata": {},
   "outputs": [
    {
     "data": {
      "text/plain": [
       "array([[0],\n",
       "       [1],\n",
       "       [2],\n",
       "       [3],\n",
       "       [4]])"
      ]
     },
     "execution_count": 25,
     "metadata": {},
     "output_type": "execute_result"
    }
   ],
   "source": [
    "np.array([[0], [1],[2], [3], [4]])"
   ]
  },
  {
   "cell_type": "code",
   "execution_count": 26,
   "metadata": {},
   "outputs": [
    {
     "data": {
      "text/plain": [
       "array([ True,  True,  True,  True,  True])"
      ]
     },
     "execution_count": 26,
     "metadata": {},
     "output_type": "execute_result"
    }
   ],
   "source": [
    "# un array UNIDIMENSIONAL transpuesto se queda igual\n",
    "np.array([0,1,2,3,4]).T == np.array([0,1,2,3,4])"
   ]
  },
  {
   "cell_type": "code",
   "execution_count": 27,
   "metadata": {},
   "outputs": [
    {
     "data": {
      "text/plain": [
       "array([0, 1, 2, 3, 4])"
      ]
     },
     "execution_count": 27,
     "metadata": {},
     "output_type": "execute_result"
    }
   ],
   "source": [
    "np.array([0,1,2,3,4]).T "
   ]
  },
  {
   "cell_type": "code",
   "execution_count": 28,
   "metadata": {},
   "outputs": [
    {
     "data": {
      "text/plain": [
       "array([0, 1, 2, 3, 4])"
      ]
     },
     "execution_count": 28,
     "metadata": {},
     "output_type": "execute_result"
    }
   ],
   "source": [
    "np.array([0,1,2,3,4])"
   ]
  },
  {
   "cell_type": "code",
   "execution_count": 29,
   "metadata": {},
   "outputs": [],
   "source": [
    "# un array 2D con una fila o una columna sí se transpone"
   ]
  },
  {
   "cell_type": "code",
   "execution_count": 30,
   "metadata": {},
   "outputs": [
    {
     "data": {
      "text/plain": [
       "array([[0],\n",
       "       [1],\n",
       "       [2],\n",
       "       [3],\n",
       "       [4]])"
      ]
     },
     "execution_count": 30,
     "metadata": {},
     "output_type": "execute_result"
    }
   ],
   "source": [
    "np.array([[0,1,2,3,4]]).T"
   ]
  },
  {
   "cell_type": "code",
   "execution_count": 31,
   "metadata": {},
   "outputs": [
    {
     "data": {
      "text/plain": [
       "array([[0, 1, 2, 3, 4]])"
      ]
     },
     "execution_count": 31,
     "metadata": {},
     "output_type": "execute_result"
    }
   ],
   "source": [
    "np.array([[0],[1],[2],[3],[4]]).T"
   ]
  },
  {
   "cell_type": "code",
   "execution_count": 32,
   "metadata": {},
   "outputs": [
    {
     "name": "stdout",
     "output_type": "stream",
     "text": [
      "('azul', 'perro', 'casa')\n",
      "('rojo', 'gato', 'coche')\n"
     ]
    }
   ],
   "source": [
    "# veamos el método zip de Python\n",
    "# zip itera sobre tuplas y crea tuplas nuevas\n",
    "\n",
    "for x in zip(('azul', 'rojo', 'verde'), ('perro', 'gato'), [\"casa\", \"coche\"]):\n",
    "    print(x)\n"
   ]
  },
  {
   "cell_type": "code",
   "execution_count": 33,
   "metadata": {},
   "outputs": [
    {
     "name": "stdout",
     "output_type": "stream",
     "text": [
      "('azul',)\n",
      "('rojo',)\n",
      "('verde',)\n"
     ]
    }
   ],
   "source": [
    "# si zip tiene una sola tupla de argumento\n",
    "for x in zip((\"azul\", \"rojo\", \"verde\")):\n",
    "    print(x)\n",
    "\n"
   ]
  },
  {
   "cell_type": "markdown",
   "metadata": {},
   "source": [
    "Seguimos con el tratamiento de datos numéricos"
   ]
  },
  {
   "cell_type": "markdown",
   "metadata": {
    "colab_type": "text",
    "id": "Q2tqyHUpA5bv"
   },
   "source": [
    "<br>\n",
    "<br>"
   ]
  },
  {
   "cell_type": "code",
   "execution_count": 34,
   "metadata": {
    "colab": {},
    "colab_type": "code",
    "collapsed": false,
    "id": "aSSt2gUEA5bv",
    "jupyter": {
     "outputs_hidden": false
    },
    "outputId": "13379129-5f89-43fc-ebd1-301006a22971"
   },
   "outputs": [
    {
     "data": {
      "image/png": "[encoded data removed]",
      "text/plain": [
       "<Figure size 432x1008 with 3 Axes>"
      ]
     },
     "metadata": {
      "needs_background": "light"
     },
     "output_type": "display_data"
    }
   ],
   "source": [
    "\n",
    "\n",
    "fig, ax = plt.subplots(3, figsize=(6,14))\n",
    "\n",
    "for a,d,l in zip(range(len(ax)),\n",
    "               (df[['Alcohol', 'Malic acid']].values, np_std, np_minmax), # values devuelve los valores en tipo numpy\n",
    "               ('Input scale', \n",
    "                'Standardized [$N  (\\mu=0, \\; \\sigma=1)$]', \n",
    "                'min-max scaled [min=0, max=1]')\n",
    "                ):\n",
    "    # a es 0, 1, 2\n",
    "    # d es df[['Alcohol', 'Malic acid']].values, np_std, np_minmax \n",
    "    # l es 'Input scale', 'Standardized [$N  (\\mu=0, \\; \\sigma=1)$]', 'min-max scaled [min=0, max=1]'\n",
    "    \n",
    "    for i,c in zip(range(1,4), ('red', 'blue', 'green')):\n",
    "        ax[a].scatter(d[df['Class label'].values == i, 0], \n",
    "                  d[df['Class label'].values == i, 1],\n",
    "                  alpha=0.5,\n",
    "                  color=c,\n",
    "                  label='Class %s' %i\n",
    "                  )\n",
    "        # i es 1, 2, 3\n",
    "        # c es 'red', 'blue', 'green'\n",
    "        \n",
    "    ax[a].set_title(l)\n",
    "    ax[a].set_xlabel('Alcohol')\n",
    "    ax[a].set_ylabel('Malic Acid')\n",
    "    ax[a].legend(loc='upper left')\n",
    "    ax[a].grid()\n",
    "\n",
    "plt.tight_layout()\n",
    "    \n",
    "\n",
    "\n"
   ]
  },
  {
   "cell_type": "markdown",
   "metadata": {
    "colab_type": "text",
    "id": "igHy0_aCA5bx"
   },
   "source": [
    "<br>\n",
    "<br>"
   ]
  },
  {
   "cell_type": "code",
   "execution_count": 35,
   "metadata": {},
   "outputs": [
    {
     "data": {
      "text/plain": [
       "array([[1, 4],\n",
       "       [2, 5],\n",
       "       [3, 6]], dtype=int64)"
      ]
     },
     "execution_count": 35,
     "metadata": {},
     "output_type": "execute_result"
    }
   ],
   "source": [
    "# aplicar values a un DataFrame\n",
    "df_ejemplo = pd.DataFrame({'col1': [1,2,3], 'col2': [4,5,6]})\n",
    "df_ejemplo.values \n",
    "#values devuelve un DataFrame en formato numpy\n"
   ]
  },
  {
   "cell_type": "markdown",
   "metadata": {
    "colab_type": "text",
    "id": "QIY4clVRA5bx"
   },
   "source": [
    "## Bottom-up approaches"
   ]
  },
  {
   "cell_type": "markdown",
   "metadata": {
    "colab_type": "text",
    "id": "JqiB5GbhA5by"
   },
   "source": [
    "Of course, we can also code the equations for standardization and 0-1 Min-Max scaling \"manually\". However, the scikit-learn methods are still useful if you are working with test and training data sets and want to scale them equally.\n",
    "\n",
    "E.g., \n",
    "<pre>\n",
    "std_scale = preprocessing.StandardScaler().fit(X_train)\n",
    "X_train = std_scale.transform(X_train)\n",
    "X_test = std_scale.transform(X_test)\n",
    "</pre>\n",
    "\n",
    "Below, we will perform the calculations using \"pure\" Python code, and an more convenient NumPy solution, which is especially useful if we attempt to transform a whole matrix."
   ]
  },
  {
   "cell_type": "markdown",
   "metadata": {
    "colab_type": "text",
    "id": "lq-5HSSFA5by"
   },
   "source": [
    "<br>\n",
    "<br>"
   ]
  },
  {
   "cell_type": "markdown",
   "metadata": {
    "colab_type": "text",
    "id": "WS7Y2PoPA5by"
   },
   "source": [
    "Just to recall the equations that we are using:\n",
    "\n",
    "Standardization: \\begin{equation} z = \\frac{x - \\mu}{\\sigma} \\end{equation} \n",
    "\n",
    "with mean:  \n",
    "\n",
    "\\begin{equation}\\mu = \\frac{1}{N} \\sum_{i=1}^N (x_i)\\end{equation}\n",
    "\n",
    "and standard deviation:  \n",
    "\n",
    "\\begin{equation}\\sigma = \\sqrt{\\frac{1}{N} \\sum_{i=1}^N (x_i - \\mu)^2}\\end{equation}\n",
    "\n",
    "\n",
    "Min-Max scaling: \\begin{equation} X_{norm} = \\frac{X - X_{min}}{X_{max}-X_{min}} \\end{equation}\n",
    "\n",
    "\n"
   ]
  },
  {
   "cell_type": "code",
   "execution_count": 36,
   "metadata": {},
   "outputs": [
    {
     "name": "stdout",
     "output_type": "stream",
     "text": [
      "['caracter. h', 'caracter. o', 'caracter. l', 'caracter. a']\n"
     ]
    }
   ],
   "source": [
    "# lógica del bucle for\n",
    "\n",
    "suelto = [\"caracter. \" + p for p in \"hola\"]\n",
    "print(suelto)\n",
    "\n"
   ]
  },
  {
   "cell_type": "markdown",
   "metadata": {
    "colab_type": "text",
    "id": "8np6BxSWA5bz"
   },
   "source": [
    "### Pure Python"
   ]
  },
  {
   "cell_type": "code",
   "execution_count": 37,
   "metadata": {
    "colab": {},
    "colab_type": "code",
    "collapsed": false,
    "id": "5XpINxXEA5bz",
    "jupyter": {
     "outputs_hidden": false
    }
   },
   "outputs": [],
   "source": [
    "\n",
    "# Standardization\n",
    "x = [1,4,5,6,6,2,3]\n",
    "mean = sum(x)/len(x)\n",
    "std_dev = (1/len(x) * sum([ (x_i - mean) ** 2 for x_i in x])) ** 0.5\n",
    "z_scores = [(x_i - mean)/std_dev for x_i in x]\n",
    "\n",
    "# Min-Max scaling\n",
    "\n",
    "minmax = [(x_i - min(x))/(max(x) - min(x)) for x_i in x]\n",
    "\n"
   ]
  },
  {
   "cell_type": "markdown",
   "metadata": {
    "colab_type": "text",
    "id": "b2O6zScLA5b1"
   },
   "source": [
    "<br>\n",
    "<br>"
   ]
  },
  {
   "cell_type": "markdown",
   "metadata": {
    "colab_type": "text",
    "id": "Bbwi029aA5b1"
   },
   "source": [
    "### NumPy"
   ]
  },
  {
   "cell_type": "code",
   "execution_count": 38,
   "metadata": {
    "colab": {},
    "colab_type": "code",
    "collapsed": false,
    "id": "jtpk8DKAA5b2",
    "jupyter": {
     "outputs_hidden": false
    }
   },
   "outputs": [],
   "source": [
    "\n",
    "import numpy as np\n",
    "# Standardization\n",
    "x_np = np.asarray(x) # as array lo convierte en un array de numpy\n",
    "z_scores_np = (x_np - x_np.mean())/x_np.std()\n",
    "\n",
    "\n",
    "# Min-Max scaling\n",
    "np_minmax = (x_np - x_np.min()) / (x_np.max() - x_np.min())\n",
    "\n"
   ]
  },
  {
   "cell_type": "markdown",
   "metadata": {
    "colab_type": "text",
    "id": "NS5sTXR9A5b4"
   },
   "source": [
    "<br>\n",
    "<br>"
   ]
  },
  {
   "cell_type": "markdown",
   "metadata": {
    "colab_type": "text",
    "id": "rDx1mgDqA5b4"
   },
   "source": [
    "### Visualization"
   ]
  },
  {
   "cell_type": "markdown",
   "metadata": {
    "colab_type": "text",
    "id": "Y5-Nh9EKA5b4"
   },
   "source": [
    "Just to make sure that our code works correctly, let us plot the results via matplotlib."
   ]
  },
  {
   "cell_type": "code",
   "execution_count": 39,
   "metadata": {
    "colab": {},
    "colab_type": "code",
    "collapsed": false,
    "id": "b4j8TR7uA5b4",
    "jupyter": {
     "outputs_hidden": false
    }
   },
   "outputs": [],
   "source": [
    "%matplotlib inline"
   ]
  },
  {
   "cell_type": "code",
   "execution_count": 40,
   "metadata": {
    "colab": {},
    "colab_type": "code",
    "collapsed": false,
    "id": "6IruhpK7A5b6",
    "jupyter": {
     "outputs_hidden": false
    },
    "outputId": "d443f3f0-bea5-46ab-b44d-35debc0a5624"
   },
   "outputs": [
    {
     "data": {
      "image/png": "[encoded data removed]",
      "text/plain": [
       "<Figure size 720x360 with 4 Axes>"
      ]
     },
     "metadata": {
      "needs_background": "light"
     },
     "output_type": "display_data"
    }
   ],
   "source": [
    "\n",
    "\n",
    "from matplotlib import pyplot as plt\n",
    "\n",
    "fig, ((ax1, ax2), (ax3, ax4)) = plt.subplots(nrows=2, ncols=2, figsize=(10,5)) #devuelve fig, ax con 4 subplots\n",
    "\n",
    "y_pos = [0 for i in range(len(x))]\n",
    "\n",
    "ax1.scatter(z_scores, y_pos, color='g')\n",
    "ax1.set_title('Python standardization', color='g')\n",
    "\n",
    "ax2.scatter(minmax, y_pos, color='g')\n",
    "ax2.set_title('Python Min-Max scaling', color='g')\n",
    "\n",
    "ax3.scatter(z_scores_np, y_pos, color='b')\n",
    "ax3.set_title('Python NumPy standardization', color='b')\n",
    "\n",
    "ax4.scatter(np_minmax, y_pos, color='b')\n",
    "ax4.set_title('Python NumPy Min-Max scaling', color='b')\n",
    "    \n",
    "plt.tight_layout() # para ajustar la visualización\n",
    "\n",
    "for ax in (ax1, ax2, ax3, ax4):\n",
    "    ax.get_yaxis().set_visible(False)\n",
    "    ax.grid()\n",
    "\n",
    "plt.show()\n",
    "\n"
   ]
  },
  {
   "cell_type": "code",
   "execution_count": 41,
   "metadata": {},
   "outputs": [],
   "source": [
    "# vemos lo mismo, más fácil usando librerías\n",
    "# estandarizado con valores con media cero y desviación típica 1\n",
    "# escalado con valores entre 0 y 1"
   ]
  },
  {
   "cell_type": "markdown",
   "metadata": {
    "colab_type": "text",
    "id": "fTNz1_IkA5b8"
   },
   "source": [
    "<br>\n",
    "<br>"
   ]
  },
  {
   "cell_type": "markdown",
   "metadata": {
    "colab_type": "text",
    "id": "X6um4V_iA5b8"
   },
   "source": [
    "## The effect of standardization on PCA in a pattern classification task"
   ]
  },
  {
   "cell_type": "markdown",
   "metadata": {
    "colab_type": "text",
    "id": "PTq1SVSAA5b8"
   },
   "source": [
    "[[back to top](#Sections)]"
   ]
  },
  {
   "cell_type": "markdown",
   "metadata": {
    "colab_type": "text",
    "id": "-F-HCF4BA5b8"
   },
   "source": [
    "Earlier, I mentioned the Principal Component Analysis (PCA) as an example where standardization is crucial, since it is \"analyzing\" the variances of the different features.  \n",
    "Now, let us see how the standardization affects PCA and a following supervised classification on the whole wine dataset.\n",
    "\n",
    "\n",
    "In the following section, we will go through the following steps:\n",
    "\n",
    "- Reading in the dataset  \n",
    "- Dividing the dataset into a separate training and test dataset  \n",
    "- Standardization of the features    \n",
    "- Principal Component Analysis (PCA) to reduce the dimensionality   \n",
    "- Training a naive Bayes classifier  \n",
    "- Evaluating the classification accuracy with and without standardization  "
   ]
  },
  {
   "cell_type": "markdown",
   "metadata": {
    "colab_type": "text",
    "id": "1oSY24Z_A5b9"
   },
   "source": [
    "<br>\n",
    "<br>"
   ]
  },
  {
   "cell_type": "markdown",
   "metadata": {
    "colab_type": "text",
    "id": "-3M1X8HHA5b9"
   },
   "source": [
    "### Reading in the dataset"
   ]
  },
  {
   "cell_type": "markdown",
   "metadata": {
    "colab_type": "text",
    "id": "y5T-7YUUA5b9"
   },
   "source": [
    "[[back to top](#Sections)]"
   ]
  },
  {
   "cell_type": "code",
   "execution_count": 31,
   "metadata": {
    "colab": {},
    "colab_type": "code",
    "collapsed": false,
    "id": "zIt2mvEuA5b-",
    "jupyter": {
     "outputs_hidden": false
    }
   },
   "outputs": [],
   "source": [
    "\n",
    "\n",
    "import pandas as pd\n",
    "\n",
    "df = pd.io.parsers.read_csv(\n",
    "    'https://raw.githubusercontent.com/rasbt/pattern_classification/master/data/wine_data.csv', \n",
    "    header=None,\n",
    "    )\n",
    "\n"
   ]
  },
  {
   "cell_type": "code",
   "execution_count": 32,
   "metadata": {},
   "outputs": [
    {
     "data": {
      "text/html": [
       "<div>\n",
       "<style scoped>\n",
       "    .dataframe tbody tr th:only-of-type {\n",
       "        vertical-align: middle;\n",
       "    }\n",
       "\n",
       "    .dataframe tbody tr th {\n",
       "        vertical-align: top;\n",
       "    }\n",
       "\n",
       "    .dataframe thead th {\n",
       "        text-align: right;\n",
       "    }\n",
       "</style>\n",
       "<table border=\"1\" class=\"dataframe\">\n",
       "  <thead>\n",
       "    <tr style=\"text-align: right;\">\n",
       "      <th></th>\n",
       "      <th>0</th>\n",
       "      <th>1</th>\n",
       "      <th>2</th>\n",
       "      <th>3</th>\n",
       "      <th>4</th>\n",
       "      <th>5</th>\n",
       "      <th>6</th>\n",
       "      <th>7</th>\n",
       "      <th>8</th>\n",
       "      <th>9</th>\n",
       "      <th>10</th>\n",
       "      <th>11</th>\n",
       "      <th>12</th>\n",
       "      <th>13</th>\n",
       "    </tr>\n",
       "  </thead>\n",
       "  <tbody>\n",
       "    <tr>\n",
       "      <th>0</th>\n",
       "      <td>1</td>\n",
       "      <td>14.23</td>\n",
       "      <td>1.71</td>\n",
       "      <td>2.43</td>\n",
       "      <td>15.6</td>\n",
       "      <td>127</td>\n",
       "      <td>2.80</td>\n",
       "      <td>3.06</td>\n",
       "      <td>0.28</td>\n",
       "      <td>2.29</td>\n",
       "      <td>5.64</td>\n",
       "      <td>1.04</td>\n",
       "      <td>3.92</td>\n",
       "      <td>1065</td>\n",
       "    </tr>\n",
       "    <tr>\n",
       "      <th>1</th>\n",
       "      <td>1</td>\n",
       "      <td>13.20</td>\n",
       "      <td>1.78</td>\n",
       "      <td>2.14</td>\n",
       "      <td>11.2</td>\n",
       "      <td>100</td>\n",
       "      <td>2.65</td>\n",
       "      <td>2.76</td>\n",
       "      <td>0.26</td>\n",
       "      <td>1.28</td>\n",
       "      <td>4.38</td>\n",
       "      <td>1.05</td>\n",
       "      <td>3.40</td>\n",
       "      <td>1050</td>\n",
       "    </tr>\n",
       "    <tr>\n",
       "      <th>2</th>\n",
       "      <td>1</td>\n",
       "      <td>13.16</td>\n",
       "      <td>2.36</td>\n",
       "      <td>2.67</td>\n",
       "      <td>18.6</td>\n",
       "      <td>101</td>\n",
       "      <td>2.80</td>\n",
       "      <td>3.24</td>\n",
       "      <td>0.30</td>\n",
       "      <td>2.81</td>\n",
       "      <td>5.68</td>\n",
       "      <td>1.03</td>\n",
       "      <td>3.17</td>\n",
       "      <td>1185</td>\n",
       "    </tr>\n",
       "    <tr>\n",
       "      <th>3</th>\n",
       "      <td>1</td>\n",
       "      <td>14.37</td>\n",
       "      <td>1.95</td>\n",
       "      <td>2.50</td>\n",
       "      <td>16.8</td>\n",
       "      <td>113</td>\n",
       "      <td>3.85</td>\n",
       "      <td>3.49</td>\n",
       "      <td>0.24</td>\n",
       "      <td>2.18</td>\n",
       "      <td>7.80</td>\n",
       "      <td>0.86</td>\n",
       "      <td>3.45</td>\n",
       "      <td>1480</td>\n",
       "    </tr>\n",
       "    <tr>\n",
       "      <th>4</th>\n",
       "      <td>1</td>\n",
       "      <td>13.24</td>\n",
       "      <td>2.59</td>\n",
       "      <td>2.87</td>\n",
       "      <td>21.0</td>\n",
       "      <td>118</td>\n",
       "      <td>2.80</td>\n",
       "      <td>2.69</td>\n",
       "      <td>0.39</td>\n",
       "      <td>1.82</td>\n",
       "      <td>4.32</td>\n",
       "      <td>1.04</td>\n",
       "      <td>2.93</td>\n",
       "      <td>735</td>\n",
       "    </tr>\n",
       "  </tbody>\n",
       "</table>\n",
       "</div>"
      ],
      "text/plain": [
       "   0      1     2     3     4    5     6     7     8     9     10    11    12  \\\n",
       "0   1  14.23  1.71  2.43  15.6  127  2.80  3.06  0.28  2.29  5.64  1.04  3.92   \n",
       "1   1  13.20  1.78  2.14  11.2  100  2.65  2.76  0.26  1.28  4.38  1.05  3.40   \n",
       "2   1  13.16  2.36  2.67  18.6  101  2.80  3.24  0.30  2.81  5.68  1.03  3.17   \n",
       "3   1  14.37  1.95  2.50  16.8  113  3.85  3.49  0.24  2.18  7.80  0.86  3.45   \n",
       "4   1  13.24  2.59  2.87  21.0  118  2.80  2.69  0.39  1.82  4.32  1.04  2.93   \n",
       "\n",
       "     13  \n",
       "0  1065  \n",
       "1  1050  \n",
       "2  1185  \n",
       "3  1480  \n",
       "4   735  "
      ]
     },
     "execution_count": 32,
     "metadata": {},
     "output_type": "execute_result"
    }
   ],
   "source": [
    "df.head()"
   ]
  },
  {
   "cell_type": "markdown",
   "metadata": {
    "colab_type": "text",
    "id": "Kh6qRNm2A5b_"
   },
   "source": [
    "<br>\n",
    "<br>"
   ]
  },
  {
   "cell_type": "markdown",
   "metadata": {
    "colab_type": "text",
    "id": "qbVv7yTwA5b_"
   },
   "source": [
    "### Dividing the dataset into a separate training and test dataset"
   ]
  },
  {
   "cell_type": "markdown",
   "metadata": {
    "colab_type": "text",
    "id": "fpXqmudhA5cA"
   },
   "source": [
    "[[back to top](#Sections)]"
   ]
  },
  {
   "cell_type": "code",
   "execution_count": 38,
   "metadata": {},
   "outputs": [
    {
     "data": {
      "text/plain": [
       "array([1, 1, 1, 1, 1, 1, 1, 1, 1, 1, 1, 1, 1, 1, 1, 1, 1, 1, 1, 1, 1, 1,\n",
       "       1, 1, 1, 1, 1, 1, 1, 1, 1, 1, 1, 1, 1, 1, 1, 1, 1, 1, 1, 1, 1, 1,\n",
       "       1, 1, 1, 1, 1, 1, 1, 1, 1, 1, 1, 1, 1, 1, 1, 2, 2, 2, 2, 2, 2, 2,\n",
       "       2, 2, 2, 2, 2, 2, 2, 2, 2, 2, 2, 2, 2, 2, 2, 2, 2, 2, 2, 2, 2, 2,\n",
       "       2, 2, 2, 2, 2, 2, 2, 2, 2, 2, 2, 2, 2, 2, 2, 2, 2, 2, 2, 2, 2, 2,\n",
       "       2, 2, 2, 2, 2, 2, 2, 2, 2, 2, 2, 2, 2, 2, 2, 2, 2, 2, 2, 2, 3, 3,\n",
       "       3, 3, 3, 3, 3, 3, 3, 3, 3, 3, 3, 3, 3, 3, 3, 3, 3, 3, 3, 3, 3, 3,\n",
       "       3, 3, 3, 3, 3, 3, 3, 3, 3, 3, 3, 3, 3, 3, 3, 3, 3, 3, 3, 3, 3, 3,\n",
       "       3, 3], dtype=int64)"
      ]
     },
     "execution_count": 38,
     "metadata": {},
     "output_type": "execute_result"
    }
   ],
   "source": [
    "df[0].values"
   ]
  },
  {
   "cell_type": "markdown",
   "metadata": {
    "colab_type": "text",
    "id": "ZC9-h4dQA5cA"
   },
   "source": [
    "In this step, we will randomly divide the wine dataset into a training dataset and a test dataset where the training dataset will contain 70% of the samples and the test dataset will contain 30%, respectively."
   ]
  },
  {
   "cell_type": "code",
   "execution_count": 39,
   "metadata": {
    "colab": {},
    "colab_type": "code",
    "collapsed": false,
    "id": "vsF3FuqaA5cA",
    "jupyter": {
     "outputs_hidden": false
    }
   },
   "outputs": [],
   "source": [
    "from sklearn.model_selection import train_test_split\n",
    "\n",
    "X_wine = df.values[:,1:]\n",
    "y_wine = df.values[:,0]\n",
    "\n",
    "X_train, X_test, y_train, y_test = train_test_split(X_wine, y_wine,\n",
    "                                                    test_size=0.3, random_state=12345)\n",
    "\n",
    "\n"
   ]
  },
  {
   "cell_type": "markdown",
   "metadata": {
    "colab_type": "text",
    "id": "r323qCDcA5cC"
   },
   "source": [
    "<br>\n",
    "<br>"
   ]
  },
  {
   "cell_type": "markdown",
   "metadata": {
    "colab_type": "text",
    "id": "i0pb9XGmA5cD"
   },
   "source": [
    "### Feature Scaling - Standardization"
   ]
  },
  {
   "cell_type": "markdown",
   "metadata": {
    "colab_type": "text",
    "id": "84EHxfyEA5cD"
   },
   "source": [
    "[[back to top](#Sections)]"
   ]
  },
  {
   "cell_type": "code",
   "execution_count": 40,
   "metadata": {
    "colab": {},
    "colab_type": "code",
    "collapsed": false,
    "id": "tGz9RszbA5cE",
    "jupyter": {
     "outputs_hidden": false
    }
   },
   "outputs": [],
   "source": [
    "from sklearn import preprocessing\n",
    "\n",
    "std_scale = preprocessing.StandardScaler().fit(X_train)\n",
    "X_train_std = std_scale.transform(X_train)\n",
    "X_test_std = std_scale.transform(X_test)"
   ]
  },
  {
   "cell_type": "markdown",
   "metadata": {
    "colab_type": "text",
    "id": "JE2ea7cNA5cF"
   },
   "source": [
    "<br>\n",
    "<br>"
   ]
  },
  {
   "cell_type": "markdown",
   "metadata": {
    "colab_type": "text",
    "id": "ktmHpb4jA5cF"
   },
   "source": [
    "### Dimensionality reduction via Principal Component Analysis (PCA)"
   ]
  },
  {
   "cell_type": "markdown",
   "metadata": {
    "colab_type": "text",
    "id": "GbAS1qTIA5cG"
   },
   "source": [
    "[[back to top](#Sections)]"
   ]
  },
  {
   "cell_type": "markdown",
   "metadata": {
    "colab_type": "text",
    "id": "5FrcxB8SA5cG"
   },
   "source": [
    "Now, we perform a PCA on the standardized and the non-standardized datasets to transform the dataset onto a 2-dimensional feature subspace.  \n",
    "In a real application, a procedure like cross-validation would be done in order to find out what choice of features would yield a optimal balance between \"preserving information\" and \"overfitting\" for different classifiers. However, we will omit this step since we don't want to train a perfect classifier here, but merely compare the effects of standardization."
   ]
  },
  {
   "cell_type": "code",
   "execution_count": 41,
   "metadata": {
    "colab": {},
    "colab_type": "code",
    "collapsed": false,
    "id": "ZWwGJezXA5cG",
    "jupyter": {
     "outputs_hidden": false
    }
   },
   "outputs": [],
   "source": [
    "from sklearn.decomposition import PCA\n",
    "\n",
    "# no estandarizados\n",
    "pca = PCA(n_components=2).fit(X_train)\n",
    "X_train = pca.transform(X_train)\n",
    "X_test = pca.transform(X_test)\n",
    "\n",
    "# estandarizados\n",
    "pca_std = PCA(n_components=2).fit(X_train_std)\n",
    "X_train_std = pca_std.transform(X_train_std)\n",
    "X_test_std = pca_std.transform(X_test_std)"
   ]
  },
  {
   "cell_type": "markdown",
   "metadata": {
    "colab_type": "text",
    "id": "_-plJ_efA5cI"
   },
   "source": [
    "Let us quickly visualize how our new feature subspace looks like (note that class labels are not considered in a PCA - in contrast to a Linear Discriminant Analysis - but I will add them in the plot for clarity)."
   ]
  },
  {
   "cell_type": "code",
   "execution_count": 42,
   "metadata": {
    "colab": {},
    "colab_type": "code",
    "collapsed": false,
    "id": "nzRnH2nnA5cI",
    "jupyter": {
     "outputs_hidden": false
    }
   },
   "outputs": [],
   "source": [
    "%matplotlib inline"
   ]
  },
  {
   "cell_type": "code",
   "execution_count": 43,
   "metadata": {
    "colab": {},
    "colab_type": "code",
    "collapsed": false,
    "id": "EtjBg5VXA5cJ",
    "jupyter": {
     "outputs_hidden": false
    },
    "outputId": "90758540-3c9b-4bc9-daea-bfd7425d98a5"
   },
   "outputs": [
    {
     "data": {
      "image/png": "[encoded data removed]",
      "text/plain": [
       "<Figure size 1000x400 with 2 Axes>"
      ]
     },
     "metadata": {},
     "output_type": "display_data"
    }
   ],
   "source": [
    "\n",
    "\n",
    "from matplotlib import pyplot as plt\n",
    "\n",
    "fig, (ax1, ax2) = plt.subplots(ncols=2, figsize=(10,4))\n",
    "\n",
    "\n",
    "for l,c,m in zip(range(1,4), ('blue', 'red', 'green'), ('^', 's', 'o')):\n",
    "    ax1.scatter(X_train[y_train==l, 0], X_train[y_train==l, 1],\n",
    "        color=c, \n",
    "        label='class %s' %l, \n",
    "        alpha=0.5,\n",
    "        marker=m\n",
    "        )\n",
    "\n",
    "for l,c,m in zip(range(1,4), ('blue', 'red', 'green'), ('^', 's', 'o')):\n",
    "    ax2.scatter(X_train_std[y_train==l, 0], X_train_std[y_train==l, 1],\n",
    "        color=c, \n",
    "        label='class %s' %l, \n",
    "        alpha=0.5,\n",
    "        marker=m\n",
    "        )\n",
    "\n",
    "ax1.set_title('Transformed NON-standardized training dataset after PCA')    \n",
    "ax2.set_title('Transformed standardized training dataset after PCA')    \n",
    "    \n",
    "for ax in (ax1, ax2):\n",
    "\n",
    "    ax.set_xlabel('1st principal component')\n",
    "    ax.set_ylabel('2nd principal component')\n",
    "    ax.legend(loc='upper right')\n",
    "    ax.grid()\n",
    "\n",
    "plt.tight_layout()\n",
    "\n",
    "plt.show()\n",
    "\n"
   ]
  },
  {
   "cell_type": "markdown",
   "metadata": {
    "colab_type": "text",
    "id": "LwQ76MV7A5cL"
   },
   "source": [
    "<br>\n",
    "<br>"
   ]
  },
  {
   "cell_type": "markdown",
   "metadata": {
    "colab_type": "text",
    "id": "YaQL2nhKA5cL"
   },
   "source": [
    "### Training a naive Bayes classifier"
   ]
  },
  {
   "cell_type": "markdown",
   "metadata": {
    "colab_type": "text",
    "id": "7UcKl4z9A5cL"
   },
   "source": [
    "[[back to top](#Sections)]"
   ]
  },
  {
   "cell_type": "markdown",
   "metadata": {
    "colab_type": "text",
    "id": "1EvpEiahA5cM"
   },
   "source": [
    "We will use a naive Bayes classifier for the classification task. If you are not familiar with it, the term \"naive\" comes from the assumption that all features are \"independent\".  \n",
    "All in all, it is a simple but robust classifier based on Bayes' rule\n",
    "\n",
    "Bayes' Rule:\n",
    "\n",
    "\n",
    "\\begin{equation} P(\\omega_j|x) = \\frac{p(x|\\omega_j) * P(\\omega_j)}{p(x)} \\end{equation}\n",
    "\n",
    "where \n",
    "\n",
    "- &omega;:  class label  \n",
    "- *P(&omega;|x)*: the posterior probability\n",
    "- *p(x|&omega;)*: prior probability (or likelihood)\n",
    "\n",
    "and the **decsion rule:**\n",
    "\n",
    "Decide $ \\omega_1 $ if $ P(\\omega_1|x) > P(\\omega_2|x) $ else decide $ \\omega_2 $.\n",
    "<br>\n",
    "\n",
    "\n",
    "\\begin{equation}\n",
    "\\Rightarrow \\frac{p(x|\\omega_1) * P(\\omega_1)}{p(x)} > \\frac{p(x|\\omega_2) * P(\\omega_2)}{p(x)}\n",
    "\\end{equation} \n",
    "\n",
    "\n",
    "I don't want to get into more detail about Bayes' rule in this article, but if you are interested in a more detailed collection of examples, please have a look at the [Statistical Patter Classification](https://github.com/rasbt/pattern_classification#statistical-pattern-recognition-examples) in my pattern classification repository.\n",
    "\n"
   ]
  },
  {
   "cell_type": "code",
   "execution_count": 45,
   "metadata": {
    "colab": {},
    "colab_type": "code",
    "collapsed": false,
    "id": "hSqQVmqeA5cM",
    "jupyter": {
     "outputs_hidden": false
    }
   },
   "outputs": [],
   "source": [
    "from sklearn.naive_bayes import GaussianNB\n",
    "\n",
    "# no estandarizados\n",
    "gnb = GaussianNB()\n",
    "fit = gnb.fit(X_train, y_train)\n",
    "\n",
    "# estandarizados\n",
    "\n",
    "gnb_std = GaussianNB()\n",
    "fit_std = gnb_std.fit(X_train_std, y_train)\n",
    "\n",
    "\n"
   ]
  },
  {
   "cell_type": "markdown",
   "metadata": {
    "colab_type": "text",
    "id": "OFg3YvJiA5cO"
   },
   "source": [
    "<br>\n",
    "<br>"
   ]
  },
  {
   "cell_type": "markdown",
   "metadata": {
    "colab_type": "text",
    "id": "Sw0bfCQOA5cO"
   },
   "source": [
    "### Evaluating the classification accuracy with and without standardization"
   ]
  },
  {
   "cell_type": "markdown",
   "metadata": {
    "colab_type": "text",
    "id": "Q_npBWgGA5cP"
   },
   "source": [
    "[[back to top](#Sections)]"
   ]
  },
  {
   "cell_type": "code",
   "execution_count": 46,
   "metadata": {
    "colab": {},
    "colab_type": "code",
    "collapsed": false,
    "id": "HMYXSLpMA5cP",
    "jupyter": {
     "outputs_hidden": false
    },
    "outputId": "3c570ec4-ce79-46d3-bdc9-021d84440d56"
   },
   "outputs": [
    {
     "name": "stdout",
     "output_type": "stream",
     "text": [
      "\n",
      "Prediction accuracy for the training dataset\n",
      "81.45%\n",
      "\n",
      "Prediction accuracy for the test dataset\n",
      "64.81%\n",
      "\n"
     ]
    }
   ],
   "source": [
    "from sklearn import metrics\n",
    "\n",
    "pred_train = gnb.predict(X_train)\n",
    "\n",
    "print('\\nPrediction accuracy for the training dataset')\n",
    "print('{:.2%}'.format(metrics.accuracy_score(y_train, pred_train)))\n",
    "\n",
    "pred_test = gnb.predict(X_test)\n",
    "\n",
    "print('\\nPrediction accuracy for the test dataset')\n",
    "print('{:.2%}\\n'.format(metrics.accuracy_score(y_test, pred_test)))"
   ]
  },
  {
   "cell_type": "code",
   "execution_count": 47,
   "metadata": {
    "colab": {},
    "colab_type": "code",
    "collapsed": false,
    "id": "xMMVrGHwA5cQ",
    "jupyter": {
     "outputs_hidden": false
    },
    "outputId": "70bb1409-4382-41bd-a5b4-1bd5c39cce1f"
   },
   "outputs": [
    {
     "name": "stdout",
     "output_type": "stream",
     "text": [
      "\n",
      "Prediction accuracy for the training dataset\n",
      "96.77%\n",
      "\n",
      "Prediction accuracy for the test dataset\n",
      "98.15%\n",
      "\n"
     ]
    }
   ],
   "source": [
    "\n",
    "pred_train_std = gnb_std.predict(X_train_std)\n",
    "\n",
    "print('\\nPrediction accuracy for the training dataset')\n",
    "print('{:.2%}'.format(metrics.accuracy_score(y_train, pred_train_std)))\n",
    "\n",
    "pred_test_std = gnb_std.predict(X_test_std)\n",
    "\n",
    "print('\\nPrediction accuracy for the test dataset')\n",
    "print('{:.2%}\\n'.format(metrics.accuracy_score(y_test, pred_test_std)))"
   ]
  },
  {
   "cell_type": "markdown",
   "metadata": {
    "colab_type": "text",
    "id": "p5dCoVVBA5cS"
   },
   "source": [
    "As we can see, the standardization prior to the PCA definitely led to an decrease in the empirical error rate on classifying samples from test dataset."
   ]
  },
  {
   "cell_type": "markdown",
   "metadata": {
    "colab_type": "text",
    "id": "YIhA2XFAA5cS"
   },
   "source": [
    "\n",
    "# Feature transformations\n",
    "\n",
    "### Normalization and changing distribution\n",
    "\n",
    "Monotonic feature transformation is critical for some algorithms and has no effect on others. This is one of the reasons for the increased popularity of decision trees and all its derivative algorithms (random forest, gradient boosting). Not everyone can or want to tinker with transformations, and these algorithms are robust to unusual distributions.\n",
    "\n",
    "There are also purely engineering reasons: `np.log` is a way of dealing with large numbers that do not fit in `np.float64`. This is an exception rather than a rule; often it's driven by the desire to adapt the dataset to the requirements of the algorithm. Parametric methods usually require a minimum of symmetric and unimodal distribution of data, which is not always given in real data. There may be more stringent requirements; recall [our earlier article about linear models](https://medium.com/open-machine-learning-course/open-machine-learning-course-topic-4-linear-classification-and-regression-44a41b9b5220).\n",
    "\n",
    "However, data requirements are imposed not only by parametric methods; [K nearest neighbors](https://medium.com/open-machine-learning-course/open-machine-learning-course-topic-3-classification-decision-trees-and-k-nearest-neighbors-8613c6b6d2cd) will predict complete nonsense if features are not normalized e.g. when one distribution is located in the vicinity of zero and does not go beyond (-1, 1) while the other’s range is on the order of hundreds of thousands.\n",
    "\n",
    "A simple example: suppose that the task is to predict the cost of an apartment from two variables — the distance from city center and the number of rooms. The number of rooms rarely exceeds 5 whereas the distance from city center can easily be in the thousands of meters.\n",
    "\n",
    "The simplest transformation is Standard Scaling (or Z-score normalization):\n",
    "\n",
    "$$ \\large z= \\frac{x-\\mu}{\\sigma} $$\n",
    "\n",
    "Note that Standard Scaling does not make the distribution normal in the strict sense."
   ]
  },
  {
   "cell_type": "code",
   "execution_count": 48,
   "metadata": {
    "ExecuteTime": {
     "end_time": "2018-03-15T14:06:29.382748Z",
     "start_time": "2018-03-15T14:06:29.338320Z"
    },
    "colab": {},
    "colab_type": "code",
    "id": "Ii0vJbW9A5cS",
    "outputId": "2473b257-6cac-4d2a-b4c4-a29e73ef984a"
   },
   "outputs": [
    {
     "data": {
      "text/plain": [
       "ShapiroResult(statistic=0.8661775588989258, pvalue=2.272919205418894e-28)"
      ]
     },
     "execution_count": 48,
     "metadata": {},
     "output_type": "execute_result"
    }
   ],
   "source": [
    "from sklearn.preprocessing import StandardScaler\n",
    "from scipy.stats import beta # beta es un tipo de ditribución\n",
    "from scipy.stats import shapiro\n",
    "# shapiro es un test que te dice cómo es de probable\n",
    "# que tus datos sean gaussianos\n",
    "import numpy as np\n",
    "\n",
    "data = beta(1,10).rvs(1000).reshape(-1,1)\n",
    "shapiro(data)"
   ]
  },
  {
   "cell_type": "code",
   "execution_count": 49,
   "metadata": {
    "ExecuteTime": {
     "end_time": "2018-03-15T14:06:29.509590Z",
     "start_time": "2018-03-15T14:06:29.385020Z"
    },
    "colab": {},
    "colab_type": "code",
    "id": "1GIoJ9EMA5cU",
    "outputId": "8cba4cd8-a5e1-4afa-f44d-204093db0c04"
   },
   "outputs": [
    {
     "data": {
      "text/plain": [
       "ShapiroResult(statistic=0.8661775588989258, pvalue=2.272919205418894e-28)"
      ]
     },
     "execution_count": 49,
     "metadata": {},
     "output_type": "execute_result"
    }
   ],
   "source": [
    "# Value of the statistic, p-value\n",
    "shapiro(StandardScaler().fit_transform(data))\n",
    "\n",
    "# we reject H0, they are not Gaussian"
   ]
  },
  {
   "cell_type": "markdown",
   "metadata": {},
   "source": [
    "Hipótesis nula: $\\sf{H_{0}}$\n",
    "Es la hipótesis por que aceptamos o rechazamos. En este caso: los datos vienen de una Gaussiana.\n",
    "El p-valor es un estadístico que nos dice si es probable que la hipótesis nula sea cierta o sea falsa.\n",
    "Si p-valor <= 0.05 entonces rechazo $\\sf{H_{0}}$ "
   ]
  },
  {
   "cell_type": "markdown",
   "metadata": {
    "colab_type": "text",
    "id": "WTXNfTkVA5cW"
   },
   "source": [
    "But, to some extent, it protects against outliers:"
   ]
  },
  {
   "cell_type": "code",
   "execution_count": 84,
   "metadata": {},
   "outputs": [
    {
     "data": {
      "text/plain": [
       "array([[1],\n",
       "       [2],\n",
       "       [3],\n",
       "       [4],\n",
       "       [5]])"
      ]
     },
     "execution_count": 84,
     "metadata": {},
     "output_type": "execute_result"
    }
   ],
   "source": [
    "prueba = np.array([1,2,3,4,5]).reshape(-1,1)  # poner un menos es \"calcúlalo tú\"\n",
    "prueba"
   ]
  },
  {
   "cell_type": "code",
   "execution_count": 65,
   "metadata": {},
   "outputs": [
    {
     "data": {
      "text/plain": [
       "(5,)"
      ]
     },
     "execution_count": 65,
     "metadata": {},
     "output_type": "execute_result"
    }
   ],
   "source": [
    "np.array([1,2,3,4,5]).shape"
   ]
  },
  {
   "cell_type": "code",
   "execution_count": 66,
   "metadata": {},
   "outputs": [
    {
     "data": {
      "text/plain": [
       "(5, 1)"
      ]
     },
     "execution_count": 66,
     "metadata": {},
     "output_type": "execute_result"
    }
   ],
   "source": [
    "prueba.shape"
   ]
  },
  {
   "cell_type": "code",
   "execution_count": 85,
   "metadata": {},
   "outputs": [
    {
     "data": {
      "text/plain": [
       "array([[-0.31922662],\n",
       "       [-0.31922662],\n",
       "       [-0.35434155],\n",
       "       [-0.38945648],\n",
       "       [-0.28411169],\n",
       "       [-0.31922662],\n",
       "       [-0.28411169],\n",
       "       [-0.24899676],\n",
       "       [-0.42457141],\n",
       "       [-0.21388184],\n",
       "       [ 3.15715128]])"
      ]
     },
     "execution_count": 85,
     "metadata": {},
     "output_type": "execute_result"
    }
   ],
   "source": [
    "data = np.array([1,1,0,-1,2,1,2,3,-2,4,100]).reshape(-1,1).astype(np.float64)\n",
    "StandardScaler().fit_transform(data)"
   ]
  },
  {
   "cell_type": "code",
   "execution_count": 86,
   "metadata": {},
   "outputs": [
    {
     "data": {
      "text/plain": [
       "array([[-0.31922662],\n",
       "       [-0.31922662],\n",
       "       [-0.35434155],\n",
       "       [-0.38945648],\n",
       "       [-0.28411169],\n",
       "       [-0.31922662],\n",
       "       [-0.28411169],\n",
       "       [-0.24899676],\n",
       "       [-0.42457141],\n",
       "       [-0.21388184],\n",
       "       [ 3.15715128]])"
      ]
     },
     "execution_count": 86,
     "metadata": {},
     "output_type": "execute_result"
    }
   ],
   "source": [
    "(data - data.mean())/data.std()"
   ]
  },
  {
   "cell_type": "code",
   "execution_count": null,
   "metadata": {},
   "outputs": [],
   "source": []
  },
  {
   "cell_type": "code",
   "execution_count": null,
   "metadata": {},
   "outputs": [],
   "source": []
  },
  {
   "cell_type": "code",
   "execution_count": null,
   "metadata": {
    "ExecuteTime": {
     "end_time": "2018-03-15T14:06:29.602528Z",
     "start_time": "2018-03-15T14:06:29.511150Z"
    },
    "colab": {},
    "colab_type": "code",
    "id": "mXGrFSuSA5cW",
    "outputId": "1f6e8858-22b5-4849-f7a1-eff91b93b44a"
   },
   "outputs": [],
   "source": []
  },
  {
   "cell_type": "code",
   "execution_count": null,
   "metadata": {
    "ExecuteTime": {
     "end_time": "2018-03-15T14:06:29.713603Z",
     "start_time": "2018-03-15T14:06:29.605288Z"
    },
    "colab": {},
    "colab_type": "code",
    "id": "Ucv29P_NA5cY",
    "outputId": "c6990fe9-2c3a-4386-ee0f-f4078c1278a3"
   },
   "outputs": [],
   "source": []
  },
  {
   "cell_type": "markdown",
   "metadata": {
    "colab_type": "text",
    "id": "DAVi_YpfA5cZ"
   },
   "source": [
    "Another fairly popular option is MinMax Scaling, which brings all the points within a predetermined interval (typically (0, 1)).\n",
    "\n",
    "$$ \\large X_{norm}=\\frac{X-X_{min}}{X_{max}-X_{min}} $$"
   ]
  },
  {
   "cell_type": "code",
   "execution_count": 50,
   "metadata": {
    "ExecuteTime": {
     "end_time": "2018-03-15T14:06:29.855619Z",
     "start_time": "2018-03-15T14:06:29.716000Z"
    },
    "colab": {},
    "colab_type": "code",
    "id": "Jb-cyaDiA5ca",
    "outputId": "3ff69e57-e9f4-4395-dc30-d2e3878bf2e7"
   },
   "outputs": [
    {
     "data": {
      "text/plain": [
       "array([[1.59215394e-01],\n",
       "       [1.10697942e-01],\n",
       "       [2.10942129e-01],\n",
       "       [7.19027656e-02],\n",
       "       [3.75383027e-01],\n",
       "       [3.47844318e-02],\n",
       "       [5.05295298e-01],\n",
       "       [5.73738012e-01],\n",
       "       [2.67120753e-01],\n",
       "       [2.25301086e-01],\n",
       "       [6.21169407e-02],\n",
       "       [2.63866062e-01],\n",
       "       [1.37344197e-01],\n",
       "       [1.32784570e-01],\n",
       "       [5.12330767e-01],\n",
       "       [1.79420068e-02],\n",
       "       [3.82117416e-02],\n",
       "       [2.33937634e-02],\n",
       "       [4.77098344e-02],\n",
       "       [6.55540510e-02],\n",
       "       [2.70539401e-01],\n",
       "       [2.97242179e-02],\n",
       "       [1.73278139e-02],\n",
       "       [5.42479446e-01],\n",
       "       [1.31460576e-01],\n",
       "       [5.80769426e-02],\n",
       "       [1.08803402e-01],\n",
       "       [1.19391765e-01],\n",
       "       [2.11986758e-01],\n",
       "       [3.99322803e-01],\n",
       "       [1.83557320e-01],\n",
       "       [5.66786558e-01],\n",
       "       [2.14587318e-03],\n",
       "       [4.35663447e-01],\n",
       "       [1.42747196e-01],\n",
       "       [5.48110514e-02],\n",
       "       [5.37646128e-01],\n",
       "       [1.61429134e-01],\n",
       "       [3.68774324e-01],\n",
       "       [4.39995220e-02],\n",
       "       [1.57102822e-01],\n",
       "       [7.73282833e-02],\n",
       "       [6.79589982e-01],\n",
       "       [7.93390431e-02],\n",
       "       [1.70442279e-01],\n",
       "       [1.49916937e-01],\n",
       "       [8.19186650e-02],\n",
       "       [9.82594141e-02],\n",
       "       [3.41228188e-02],\n",
       "       [1.46700865e-01],\n",
       "       [5.34402012e-02],\n",
       "       [5.22961199e-01],\n",
       "       [7.86333463e-02],\n",
       "       [9.40357998e-02],\n",
       "       [5.19163601e-01],\n",
       "       [6.90874126e-02],\n",
       "       [1.53609120e-01],\n",
       "       [7.34529666e-02],\n",
       "       [1.46509242e-01],\n",
       "       [2.96344663e-01],\n",
       "       [3.99644217e-02],\n",
       "       [4.23027297e-02],\n",
       "       [6.34534910e-02],\n",
       "       [3.18285439e-01],\n",
       "       [1.48839439e-01],\n",
       "       [1.03978597e-02],\n",
       "       [5.85397136e-01],\n",
       "       [1.81012265e-01],\n",
       "       [3.46799467e-02],\n",
       "       [3.01024063e-02],\n",
       "       [7.15904325e-02],\n",
       "       [3.18632123e-01],\n",
       "       [2.33258648e-02],\n",
       "       [1.08125244e-01],\n",
       "       [1.05330405e-02],\n",
       "       [4.49951954e-02],\n",
       "       [8.93571956e-02],\n",
       "       [2.14920318e-01],\n",
       "       [2.60514166e-01],\n",
       "       [4.87983313e-01],\n",
       "       [4.34682228e-01],\n",
       "       [1.62374448e-01],\n",
       "       [1.94368086e-01],\n",
       "       [8.42255323e-02],\n",
       "       [1.35758835e-01],\n",
       "       [3.51499608e-02],\n",
       "       [6.55439674e-02],\n",
       "       [8.80795573e-02],\n",
       "       [8.84723345e-02],\n",
       "       [1.99817731e-02],\n",
       "       [7.13451957e-01],\n",
       "       [1.10907060e-01],\n",
       "       [8.72838477e-02],\n",
       "       [3.07631830e-01],\n",
       "       [4.80087208e-01],\n",
       "       [3.25316601e-01],\n",
       "       [1.35832496e-01],\n",
       "       [2.59232564e-02],\n",
       "       [3.33055498e-02],\n",
       "       [1.65282476e-01],\n",
       "       [1.75784910e-01],\n",
       "       [9.90991436e-02],\n",
       "       [7.59323166e-02],\n",
       "       [4.61998549e-02],\n",
       "       [5.47226996e-03],\n",
       "       [9.13115523e-02],\n",
       "       [1.13202952e-01],\n",
       "       [6.64155610e-02],\n",
       "       [4.58508189e-01],\n",
       "       [2.40909806e-01],\n",
       "       [3.11456154e-02],\n",
       "       [3.31017241e-02],\n",
       "       [5.27718313e-02],\n",
       "       [4.10245328e-01],\n",
       "       [1.21044191e-01],\n",
       "       [1.92425300e-01],\n",
       "       [1.68680020e-01],\n",
       "       [7.51237719e-02],\n",
       "       [4.21065535e-01],\n",
       "       [7.06076048e-02],\n",
       "       [5.42589158e-01],\n",
       "       [3.32754697e-01],\n",
       "       [3.41406675e-01],\n",
       "       [3.42960672e-01],\n",
       "       [2.35426284e-01],\n",
       "       [3.29675226e-01],\n",
       "       [4.26262575e-01],\n",
       "       [2.07134667e-01],\n",
       "       [2.11686228e-02],\n",
       "       [3.88117903e-01],\n",
       "       [6.65784126e-02],\n",
       "       [5.12796763e-01],\n",
       "       [2.84301763e-01],\n",
       "       [2.91306348e-01],\n",
       "       [1.29273233e-01],\n",
       "       [1.31743215e-01],\n",
       "       [3.60885216e-01],\n",
       "       [2.58068136e-01],\n",
       "       [4.80059638e-01],\n",
       "       [1.21020720e-01],\n",
       "       [1.32597521e-01],\n",
       "       [2.42378182e-01],\n",
       "       [7.13738681e-02],\n",
       "       [5.95927054e-02],\n",
       "       [9.97946941e-02],\n",
       "       [4.48769349e-01],\n",
       "       [6.77694937e-01],\n",
       "       [2.04228845e-01],\n",
       "       [5.63747179e-01],\n",
       "       [6.90408560e-03],\n",
       "       [3.61604081e-02],\n",
       "       [4.31051100e-02],\n",
       "       [2.15478274e-02],\n",
       "       [2.95523930e-02],\n",
       "       [2.01213747e-01],\n",
       "       [1.68776482e-01],\n",
       "       [5.40480841e-02],\n",
       "       [1.36352439e-01],\n",
       "       [8.26839386e-02],\n",
       "       [9.78765074e-02],\n",
       "       [4.24904242e-01],\n",
       "       [1.15774539e-01],\n",
       "       [5.55459430e-02],\n",
       "       [5.02402080e-03],\n",
       "       [1.24608117e-01],\n",
       "       [2.28191480e-01],\n",
       "       [7.16388635e-02],\n",
       "       [8.16746267e-02],\n",
       "       [2.95201004e-01],\n",
       "       [1.73229813e-01],\n",
       "       [6.27708986e-02],\n",
       "       [9.30427923e-02],\n",
       "       [1.54438731e-01],\n",
       "       [3.01163052e-01],\n",
       "       [6.65442042e-02],\n",
       "       [5.18504541e-01],\n",
       "       [5.94563376e-01],\n",
       "       [3.24310194e-02],\n",
       "       [1.10955548e-01],\n",
       "       [1.71968043e-01],\n",
       "       [2.69067576e-01],\n",
       "       [2.06613114e-01],\n",
       "       [2.40394571e-02],\n",
       "       [4.64185659e-02],\n",
       "       [1.68112616e-02],\n",
       "       [2.65802923e-01],\n",
       "       [1.68420730e-02],\n",
       "       [1.76551488e-01],\n",
       "       [2.84796754e-01],\n",
       "       [1.41025608e-01],\n",
       "       [8.03832154e-02],\n",
       "       [1.73449976e-01],\n",
       "       [3.16939416e-01],\n",
       "       [3.09251828e-01],\n",
       "       [2.43203441e-01],\n",
       "       [3.38234181e-02],\n",
       "       [6.12898894e-02],\n",
       "       [1.79351590e-01],\n",
       "       [2.19466676e-01],\n",
       "       [3.86944097e-02],\n",
       "       [1.22894431e-02],\n",
       "       [1.27943553e-02],\n",
       "       [1.97384612e-01],\n",
       "       [5.08408706e-01],\n",
       "       [1.59701662e-01],\n",
       "       [1.61975212e-01],\n",
       "       [1.75716319e-01],\n",
       "       [7.78380210e-02],\n",
       "       [1.37891979e-01],\n",
       "       [4.38351791e-01],\n",
       "       [1.79232923e-01],\n",
       "       [5.60700641e-01],\n",
       "       [1.71149665e-02],\n",
       "       [3.84616254e-01],\n",
       "       [2.68092881e-01],\n",
       "       [4.53804355e-01],\n",
       "       [8.49445932e-02],\n",
       "       [4.54427210e-01],\n",
       "       [5.11546560e-02],\n",
       "       [3.79107164e-02],\n",
       "       [8.10850172e-01],\n",
       "       [1.76994318e-01],\n",
       "       [1.72417771e-01],\n",
       "       [1.74696221e-01],\n",
       "       [3.60220558e-02],\n",
       "       [4.49448529e-02],\n",
       "       [1.57388272e-01],\n",
       "       [6.84891429e-02],\n",
       "       [1.82247806e-01],\n",
       "       [1.82364545e-01],\n",
       "       [1.60690665e-02],\n",
       "       [1.52768497e-01],\n",
       "       [3.96258374e-01],\n",
       "       [1.91452744e-01],\n",
       "       [6.26475644e-02],\n",
       "       [4.09993793e-02],\n",
       "       [1.96514462e-01],\n",
       "       [2.80180724e-02],\n",
       "       [1.05110047e-01],\n",
       "       [3.68162555e-01],\n",
       "       [1.87380831e-01],\n",
       "       [4.79106841e-01],\n",
       "       [0.00000000e+00],\n",
       "       [3.72689806e-02],\n",
       "       [4.23313650e-03],\n",
       "       [2.92119448e-01],\n",
       "       [4.69641769e-02],\n",
       "       [3.53556584e-01],\n",
       "       [1.05313696e-01],\n",
       "       [6.12513673e-02],\n",
       "       [9.44549994e-02],\n",
       "       [1.70985959e-01],\n",
       "       [2.96806178e-01],\n",
       "       [2.85765306e-01],\n",
       "       [2.54576253e-01],\n",
       "       [6.47413839e-02],\n",
       "       [2.21790992e-01],\n",
       "       [1.24309914e-01],\n",
       "       [2.21925498e-01],\n",
       "       [5.53438214e-02],\n",
       "       [8.19020712e-03],\n",
       "       [2.93440602e-01],\n",
       "       [5.78295296e-01],\n",
       "       [1.55426478e-01],\n",
       "       [2.35568698e-02],\n",
       "       [1.03326227e-01],\n",
       "       [2.70319672e-01],\n",
       "       [1.33121556e-01],\n",
       "       [1.33299087e-01],\n",
       "       [4.78411485e-01],\n",
       "       [3.05008514e-01],\n",
       "       [2.45595650e-01],\n",
       "       [1.23639561e-01],\n",
       "       [3.10107776e-01],\n",
       "       [2.82787821e-01],\n",
       "       [1.49425267e-01],\n",
       "       [1.65516900e-02],\n",
       "       [5.22695608e-02],\n",
       "       [1.17487440e-01],\n",
       "       [3.82671197e-03],\n",
       "       [2.30065029e-02],\n",
       "       [1.28914770e-01],\n",
       "       [4.69021509e-02],\n",
       "       [4.55906816e-01],\n",
       "       [1.76690254e-01],\n",
       "       [1.57260184e-01],\n",
       "       [1.24004799e-01],\n",
       "       [1.71999071e-01],\n",
       "       [4.90698879e-01],\n",
       "       [3.18054531e-01],\n",
       "       [4.16043004e-01],\n",
       "       [1.60208055e-01],\n",
       "       [3.42165780e-01],\n",
       "       [5.61314916e-02],\n",
       "       [4.16563630e-01],\n",
       "       [1.74467174e-01],\n",
       "       [1.08340125e-01],\n",
       "       [1.41872799e-01],\n",
       "       [4.93164504e-01],\n",
       "       [2.51914332e-01],\n",
       "       [1.99909916e-01],\n",
       "       [1.83555342e-01],\n",
       "       [6.83543746e-01],\n",
       "       [7.62270197e-02],\n",
       "       [1.86323637e-01],\n",
       "       [5.38040185e-02],\n",
       "       [3.33372919e-01],\n",
       "       [3.55106659e-01],\n",
       "       [5.09579836e-01],\n",
       "       [1.86771616e-01],\n",
       "       [2.72614117e-02],\n",
       "       [8.39326049e-01],\n",
       "       [2.61813922e-02],\n",
       "       [1.52283222e-01],\n",
       "       [3.66878145e-01],\n",
       "       [2.26328027e-01],\n",
       "       [1.84255170e-01],\n",
       "       [2.27224339e-02],\n",
       "       [6.87525549e-02],\n",
       "       [1.21964062e-01],\n",
       "       [3.58957102e-02],\n",
       "       [4.42739763e-02],\n",
       "       [3.90030846e-01],\n",
       "       [2.94500888e-01],\n",
       "       [2.08703943e-01],\n",
       "       [1.39413000e-02],\n",
       "       [3.55555975e-01],\n",
       "       [3.59607893e-02],\n",
       "       [2.30178033e-02],\n",
       "       [4.26222116e-02],\n",
       "       [2.85786720e-01],\n",
       "       [1.17013121e-01],\n",
       "       [5.61025446e-02],\n",
       "       [2.47748832e-01],\n",
       "       [2.95734662e-02],\n",
       "       [1.80667437e-01],\n",
       "       [5.00061846e-03],\n",
       "       [9.97078017e-02],\n",
       "       [8.29533012e-02],\n",
       "       [4.16825899e-01],\n",
       "       [5.83149822e-01],\n",
       "       [4.43232152e-02],\n",
       "       [7.82407393e-02],\n",
       "       [4.81648222e-02],\n",
       "       [1.14306331e-01],\n",
       "       [4.50059553e-01],\n",
       "       [1.27142832e-01],\n",
       "       [2.75583373e-02],\n",
       "       [1.19516331e-01],\n",
       "       [1.45700321e-01],\n",
       "       [2.85925978e-01],\n",
       "       [5.59530474e-01],\n",
       "       [6.03967845e-01],\n",
       "       [5.15823567e-01],\n",
       "       [3.97084387e-01],\n",
       "       [1.70092216e-02],\n",
       "       [3.18786682e-01],\n",
       "       [3.22461148e-02],\n",
       "       [2.62435808e-02],\n",
       "       [7.91345700e-02],\n",
       "       [3.65323487e-01],\n",
       "       [3.65530355e-01],\n",
       "       [8.62883457e-02],\n",
       "       [8.09036694e-01],\n",
       "       [2.70847161e-01],\n",
       "       [3.33652487e-01],\n",
       "       [6.03198431e-02],\n",
       "       [6.02197547e-03],\n",
       "       [4.27926269e-02],\n",
       "       [1.67226565e-01],\n",
       "       [1.40083889e-01],\n",
       "       [7.86656487e-02],\n",
       "       [5.49297385e-02],\n",
       "       [1.66551853e-01],\n",
       "       [1.13869725e-01],\n",
       "       [3.00090507e-02],\n",
       "       [6.04552063e-02],\n",
       "       [2.93006970e-01],\n",
       "       [6.40377477e-02],\n",
       "       [1.29046645e-01],\n",
       "       [1.98336581e-01],\n",
       "       [2.24589561e-01],\n",
       "       [7.11297799e-02],\n",
       "       [6.58399839e-02],\n",
       "       [4.34459939e-01],\n",
       "       [2.41982176e-01],\n",
       "       [8.03288616e-02],\n",
       "       [7.46982955e-02],\n",
       "       [2.81663547e-02],\n",
       "       [7.53305884e-02],\n",
       "       [3.41900225e-01],\n",
       "       [4.59437137e-01],\n",
       "       [2.43288545e-01],\n",
       "       [3.63993674e-01],\n",
       "       [2.33101924e-01],\n",
       "       [6.44458466e-02],\n",
       "       [1.49776092e-01],\n",
       "       [2.32777796e-01],\n",
       "       [7.50163742e-02],\n",
       "       [2.00370105e-01],\n",
       "       [4.25163988e-02],\n",
       "       [1.25063352e-01],\n",
       "       [2.28161617e-01],\n",
       "       [2.20530227e-02],\n",
       "       [1.78355460e-01],\n",
       "       [2.77455053e-02],\n",
       "       [8.75427878e-02],\n",
       "       [5.41713194e-02],\n",
       "       [1.25224674e-01],\n",
       "       [2.65797833e-01],\n",
       "       [4.91697094e-01],\n",
       "       [4.16592179e-02],\n",
       "       [5.95432984e-03],\n",
       "       [5.38583640e-03],\n",
       "       [2.23969998e-01],\n",
       "       [3.55544296e-01],\n",
       "       [2.64778372e-01],\n",
       "       [4.26862759e-02],\n",
       "       [2.10091526e-02],\n",
       "       [1.51694167e-01],\n",
       "       [6.63450192e-02],\n",
       "       [1.86622793e-03],\n",
       "       [4.20100718e-01],\n",
       "       [4.76472048e-01],\n",
       "       [3.56795803e-02],\n",
       "       [5.73533425e-01],\n",
       "       [8.22068527e-03],\n",
       "       [3.22708565e-01],\n",
       "       [2.70811057e-01],\n",
       "       [8.12116954e-02],\n",
       "       [2.56520403e-01],\n",
       "       [4.54948713e-01],\n",
       "       [1.17060080e-01],\n",
       "       [2.03217746e-01],\n",
       "       [2.14667905e-01],\n",
       "       [5.80061082e-01],\n",
       "       [5.90950289e-02],\n",
       "       [1.85455804e-01],\n",
       "       [4.62394433e-03],\n",
       "       [2.83830636e-02],\n",
       "       [1.98184095e-01],\n",
       "       [8.86160321e-02],\n",
       "       [6.17322327e-02],\n",
       "       [1.69849913e-01],\n",
       "       [2.37868807e-01],\n",
       "       [3.80685146e-02],\n",
       "       [7.09149707e-02],\n",
       "       [4.91838163e-02],\n",
       "       [1.39575363e-01],\n",
       "       [2.83676152e-02],\n",
       "       [8.89605478e-02],\n",
       "       [8.63403352e-02],\n",
       "       [2.79967369e-03],\n",
       "       [5.78720121e-01],\n",
       "       [2.58697841e-01],\n",
       "       [1.93103042e-01],\n",
       "       [2.57242299e-02],\n",
       "       [2.83409556e-01],\n",
       "       [6.84807172e-01],\n",
       "       [1.41009530e-01],\n",
       "       [3.41551880e-01],\n",
       "       [8.96230976e-02],\n",
       "       [3.63643414e-02],\n",
       "       [2.30246831e-01],\n",
       "       [8.10794896e-02],\n",
       "       [1.13493669e-02],\n",
       "       [4.70587657e-01],\n",
       "       [4.72422267e-02],\n",
       "       [2.19435555e-01],\n",
       "       [1.66658099e-01],\n",
       "       [2.37925270e-03],\n",
       "       [1.52108258e-01],\n",
       "       [7.96131783e-02],\n",
       "       [3.21060323e-01],\n",
       "       [9.49312538e-02],\n",
       "       [1.66696669e-01],\n",
       "       [3.37068858e-02],\n",
       "       [2.64181628e-01],\n",
       "       [1.55555006e-02],\n",
       "       [1.71282438e-02],\n",
       "       [3.05469254e-01],\n",
       "       [8.46710282e-03],\n",
       "       [2.03140667e-02],\n",
       "       [4.40267931e-01],\n",
       "       [3.04618791e-03],\n",
       "       [1.51591363e-01],\n",
       "       [2.12453479e-01],\n",
       "       [3.41672596e-01],\n",
       "       [2.75588311e-01],\n",
       "       [1.83513055e-02],\n",
       "       [3.16429108e-02],\n",
       "       [1.51195200e-02],\n",
       "       [3.92518279e-02],\n",
       "       [2.93974070e-01],\n",
       "       [1.33554224e-01],\n",
       "       [3.97326336e-02],\n",
       "       [8.75937627e-02],\n",
       "       [5.83482863e-02],\n",
       "       [3.48252031e-02],\n",
       "       [2.33767427e-02],\n",
       "       [2.73034196e-02],\n",
       "       [2.91418451e-01],\n",
       "       [2.84105870e-01],\n",
       "       [4.39320799e-01],\n",
       "       [1.20858841e-01],\n",
       "       [1.97316285e-01],\n",
       "       [1.19162693e-01],\n",
       "       [3.52973263e-01],\n",
       "       [4.06221994e-02],\n",
       "       [5.49119553e-02],\n",
       "       [3.11861659e-01],\n",
       "       [8.19189840e-02],\n",
       "       [1.51855237e-01],\n",
       "       [1.05407649e-01],\n",
       "       [2.34795908e-02],\n",
       "       [3.99367321e-01],\n",
       "       [3.61758237e-01],\n",
       "       [3.45588703e-01],\n",
       "       [6.58113698e-02],\n",
       "       [1.18690739e-01],\n",
       "       [1.42515810e-01],\n",
       "       [4.03424056e-02],\n",
       "       [1.36935667e-01],\n",
       "       [1.48695059e-02],\n",
       "       [9.98903431e-02],\n",
       "       [4.03510898e-02],\n",
       "       [1.32273627e-01],\n",
       "       [1.02037549e-01],\n",
       "       [3.26995737e-01],\n",
       "       [5.85811984e-01],\n",
       "       [8.82895350e-02],\n",
       "       [1.38266159e-01],\n",
       "       [4.66462156e-01],\n",
       "       [2.58574631e-02],\n",
       "       [6.88659450e-02],\n",
       "       [3.52029840e-01],\n",
       "       [1.30087129e-01],\n",
       "       [4.06849294e-02],\n",
       "       [1.30171857e-03],\n",
       "       [2.62348378e-01],\n",
       "       [1.31746976e-01],\n",
       "       [1.31511374e-01],\n",
       "       [4.84587707e-02],\n",
       "       [4.77324665e-02],\n",
       "       [3.81427476e-02],\n",
       "       [5.18514121e-02],\n",
       "       [2.26330526e-01],\n",
       "       [1.06719360e-02],\n",
       "       [7.36523104e-02],\n",
       "       [1.17274905e-01],\n",
       "       [7.87743425e-02],\n",
       "       [1.58441519e-01],\n",
       "       [3.18455020e-02],\n",
       "       [1.14692579e-01],\n",
       "       [1.01677359e-01],\n",
       "       [1.84962372e-01],\n",
       "       [2.77994738e-01],\n",
       "       [1.04333657e-02],\n",
       "       [1.55599200e-01],\n",
       "       [2.06382082e-02],\n",
       "       [7.85673232e-02],\n",
       "       [3.21042175e-01],\n",
       "       [1.91520696e-01],\n",
       "       [7.68928444e-02],\n",
       "       [7.01376699e-01],\n",
       "       [1.41854365e-01],\n",
       "       [4.53777949e-01],\n",
       "       [2.16010936e-01],\n",
       "       [3.53620352e-01],\n",
       "       [6.25606482e-02],\n",
       "       [1.26290922e-01],\n",
       "       [4.97742426e-01],\n",
       "       [6.28841480e-02],\n",
       "       [1.54211742e-03],\n",
       "       [1.40619902e-01],\n",
       "       [1.06073110e-02],\n",
       "       [3.76355006e-01],\n",
       "       [2.71180881e-01],\n",
       "       [1.16814434e-01],\n",
       "       [4.77250955e-01],\n",
       "       [7.79276785e-02],\n",
       "       [1.23242206e-01],\n",
       "       [2.73785169e-01],\n",
       "       [1.58456413e-02],\n",
       "       [1.78208361e-01],\n",
       "       [5.93409329e-02],\n",
       "       [1.56610008e-01],\n",
       "       [1.85003840e-01],\n",
       "       [5.29846191e-01],\n",
       "       [4.28242417e-03],\n",
       "       [2.28238327e-01],\n",
       "       [8.70406906e-02],\n",
       "       [3.15808851e-02],\n",
       "       [2.99763921e-01],\n",
       "       [4.57985122e-01],\n",
       "       [1.27035879e-01],\n",
       "       [1.26309986e-01],\n",
       "       [3.47001110e-01],\n",
       "       [6.68766543e-01],\n",
       "       [8.52177523e-02],\n",
       "       [5.98227151e-02],\n",
       "       [1.00036274e-01],\n",
       "       [2.11173067e-01],\n",
       "       [4.22262488e-02],\n",
       "       [1.42843603e-01],\n",
       "       [9.13616350e-02],\n",
       "       [1.69285116e-01],\n",
       "       [1.29536116e-01],\n",
       "       [5.13619164e-01],\n",
       "       [4.28734110e-02],\n",
       "       [4.70253963e-02],\n",
       "       [2.81197606e-02],\n",
       "       [3.47543861e-03],\n",
       "       [1.14416495e-01],\n",
       "       [5.23212911e-02],\n",
       "       [1.86341439e-02],\n",
       "       [1.37059116e-01],\n",
       "       [1.32961998e-02],\n",
       "       [5.00113807e-02],\n",
       "       [5.45398439e-02],\n",
       "       [5.94416146e-02],\n",
       "       [9.11336480e-02],\n",
       "       [1.02443734e-01],\n",
       "       [3.77057574e-01],\n",
       "       [6.46440015e-02],\n",
       "       [1.42171848e-01],\n",
       "       [2.40632293e-01],\n",
       "       [4.47059148e-01],\n",
       "       [7.26619199e-03],\n",
       "       [6.05528799e-02],\n",
       "       [2.92075091e-01],\n",
       "       [1.67819763e-02],\n",
       "       [1.72920095e-01],\n",
       "       [2.13283522e-01],\n",
       "       [3.38587371e-02],\n",
       "       [5.66363969e-03],\n",
       "       [1.98581911e-02],\n",
       "       [2.08359673e-01],\n",
       "       [1.76112106e-02],\n",
       "       [2.62145631e-01],\n",
       "       [4.05494421e-01],\n",
       "       [1.50718828e-01],\n",
       "       [3.81243135e-01],\n",
       "       [3.83593434e-01],\n",
       "       [4.67702474e-01],\n",
       "       [1.95686635e-01],\n",
       "       [4.95707089e-02],\n",
       "       [9.02052770e-02],\n",
       "       [1.84621495e-01],\n",
       "       [7.11488572e-02],\n",
       "       [1.59457621e-01],\n",
       "       [8.41492405e-02],\n",
       "       [1.48520642e-01],\n",
       "       [3.38241587e-01],\n",
       "       [2.15199435e-01],\n",
       "       [2.65224527e-02],\n",
       "       [4.39673071e-01],\n",
       "       [1.50860312e-01],\n",
       "       [1.83657574e-01],\n",
       "       [1.22180270e-01],\n",
       "       [4.25463911e-02],\n",
       "       [1.40558486e-01],\n",
       "       [1.45829964e-01],\n",
       "       [6.53046676e-01],\n",
       "       [2.33633564e-01],\n",
       "       [2.39266065e-01],\n",
       "       [5.99244160e-02],\n",
       "       [5.36632142e-01],\n",
       "       [1.25716756e-01],\n",
       "       [8.51342659e-02],\n",
       "       [6.82183005e-02],\n",
       "       [6.30022004e-02],\n",
       "       [6.82150610e-02],\n",
       "       [4.77820552e-01],\n",
       "       [4.24644904e-01],\n",
       "       [8.07316492e-02],\n",
       "       [1.63954253e-01],\n",
       "       [5.51131501e-02],\n",
       "       [1.90717810e-01],\n",
       "       [2.13208106e-01],\n",
       "       [3.50002294e-01],\n",
       "       [1.79489967e-02],\n",
       "       [1.30397442e-01],\n",
       "       [3.18616639e-01],\n",
       "       [7.77587032e-02],\n",
       "       [9.45281792e-02],\n",
       "       [7.65178829e-02],\n",
       "       [3.94857747e-01],\n",
       "       [1.07592685e-01],\n",
       "       [1.25737403e-01],\n",
       "       [5.62172424e-02],\n",
       "       [3.46754033e-01],\n",
       "       [2.93873991e-01],\n",
       "       [1.50782807e-01],\n",
       "       [1.97297678e-01],\n",
       "       [3.32821073e-01],\n",
       "       [8.48915899e-02],\n",
       "       [6.92467994e-01],\n",
       "       [3.93070329e-02],\n",
       "       [5.79417535e-02],\n",
       "       [2.27751698e-01],\n",
       "       [7.86583057e-02],\n",
       "       [3.91548006e-01],\n",
       "       [9.84413422e-04],\n",
       "       [9.00078444e-02],\n",
       "       [1.97866796e-01],\n",
       "       [2.80914928e-02],\n",
       "       [2.87225739e-01],\n",
       "       [6.13642640e-02],\n",
       "       [1.34298344e-01],\n",
       "       [1.29074550e-01],\n",
       "       [4.12040488e-02],\n",
       "       [2.21956818e-01],\n",
       "       [8.01515629e-02],\n",
       "       [1.68208234e-01],\n",
       "       [1.49410138e-01],\n",
       "       [1.37552627e-01],\n",
       "       [4.71296638e-01],\n",
       "       [5.50915523e-02],\n",
       "       [7.38728731e-01],\n",
       "       [1.95581613e-01],\n",
       "       [1.22973226e-01],\n",
       "       [7.48335504e-02],\n",
       "       [1.21119243e-01],\n",
       "       [4.60157198e-02],\n",
       "       [3.71977115e-01],\n",
       "       [1.24032132e-02],\n",
       "       [4.31187661e-01],\n",
       "       [4.52344830e-02],\n",
       "       [2.21558418e-01],\n",
       "       [2.94901283e-02],\n",
       "       [1.51235495e-02],\n",
       "       [1.02877231e-01],\n",
       "       [8.79959652e-02],\n",
       "       [9.29556825e-02],\n",
       "       [1.68412055e-01],\n",
       "       [9.87733237e-02],\n",
       "       [3.53416260e-01],\n",
       "       [2.72013195e-01],\n",
       "       [1.55319198e-01],\n",
       "       [6.65566509e-01],\n",
       "       [5.51297269e-02],\n",
       "       [7.22465315e-02],\n",
       "       [2.84805335e-02],\n",
       "       [2.30436320e-01],\n",
       "       [2.24707857e-01],\n",
       "       [2.39745047e-01],\n",
       "       [5.29207884e-01],\n",
       "       [3.05643706e-01],\n",
       "       [2.23388782e-02],\n",
       "       [5.81966985e-02],\n",
       "       [3.28452561e-01],\n",
       "       [3.54458926e-01],\n",
       "       [5.65126929e-02],\n",
       "       [1.56326637e-01],\n",
       "       [3.29675547e-02],\n",
       "       [2.23670769e-01],\n",
       "       [3.26686408e-02],\n",
       "       [7.78664064e-02],\n",
       "       [8.61995877e-02],\n",
       "       [1.08595080e-01],\n",
       "       [8.52575665e-03],\n",
       "       [2.85953287e-01],\n",
       "       [9.00992216e-02],\n",
       "       [1.04800136e-01],\n",
       "       [1.39713329e-02],\n",
       "       [1.27773896e-01],\n",
       "       [4.25657967e-02],\n",
       "       [1.78602025e-02],\n",
       "       [1.25123974e-01],\n",
       "       [1.86155486e-01],\n",
       "       [1.86058950e-01],\n",
       "       [6.85229013e-03],\n",
       "       [4.78669201e-02],\n",
       "       [6.22404716e-01],\n",
       "       [1.80628179e-01],\n",
       "       [2.18423418e-01],\n",
       "       [3.14725294e-01],\n",
       "       [2.88344444e-01],\n",
       "       [4.61214043e-02],\n",
       "       [4.00723318e-02],\n",
       "       [2.72826365e-01],\n",
       "       [1.61221300e-02],\n",
       "       [6.15050968e-03],\n",
       "       [2.40492468e-01],\n",
       "       [1.23048360e-01],\n",
       "       [9.89640238e-02],\n",
       "       [2.24898713e-01],\n",
       "       [1.52719219e-01],\n",
       "       [2.22391697e-01],\n",
       "       [2.52809053e-01],\n",
       "       [1.37350565e-02],\n",
       "       [1.32733034e-01],\n",
       "       [2.38058492e-01],\n",
       "       [1.39493043e-01],\n",
       "       [2.02259897e-01],\n",
       "       [7.94963050e-02],\n",
       "       [1.32744778e-02],\n",
       "       [1.52736943e-01],\n",
       "       [2.15439756e-01],\n",
       "       [9.34783607e-02],\n",
       "       [4.55466956e-01],\n",
       "       [1.69894868e-02],\n",
       "       [2.41416135e-01],\n",
       "       [1.18856666e-01],\n",
       "       [3.18506811e-01],\n",
       "       [1.37570076e-02],\n",
       "       [3.39538634e-01],\n",
       "       [2.65005587e-02],\n",
       "       [2.86105974e-01],\n",
       "       [1.83513348e-01],\n",
       "       [6.04279195e-02],\n",
       "       [3.72222084e-01],\n",
       "       [2.10339333e-02],\n",
       "       [1.70705670e-01],\n",
       "       [1.35212194e-01],\n",
       "       [3.59073564e-02],\n",
       "       [6.03386892e-02],\n",
       "       [1.35700228e-02],\n",
       "       [7.04428483e-02],\n",
       "       [6.88636677e-02],\n",
       "       [1.38411459e-01],\n",
       "       [1.23647657e-01],\n",
       "       [7.63601802e-02],\n",
       "       [1.17696708e-01],\n",
       "       [4.08180271e-02],\n",
       "       [4.62108399e-01],\n",
       "       [1.90606263e-01],\n",
       "       [1.11925079e-02],\n",
       "       [1.75359923e-01],\n",
       "       [1.00000000e+00],\n",
       "       [2.86183036e-01],\n",
       "       [5.92081163e-02],\n",
       "       [2.42209404e-01],\n",
       "       [3.72843648e-02],\n",
       "       [2.65522961e-02],\n",
       "       [4.54987518e-02],\n",
       "       [1.51657066e-01],\n",
       "       [3.47467601e-01],\n",
       "       [2.05329363e-01],\n",
       "       [1.74017185e-01],\n",
       "       [8.95027630e-02],\n",
       "       [1.69689881e-01],\n",
       "       [3.92052974e-02],\n",
       "       [1.03078060e-02],\n",
       "       [1.02609935e-02],\n",
       "       [4.05973419e-01],\n",
       "       [1.66765885e-01],\n",
       "       [2.74870023e-01],\n",
       "       [1.45132947e-01],\n",
       "       [7.56948646e-01],\n",
       "       [3.52181572e-02],\n",
       "       [1.95868850e-02],\n",
       "       [1.96890631e-01],\n",
       "       [1.44426318e-01],\n",
       "       [2.64568116e-01],\n",
       "       [2.72729531e-01],\n",
       "       [2.77212993e-02],\n",
       "       [1.46686454e-01],\n",
       "       [3.24214652e-01],\n",
       "       [5.56025482e-02],\n",
       "       [5.65379798e-01],\n",
       "       [2.35754251e-02],\n",
       "       [2.03104830e-01],\n",
       "       [4.26099486e-02],\n",
       "       [2.01576846e-02],\n",
       "       [5.87971971e-01],\n",
       "       [1.67811062e-01],\n",
       "       [2.04058348e-01],\n",
       "       [2.21944204e-02],\n",
       "       [6.82857737e-02],\n",
       "       [2.27216531e-02],\n",
       "       [3.19779431e-01],\n",
       "       [3.93956935e-02],\n",
       "       [8.76355813e-02],\n",
       "       [1.02166744e-01],\n",
       "       [2.93340962e-01],\n",
       "       [1.70341393e-01],\n",
       "       [2.27609875e-01],\n",
       "       [4.43830181e-02],\n",
       "       [1.04596723e-01],\n",
       "       [3.48671015e-03],\n",
       "       [1.17683533e-01],\n",
       "       [6.04572526e-01],\n",
       "       [1.15473594e-02],\n",
       "       [1.30776601e-01],\n",
       "       [6.17291603e-01],\n",
       "       [3.23537669e-02],\n",
       "       [3.19143273e-01],\n",
       "       [1.68847590e-01],\n",
       "       [3.44040216e-01],\n",
       "       [2.02683377e-01],\n",
       "       [5.00184284e-01],\n",
       "       [6.20924348e-02],\n",
       "       [1.29415164e-01],\n",
       "       [5.94090665e-02],\n",
       "       [2.34559336e-02],\n",
       "       [1.57425148e-01],\n",
       "       [3.70200277e-02],\n",
       "       [8.50750987e-02],\n",
       "       [4.39545637e-01],\n",
       "       [4.26294248e-01],\n",
       "       [9.62706697e-03],\n",
       "       [4.75456042e-02],\n",
       "       [6.65477501e-02],\n",
       "       [1.60626525e-01],\n",
       "       [7.03829818e-02],\n",
       "       [3.78776729e-02],\n",
       "       [7.37998474e-02],\n",
       "       [2.67463805e-03],\n",
       "       [1.45695358e-01],\n",
       "       [9.09931967e-04],\n",
       "       [2.68423216e-01],\n",
       "       [1.32533097e-01],\n",
       "       [2.41631166e-01],\n",
       "       [2.89263175e-02],\n",
       "       [2.00133222e-01],\n",
       "       [1.28281181e-02],\n",
       "       [3.78210551e-01],\n",
       "       [2.79417318e-02],\n",
       "       [1.50816899e-02],\n",
       "       [9.74450431e-02],\n",
       "       [2.87252330e-02],\n",
       "       [6.00247769e-02],\n",
       "       [8.64690769e-02],\n",
       "       [3.99006215e-01],\n",
       "       [1.80262025e-01],\n",
       "       [1.48084852e-01],\n",
       "       [7.04814730e-02],\n",
       "       [2.03317139e-01],\n",
       "       [2.59834222e-01],\n",
       "       [5.48016914e-02],\n",
       "       [4.50102578e-01],\n",
       "       [1.06346064e-01],\n",
       "       [1.04334757e-01],\n",
       "       [7.73300321e-03],\n",
       "       [2.84669646e-01],\n",
       "       [3.08469084e-01],\n",
       "       [1.75224345e-01],\n",
       "       [3.41879573e-02],\n",
       "       [5.12317736e-01],\n",
       "       [1.20874539e-01],\n",
       "       [8.88795537e-02],\n",
       "       [9.53107339e-02],\n",
       "       [1.23164559e-01],\n",
       "       [7.85710758e-02],\n",
       "       [2.52036319e-02],\n",
       "       [5.84334446e-01],\n",
       "       [2.30385230e-01],\n",
       "       [7.87332847e-01],\n",
       "       [1.89445735e-01],\n",
       "       [7.46387166e-02],\n",
       "       [7.19588443e-01],\n",
       "       [3.09052076e-01],\n",
       "       [1.42086061e-01],\n",
       "       [1.58425883e-01],\n",
       "       [1.29354577e-02],\n",
       "       [3.33104325e-01],\n",
       "       [4.46496990e-01],\n",
       "       [3.61760729e-02],\n",
       "       [1.11448591e-01],\n",
       "       [9.72111132e-02],\n",
       "       [2.44502864e-01],\n",
       "       [6.34905197e-02],\n",
       "       [2.20938364e-02],\n",
       "       [2.21357061e-01],\n",
       "       [5.28071176e-02],\n",
       "       [3.25931992e-01],\n",
       "       [1.25567310e-01],\n",
       "       [1.44269195e-01],\n",
       "       [1.21279515e-02],\n",
       "       [2.97175267e-01],\n",
       "       [2.79371427e-02],\n",
       "       [8.07093235e-02],\n",
       "       [1.51180764e-01],\n",
       "       [2.48888485e-01],\n",
       "       [1.15376533e-01],\n",
       "       [4.06482361e-01],\n",
       "       [2.99712242e-01],\n",
       "       [3.13215569e-02],\n",
       "       [9.52563625e-02],\n",
       "       [3.04142936e-01],\n",
       "       [1.82322361e-02],\n",
       "       [3.42320820e-01],\n",
       "       [5.97574900e-02],\n",
       "       [3.05637353e-02],\n",
       "       [5.93701270e-01],\n",
       "       [1.34281325e-01],\n",
       "       [1.11775346e-01],\n",
       "       [3.61806331e-01],\n",
       "       [1.61001829e-01],\n",
       "       [4.64508750e-03],\n",
       "       [1.99482128e-01],\n",
       "       [2.40110390e-03],\n",
       "       [3.43053880e-01],\n",
       "       [8.17233817e-02],\n",
       "       [2.15083728e-02],\n",
       "       [1.03050604e-01],\n",
       "       [3.29183152e-01],\n",
       "       [6.24321955e-02]])"
      ]
     },
     "execution_count": 50,
     "metadata": {},
     "output_type": "execute_result"
    }
   ],
   "source": [
    "from sklearn.preprocessing import MinMaxScaler\n",
    "\n",
    "MinMaxScaler().fit_transform(data)"
   ]
  },
  {
   "cell_type": "code",
   "execution_count": 89,
   "metadata": {
    "ExecuteTime": {
     "end_time": "2018-03-15T14:06:29.955155Z",
     "start_time": "2018-03-15T14:06:29.857042Z"
    },
    "colab": {},
    "colab_type": "code",
    "id": "ux8Gz4qkA5cb",
    "outputId": "b05664b0-d9a1-4bf4-8522-3b0b663adb3f"
   },
   "outputs": [
    {
     "data": {
      "text/plain": [
       "array([[ 1.01960784e+00],\n",
       "       [ 1.01960784e+00],\n",
       "       [ 1.96078431e-02],\n",
       "       [-9.80392157e-01],\n",
       "       [ 2.01960784e+00],\n",
       "       [ 1.01960784e+00],\n",
       "       [ 2.01960784e+00],\n",
       "       [ 3.01960784e+00],\n",
       "       [-1.98039216e+00],\n",
       "       [ 4.01960784e+00],\n",
       "       [ 1.00019608e+02]])"
      ]
     },
     "execution_count": 89,
     "metadata": {},
     "output_type": "execute_result"
    }
   ],
   "source": [
    "(data - data.min()/(data.max() - data.min()))"
   ]
  },
  {
   "cell_type": "markdown",
   "metadata": {
    "colab_type": "text",
    "id": "rVVWyc1XA5cd"
   },
   "source": [
    "StandardScaling and MinMax Scaling have similar applications and are often more or less interchangeable. However, if the algorithm involves the calculation of distances between points or vectors, the default choice is StandardScaling. But MinMax Scaling is useful for visualization by bringing features within the interval (0, 255).\n",
    "\n",
    "If we assume that some data is not normally distributed but is described by the [log-normal distribution](https://en.wikipedia.org/wiki/Log-normal_distribution), it can easily be transformed to a normal distribution:"
   ]
  },
  {
   "cell_type": "code",
   "execution_count": 51,
   "metadata": {
    "ExecuteTime": {
     "end_time": "2018-03-15T14:06:30.067680Z",
     "start_time": "2018-03-15T14:06:29.957011Z"
    },
    "colab": {},
    "colab_type": "code",
    "id": "GAtRlFUtA5cd",
    "outputId": "a690a04e-58f5-4dad-b137-b78327c23a8d"
   },
   "outputs": [
    {
     "data": {
      "text/plain": [
       "ShapiroResult(statistic=0.5690359473228455, pvalue=4.203895392974451e-44)"
      ]
     },
     "execution_count": 51,
     "metadata": {},
     "output_type": "execute_result"
    }
   ],
   "source": [
    "from scipy.stats import lognorm\n",
    "data = lognorm(s=1).rvs(1000) # no le estoy pasando la semilla\n",
    "shapiro(data)"
   ]
  },
  {
   "cell_type": "code",
   "execution_count": 52,
   "metadata": {
    "ExecuteTime": {
     "end_time": "2018-03-15T14:06:30.180348Z",
     "start_time": "2018-03-15T14:06:30.069180Z"
    },
    "colab": {},
    "colab_type": "code",
    "id": "bX9QqUi-A5cg",
    "outputId": "2c9e38a5-0353-4e9c-e640-f3d1119d7038"
   },
   "outputs": [
    {
     "data": {
      "text/plain": [
       "ShapiroResult(statistic=0.9985306262969971, pvalue=0.574731707572937)"
      ]
     },
     "execution_count": 52,
     "metadata": {},
     "output_type": "execute_result"
    }
   ],
   "source": [
    "shapiro(np.log(data))  #  lognormal "
   ]
  },
  {
   "cell_type": "markdown",
   "metadata": {
    "colab_type": "text",
    "id": "qD8MpPp4A5ch"
   },
   "source": [
    "The lognormal distribution is suitable for describing salaries, price of securities, urban population, number of comments on articles on the internet, etc. However, to apply this procedure, the underlying distribution does not necessarily have to be lognormal; you can try to apply this transformation to any distribution with a heavy right tail. Furthermore, one can try to use other similar transformations, formulating their own hypotheses on how to approximate the available distribution to a normal. Examples of such transformations are [Box-Cox transformation](https://docs.scipy.org/doc/scipy/reference/generated/scipy.stats.boxcox.html) (logarithm is a special case of the Box-Cox transformation) or [Yeo-Johnson transformation](https://gist.github.com/mesgarpour/f24769cd186e2db853957b10ff6b7a95) (extends the range of applicability to negative numbers). In addition, you can also try adding a constant to the feature — `np.log (x + const)`.\n"
   ]
  },
  {
   "cell_type": "markdown",
   "metadata": {
    "colab_type": "text",
    "id": "FWjJU2MuA5ci"
   },
   "source": [
    "# Binning"
   ]
  },
  {
   "cell_type": "code",
   "execution_count": 53,
   "metadata": {
    "colab": {
     "base_uri": "https://localhost:8080/",
     "height": 360
    },
    "colab_type": "code",
    "collapsed": false,
    "id": "MylAxHQjA5ci",
    "jupyter": {
     "outputs_hidden": false
    },
    "outputId": "134cc5c4-9962-4879-ae97-9114ad3069b4"
   },
   "outputs": [
    {
     "data": {
      "text/html": [
       "<div>\n",
       "<style scoped>\n",
       "    .dataframe tbody tr th:only-of-type {\n",
       "        vertical-align: middle;\n",
       "    }\n",
       "\n",
       "    .dataframe tbody tr th {\n",
       "        vertical-align: top;\n",
       "    }\n",
       "\n",
       "    .dataframe thead th {\n",
       "        text-align: right;\n",
       "    }\n",
       "</style>\n",
       "<table border=\"1\" class=\"dataframe\">\n",
       "  <thead>\n",
       "    <tr style=\"text-align: right;\">\n",
       "      <th></th>\n",
       "      <th>ID.x</th>\n",
       "      <th>EmploymentField</th>\n",
       "      <th>Age</th>\n",
       "      <th>Income</th>\n",
       "    </tr>\n",
       "  </thead>\n",
       "  <tbody>\n",
       "    <tr>\n",
       "      <th>0</th>\n",
       "      <td>cef35615d61b202f1dc794ef2746df14</td>\n",
       "      <td>office and administrative support</td>\n",
       "      <td>28.0</td>\n",
       "      <td>32000.0</td>\n",
       "    </tr>\n",
       "    <tr>\n",
       "      <th>1</th>\n",
       "      <td>323e5a113644d18185c743c241407754</td>\n",
       "      <td>food and beverage</td>\n",
       "      <td>22.0</td>\n",
       "      <td>15000.0</td>\n",
       "    </tr>\n",
       "    <tr>\n",
       "      <th>2</th>\n",
       "      <td>b29a1027e5cd062e654a63764157461d</td>\n",
       "      <td>finance</td>\n",
       "      <td>19.0</td>\n",
       "      <td>48000.0</td>\n",
       "    </tr>\n",
       "    <tr>\n",
       "      <th>3</th>\n",
       "      <td>04a11e4bcb573a1261eb0d9948d32637</td>\n",
       "      <td>arts, entertainment, sports, or media</td>\n",
       "      <td>26.0</td>\n",
       "      <td>43000.0</td>\n",
       "    </tr>\n",
       "    <tr>\n",
       "      <th>4</th>\n",
       "      <td>9368291c93d5d5f5c8cdb1a575e18bec</td>\n",
       "      <td>education</td>\n",
       "      <td>20.0</td>\n",
       "      <td>6000.0</td>\n",
       "    </tr>\n",
       "  </tbody>\n",
       "</table>\n",
       "</div>"
      ],
      "text/plain": [
       "                               ID.x                        EmploymentField  \\\n",
       "0  cef35615d61b202f1dc794ef2746df14      office and administrative support   \n",
       "1  323e5a113644d18185c743c241407754                      food and beverage   \n",
       "2  b29a1027e5cd062e654a63764157461d                                finance   \n",
       "3  04a11e4bcb573a1261eb0d9948d32637  arts, entertainment, sports, or media   \n",
       "4  9368291c93d5d5f5c8cdb1a575e18bec                              education   \n",
       "\n",
       "    Age   Income  \n",
       "0  28.0  32000.0  \n",
       "1  22.0  15000.0  \n",
       "2  19.0  48000.0  \n",
       "3  26.0  43000.0  \n",
       "4  20.0   6000.0  "
      ]
     },
     "execution_count": 53,
     "metadata": {},
     "output_type": "execute_result"
    }
   ],
   "source": [
    "import pandas as pd\n",
    "\n",
    "fcc_survey_df = pd.read_csv(\"Ficheros/fcc_2016_coder_survey_subset.csv\", encoding = \"utf-8\", sep=',')\n",
    "fcc_survey_df[['ID.x', 'EmploymentField', 'Age', 'Income']].head()\n",
    "#fcc_survey_df"
   ]
  },
  {
   "cell_type": "markdown",
   "metadata": {
    "colab_type": "text",
    "id": "oSTrEM6AA5cj"
   },
   "source": [
    "## Fixed-width binning"
   ]
  },
  {
   "cell_type": "markdown",
   "metadata": {
    "colab_type": "text",
    "id": "gB85yDDkA5ck"
   },
   "source": [
    "### Developer age distribution"
   ]
  },
  {
   "cell_type": "code",
   "execution_count": 54,
   "metadata": {
    "colab": {},
    "colab_type": "code",
    "collapsed": false,
    "id": "1GDAI6NIA5ck",
    "jupyter": {
     "outputs_hidden": false
    },
    "outputId": "5e603cf7-fea4-4078-f046-f4ea26e6976e"
   },
   "outputs": [
    {
     "data": {
      "text/plain": [
       "Text(0, 0.5, 'Frequency')"
      ]
     },
     "execution_count": 54,
     "metadata": {},
     "output_type": "execute_result"
    },
    {
     "data": {
      "image/png": "[encoded data removed]",
      "text/plain": [
       "<Figure size 640x480 with 1 Axes>"
      ]
     },
     "metadata": {},
     "output_type": "display_data"
    }
   ],
   "source": [
    "fig, ax = plt.subplots()\n",
    "fcc_survey_df['Age'].hist(color='#C5A9D3')\n",
    "ax.set_title(\"Developer Age Histogram\", fontsize = 12)\n",
    "ax.set_xlabel(\"Age\", fontsize = 12)\n",
    "ax.set_ylabel(\"Frequency\", fontsize = 12)"
   ]
  },
  {
   "cell_type": "markdown",
   "metadata": {
    "colab_type": "text",
    "id": "2Bi6STxGA5cl"
   },
   "source": [
    "### Binning based on rounding\n",
    "\n",
    "``` \n",
    "Age Range: Bin\n",
    "---------------\n",
    " 0 -  9  : 0\n",
    "10 - 19  : 1\n",
    "20 - 29  : 2\n",
    "30 - 39  : 3\n",
    "40 - 49  : 4\n",
    "50 - 59  : 5\n",
    "60 - 69  : 6\n",
    "  ... and so on\n",
    "```"
   ]
  },
  {
   "cell_type": "code",
   "execution_count": 55,
   "metadata": {
    "colab": {},
    "colab_type": "code",
    "collapsed": false,
    "id": "yZEV-G1pA5cm",
    "jupyter": {
     "outputs_hidden": false
    },
    "outputId": "f9fca4c7-ce4a-4041-eeae-4c3d8b4c2782"
   },
   "outputs": [],
   "source": [
    "fcc_survey_df['Age_bin_round'] = (np.floor((fcc_survey_df['Age'])/10))"
   ]
  },
  {
   "cell_type": "code",
   "execution_count": 56,
   "metadata": {},
   "outputs": [
    {
     "data": {
      "text/plain": [
       "0        2.0\n",
       "1        2.0\n",
       "2        1.0\n",
       "3        2.0\n",
       "4        2.0\n",
       "        ... \n",
       "15615    3.0\n",
       "15616    2.0\n",
       "15617    3.0\n",
       "15618    2.0\n",
       "15619    2.0\n",
       "Name: Age_bin_round, Length: 15620, dtype: float64"
      ]
     },
     "execution_count": 56,
     "metadata": {},
     "output_type": "execute_result"
    }
   ],
   "source": [
    "fcc_survey_df['Age_bin_round']"
   ]
  },
  {
   "cell_type": "markdown",
   "metadata": {
    "colab_type": "text",
    "id": "1PL6KvuyA5cn"
   },
   "source": [
    "### Binning based on custom ranges\n",
    "\n",
    "``` \n",
    "Age Range : Bin\n",
    "---------------\n",
    " 0 -  15  : 1\n",
    "16 -  30  : 2\n",
    "31 -  45  : 3\n",
    "46 -  60  : 4\n",
    "61 -  75  : 5\n",
    "75 - 100  : 6\n",
    "```"
   ]
  },
  {
   "cell_type": "code",
   "execution_count": 80,
   "metadata": {
    "colab": {},
    "colab_type": "code",
    "collapsed": false,
    "id": "7cfltQpAA5cn",
    "jupyter": {
     "outputs_hidden": false
    },
    "outputId": "b08a956d-a679-43c4-c278-37aa88806c88"
   },
   "outputs": [
    {
     "data": {
      "text/html": [
       "<div>\n",
       "<style scoped>\n",
       "    .dataframe tbody tr th:only-of-type {\n",
       "        vertical-align: middle;\n",
       "    }\n",
       "\n",
       "    .dataframe tbody tr th {\n",
       "        vertical-align: top;\n",
       "    }\n",
       "\n",
       "    .dataframe thead th {\n",
       "        text-align: right;\n",
       "    }\n",
       "</style>\n",
       "<table border=\"1\" class=\"dataframe\">\n",
       "  <thead>\n",
       "    <tr style=\"text-align: right;\">\n",
       "      <th></th>\n",
       "      <th>ID.x</th>\n",
       "      <th>Age</th>\n",
       "      <th>Age_bin_round</th>\n",
       "      <th>Age_bin_custom_range</th>\n",
       "      <th>Age_bin_custom_label</th>\n",
       "    </tr>\n",
       "  </thead>\n",
       "  <tbody>\n",
       "    <tr>\n",
       "      <th>1071</th>\n",
       "      <td>6a02aa4618c99fdb3e24de522a099431</td>\n",
       "      <td>17.0</td>\n",
       "      <td>1.0</td>\n",
       "      <td>(15, 30]</td>\n",
       "      <td>2</td>\n",
       "    </tr>\n",
       "    <tr>\n",
       "      <th>1072</th>\n",
       "      <td>f0e5e47278c5f248fe861c5f7214c07a</td>\n",
       "      <td>38.0</td>\n",
       "      <td>3.0</td>\n",
       "      <td>(30, 45]</td>\n",
       "      <td>3</td>\n",
       "    </tr>\n",
       "    <tr>\n",
       "      <th>1073</th>\n",
       "      <td>6e14f6d0779b7e424fa3fdd9e4bd3bf9</td>\n",
       "      <td>21.0</td>\n",
       "      <td>2.0</td>\n",
       "      <td>(15, 30]</td>\n",
       "      <td>2</td>\n",
       "    </tr>\n",
       "    <tr>\n",
       "      <th>1074</th>\n",
       "      <td>c2654c07dc929cdf3dad4d1aec4ffbb3</td>\n",
       "      <td>53.0</td>\n",
       "      <td>5.0</td>\n",
       "      <td>(45, 60]</td>\n",
       "      <td>4</td>\n",
       "    </tr>\n",
       "    <tr>\n",
       "      <th>1075</th>\n",
       "      <td>f07449fc9339b2e57703ec7886232523</td>\n",
       "      <td>35.0</td>\n",
       "      <td>3.0</td>\n",
       "      <td>(30, 45]</td>\n",
       "      <td>3</td>\n",
       "    </tr>\n",
       "  </tbody>\n",
       "</table>\n",
       "</div>"
      ],
      "text/plain": [
       "                                  ID.x   Age  Age_bin_round  \\\n",
       "1071  6a02aa4618c99fdb3e24de522a099431  17.0            1.0   \n",
       "1072  f0e5e47278c5f248fe861c5f7214c07a  38.0            3.0   \n",
       "1073  6e14f6d0779b7e424fa3fdd9e4bd3bf9  21.0            2.0   \n",
       "1074  c2654c07dc929cdf3dad4d1aec4ffbb3  53.0            5.0   \n",
       "1075  f07449fc9339b2e57703ec7886232523  35.0            3.0   \n",
       "\n",
       "     Age_bin_custom_range Age_bin_custom_label  \n",
       "1071             (15, 30]                    2  \n",
       "1072             (30, 45]                    3  \n",
       "1073             (15, 30]                    2  \n",
       "1074             (45, 60]                    4  \n",
       "1075             (30, 45]                    3  "
      ]
     },
     "execution_count": 80,
     "metadata": {},
     "output_type": "execute_result"
    }
   ],
   "source": [
    "# cut crea bins\n",
    "\n",
    "bin_ranges = [0,15,30,45,60,75,100]  #  [0-15]   (15-30]   (30-45]  (45-60]  (60-75]  (75-100]\n",
    "bin_names = [1,2,3,4,5,6]\n",
    "\n",
    "fcc_survey_df['Age_bin_custom_range'] = pd.cut(fcc_survey_df['Age'],\n",
    "bins = bin_ranges)\n",
    "\n",
    "fcc_survey_df['Age_bin_custom_label'] = pd.cut(fcc_survey_df['Age'], bins = bin_ranges, labels = bin_names)\n",
    "fcc_survey_df[['ID.x', 'Age', 'Age_bin_round',\n",
    "'Age_bin_custom_range', 'Age_bin_custom_label']].iloc[1071:1076]\n",
    "\n"
   ]
  },
  {
   "cell_type": "markdown",
   "metadata": {
    "colab_type": "text",
    "id": "BshqgrYVA5cp"
   },
   "source": [
    "## Quantile based binning"
   ]
  },
  {
   "cell_type": "code",
   "execution_count": 81,
   "metadata": {
    "colab": {},
    "colab_type": "code",
    "collapsed": false,
    "id": "sz1qddTZA5cp",
    "jupyter": {
     "outputs_hidden": false
    },
    "outputId": "ae6721cf-edfb-4b17-d7b5-ebb4a236f494"
   },
   "outputs": [
    {
     "data": {
      "text/html": [
       "<div>\n",
       "<style scoped>\n",
       "    .dataframe tbody tr th:only-of-type {\n",
       "        vertical-align: middle;\n",
       "    }\n",
       "\n",
       "    .dataframe tbody tr th {\n",
       "        vertical-align: top;\n",
       "    }\n",
       "\n",
       "    .dataframe thead th {\n",
       "        text-align: right;\n",
       "    }\n",
       "</style>\n",
       "<table border=\"1\" class=\"dataframe\">\n",
       "  <thead>\n",
       "    <tr style=\"text-align: right;\">\n",
       "      <th></th>\n",
       "      <th>ID.x</th>\n",
       "      <th>Age</th>\n",
       "      <th>Income</th>\n",
       "    </tr>\n",
       "  </thead>\n",
       "  <tbody>\n",
       "    <tr>\n",
       "      <th>4</th>\n",
       "      <td>9368291c93d5d5f5c8cdb1a575e18bec</td>\n",
       "      <td>20.0</td>\n",
       "      <td>6000.0</td>\n",
       "    </tr>\n",
       "    <tr>\n",
       "      <th>5</th>\n",
       "      <td>dd0e77eab9270e4b67c19b0d6bbf621b</td>\n",
       "      <td>34.0</td>\n",
       "      <td>40000.0</td>\n",
       "    </tr>\n",
       "    <tr>\n",
       "      <th>6</th>\n",
       "      <td>7599c0aa0419b59fd11ffede98a3665d</td>\n",
       "      <td>23.0</td>\n",
       "      <td>32000.0</td>\n",
       "    </tr>\n",
       "    <tr>\n",
       "      <th>7</th>\n",
       "      <td>6dff182db452487f07a47596f314bddc</td>\n",
       "      <td>35.0</td>\n",
       "      <td>40000.0</td>\n",
       "    </tr>\n",
       "    <tr>\n",
       "      <th>8</th>\n",
       "      <td>9dc233f8ed1c6eb2432672ab4bb39249</td>\n",
       "      <td>33.0</td>\n",
       "      <td>80000.0</td>\n",
       "    </tr>\n",
       "  </tbody>\n",
       "</table>\n",
       "</div>"
      ],
      "text/plain": [
       "                               ID.x   Age   Income\n",
       "4  9368291c93d5d5f5c8cdb1a575e18bec  20.0   6000.0\n",
       "5  dd0e77eab9270e4b67c19b0d6bbf621b  34.0  40000.0\n",
       "6  7599c0aa0419b59fd11ffede98a3665d  23.0  32000.0\n",
       "7  6dff182db452487f07a47596f314bddc  35.0  40000.0\n",
       "8  9dc233f8ed1c6eb2432672ab4bb39249  33.0  80000.0"
      ]
     },
     "execution_count": 81,
     "metadata": {},
     "output_type": "execute_result"
    }
   ],
   "source": [
    "fcc_survey_df[['ID.x', 'Age', 'Income']].iloc[4:9]"
   ]
  },
  {
   "cell_type": "code",
   "execution_count": 95,
   "metadata": {
    "colab": {},
    "colab_type": "code",
    "collapsed": false,
    "id": "2xbYwRQ1A5cq",
    "jupyter": {
     "outputs_hidden": false
    },
    "outputId": "7c1db47b-6e49-417f-aab1-cea497a95c6f"
   },
   "outputs": [
    {
     "data": {
      "text/plain": [
       "Text(0, 0.5, 'Frequency')"
      ]
     },
     "execution_count": 95,
     "metadata": {},
     "output_type": "execute_result"
    },
    {
     "data": {
      "image/png": "[encoded data removed]",
      "text/plain": [
       "<Figure size 432x288 with 1 Axes>"
      ]
     },
     "metadata": {
      "needs_background": "light"
     },
     "output_type": "display_data"
    }
   ],
   "source": [
    "fig, ax = plt.subplots()\n",
    "fcc_survey_df['Income'].hist(bins=30, color=\"#A9C5D3\")\n",
    "ax.set_title(\"Developer Income Histogram\", fontsize = 12)\n",
    "ax.set_xlabel(\"Developer Income\", fontsize=12)\n",
    "ax.set_ylabel(\"Frequency\", fontsize=12)"
   ]
  },
  {
   "cell_type": "code",
   "execution_count": 97,
   "metadata": {
    "colab": {},
    "colab_type": "code",
    "collapsed": false,
    "id": "bKxprAEQA5cs",
    "jupyter": {
     "outputs_hidden": false
    },
    "outputId": "2b4e492b-b2d3-4de1-84c4-cf2cd5e840fd"
   },
   "outputs": [
    {
     "data": {
      "text/plain": [
       "0.00      6000.0\n",
       "0.25     20000.0\n",
       "0.50     37000.0\n",
       "0.75     60000.0\n",
       "1.00    200000.0\n",
       "Name: Income, dtype: float64"
      ]
     },
     "execution_count": 97,
     "metadata": {},
     "output_type": "execute_result"
    }
   ],
   "source": [
    "quantile_list = [0, .25, .5, .75, 1]\n",
    "quantiles = fcc_survey_df['Income'].quantile(quantile_list)\n",
    "quantiles"
   ]
  },
  {
   "cell_type": "code",
   "execution_count": 98,
   "metadata": {
    "colab": {},
    "colab_type": "code",
    "collapsed": false,
    "id": "bNJrNhoKA5ct",
    "jupyter": {
     "outputs_hidden": false
    },
    "outputId": "9c56378e-e5c3-466d-a9e5-87a7350a8deb"
   },
   "outputs": [
    {
     "data": {
      "text/plain": [
       "Text(0, 0.5, 'Frequency')"
      ]
     },
     "execution_count": 98,
     "metadata": {},
     "output_type": "execute_result"
    },
    {
     "data": {
      "image/png": "[encoded data removed]",
      "text/plain": [
       "<Figure size 432x288 with 1 Axes>"
      ]
     },
     "metadata": {
      "needs_background": "light"
     },
     "output_type": "display_data"
    }
   ],
   "source": [
    "fig, ax = plt.subplots()\n",
    "fcc_survey_df['Income'].hist(bins=30, color=\"#A9C5D3\")\n",
    "\n",
    "for quantile in quantiles:\n",
    "    qvl = plt.axvline(quantile, color='r')\n",
    "ax.legend([qvl], ['Quantiles'], fontsize=10)\n",
    "\n",
    "ax.set_title('Developer Income Histogram with quantiles', fontsize=12)\n",
    "ax.set_xlabel(\"Developer Income\", fontsize= 12)\n",
    "ax.set_ylabel(\"Frequency\", fontsize=12)"
   ]
  },
  {
   "cell_type": "code",
   "execution_count": 88,
   "metadata": {
    "colab": {},
    "colab_type": "code",
    "collapsed": false,
    "id": "MlsDrooFA5cv",
    "jupyter": {
     "outputs_hidden": false
    },
    "outputId": "95de9631-3523-40f4-aef2-e5e8b5bbd460"
   },
   "outputs": [
    {
     "data": {
      "text/html": [
       "<div>\n",
       "<style scoped>\n",
       "    .dataframe tbody tr th:only-of-type {\n",
       "        vertical-align: middle;\n",
       "    }\n",
       "\n",
       "    .dataframe tbody tr th {\n",
       "        vertical-align: top;\n",
       "    }\n",
       "\n",
       "    .dataframe thead th {\n",
       "        text-align: right;\n",
       "    }\n",
       "</style>\n",
       "<table border=\"1\" class=\"dataframe\">\n",
       "  <thead>\n",
       "    <tr style=\"text-align: right;\">\n",
       "      <th></th>\n",
       "      <th>ID.x</th>\n",
       "      <th>Age</th>\n",
       "      <th>Income</th>\n",
       "      <th>Income_quantile_range</th>\n",
       "      <th>Income_quantile_label</th>\n",
       "    </tr>\n",
       "  </thead>\n",
       "  <tbody>\n",
       "    <tr>\n",
       "      <th>4</th>\n",
       "      <td>9368291c93d5d5f5c8cdb1a575e18bec</td>\n",
       "      <td>20.0</td>\n",
       "      <td>6000.0</td>\n",
       "      <td>(5999.999, 20000.0]</td>\n",
       "      <td>0-25Q</td>\n",
       "    </tr>\n",
       "    <tr>\n",
       "      <th>5</th>\n",
       "      <td>dd0e77eab9270e4b67c19b0d6bbf621b</td>\n",
       "      <td>34.0</td>\n",
       "      <td>40000.0</td>\n",
       "      <td>(37000.0, 60000.0]</td>\n",
       "      <td>50-75Q</td>\n",
       "    </tr>\n",
       "    <tr>\n",
       "      <th>6</th>\n",
       "      <td>7599c0aa0419b59fd11ffede98a3665d</td>\n",
       "      <td>23.0</td>\n",
       "      <td>32000.0</td>\n",
       "      <td>(20000.0, 37000.0]</td>\n",
       "      <td>25-50Q</td>\n",
       "    </tr>\n",
       "    <tr>\n",
       "      <th>7</th>\n",
       "      <td>6dff182db452487f07a47596f314bddc</td>\n",
       "      <td>35.0</td>\n",
       "      <td>40000.0</td>\n",
       "      <td>(37000.0, 60000.0]</td>\n",
       "      <td>50-75Q</td>\n",
       "    </tr>\n",
       "    <tr>\n",
       "      <th>8</th>\n",
       "      <td>9dc233f8ed1c6eb2432672ab4bb39249</td>\n",
       "      <td>33.0</td>\n",
       "      <td>80000.0</td>\n",
       "      <td>(60000.0, 200000.0]</td>\n",
       "      <td>75-100Q</td>\n",
       "    </tr>\n",
       "  </tbody>\n",
       "</table>\n",
       "</div>"
      ],
      "text/plain": [
       "                               ID.x   Age   Income Income_quantile_range  \\\n",
       "4  9368291c93d5d5f5c8cdb1a575e18bec  20.0   6000.0   (5999.999, 20000.0]   \n",
       "5  dd0e77eab9270e4b67c19b0d6bbf621b  34.0  40000.0    (37000.0, 60000.0]   \n",
       "6  7599c0aa0419b59fd11ffede98a3665d  23.0  32000.0    (20000.0, 37000.0]   \n",
       "7  6dff182db452487f07a47596f314bddc  35.0  40000.0    (37000.0, 60000.0]   \n",
       "8  9dc233f8ed1c6eb2432672ab4bb39249  33.0  80000.0   (60000.0, 200000.0]   \n",
       "\n",
       "  Income_quantile_label  \n",
       "4                 0-25Q  \n",
       "5                50-75Q  \n",
       "6                25-50Q  \n",
       "7                50-75Q  \n",
       "8               75-100Q  "
      ]
     },
     "execution_count": 88,
     "metadata": {},
     "output_type": "execute_result"
    }
   ],
   "source": [
    "quantile_labels = ['0-25Q', '25-50Q', '50-75Q', '75-100Q']\n",
    "fcc_survey_df['Income_quantile_range'] = pd.qcut(fcc_survey_df['Income'],\n",
    "                                            q = quantile_list)\n",
    "fcc_survey_df['Income_quantile_label'] = pd.qcut(fcc_survey_df['Income'],\n",
    "q = quantile_list,\n",
    "labels = quantile_labels)\n",
    "\n",
    "fcc_survey_df[['ID.x', 'Age', 'Income',\n",
    "'Income_quantile_range', 'Income_quantile_label']].iloc[4:9]"
   ]
  },
  {
   "cell_type": "markdown",
   "metadata": {
    "colab_type": "text",
    "id": "8K_bN1LEA5cx"
   },
   "source": [
    "# Mathematical Transformations"
   ]
  },
  {
   "cell_type": "markdown",
   "metadata": {
    "colab_type": "text",
    "id": "NE2FL4jvA5cy"
   },
   "source": [
    "## Log transform"
   ]
  },
  {
   "cell_type": "code",
   "execution_count": 99,
   "metadata": {
    "colab": {},
    "colab_type": "code",
    "collapsed": false,
    "id": "cmw3Xy7RA5cy",
    "jupyter": {
     "outputs_hidden": false
    },
    "outputId": "d936e56e-e785-43f2-d3c9-fb50a75d5686"
   },
   "outputs": [
    {
     "data": {
      "text/html": [
       "<div>\n",
       "<style scoped>\n",
       "    .dataframe tbody tr th:only-of-type {\n",
       "        vertical-align: middle;\n",
       "    }\n",
       "\n",
       "    .dataframe tbody tr th {\n",
       "        vertical-align: top;\n",
       "    }\n",
       "\n",
       "    .dataframe thead th {\n",
       "        text-align: right;\n",
       "    }\n",
       "</style>\n",
       "<table border=\"1\" class=\"dataframe\">\n",
       "  <thead>\n",
       "    <tr style=\"text-align: right;\">\n",
       "      <th></th>\n",
       "      <th>ID.x</th>\n",
       "      <th>Age</th>\n",
       "      <th>Income</th>\n",
       "      <th>Income_log</th>\n",
       "    </tr>\n",
       "  </thead>\n",
       "  <tbody>\n",
       "    <tr>\n",
       "      <th>4</th>\n",
       "      <td>9368291c93d5d5f5c8cdb1a575e18bec</td>\n",
       "      <td>20.0</td>\n",
       "      <td>6000.0</td>\n",
       "      <td>8.699681</td>\n",
       "    </tr>\n",
       "    <tr>\n",
       "      <th>5</th>\n",
       "      <td>dd0e77eab9270e4b67c19b0d6bbf621b</td>\n",
       "      <td>34.0</td>\n",
       "      <td>40000.0</td>\n",
       "      <td>10.596660</td>\n",
       "    </tr>\n",
       "    <tr>\n",
       "      <th>6</th>\n",
       "      <td>7599c0aa0419b59fd11ffede98a3665d</td>\n",
       "      <td>23.0</td>\n",
       "      <td>32000.0</td>\n",
       "      <td>10.373522</td>\n",
       "    </tr>\n",
       "    <tr>\n",
       "      <th>7</th>\n",
       "      <td>6dff182db452487f07a47596f314bddc</td>\n",
       "      <td>35.0</td>\n",
       "      <td>40000.0</td>\n",
       "      <td>10.596660</td>\n",
       "    </tr>\n",
       "    <tr>\n",
       "      <th>8</th>\n",
       "      <td>9dc233f8ed1c6eb2432672ab4bb39249</td>\n",
       "      <td>33.0</td>\n",
       "      <td>80000.0</td>\n",
       "      <td>11.289794</td>\n",
       "    </tr>\n",
       "  </tbody>\n",
       "</table>\n",
       "</div>"
      ],
      "text/plain": [
       "                               ID.x   Age   Income  Income_log\n",
       "4  9368291c93d5d5f5c8cdb1a575e18bec  20.0   6000.0    8.699681\n",
       "5  dd0e77eab9270e4b67c19b0d6bbf621b  34.0  40000.0   10.596660\n",
       "6  7599c0aa0419b59fd11ffede98a3665d  23.0  32000.0   10.373522\n",
       "7  6dff182db452487f07a47596f314bddc  35.0  40000.0   10.596660\n",
       "8  9dc233f8ed1c6eb2432672ab4bb39249  33.0  80000.0   11.289794"
      ]
     },
     "execution_count": 99,
     "metadata": {},
     "output_type": "execute_result"
    }
   ],
   "source": [
    "fcc_survey_df['Income_log'] = np.log((1+ fcc_survey_df['Income']))\n",
    "fcc_survey_df[['ID.x', 'Age', 'Income', 'Income_log']].iloc[4:9]"
   ]
  },
  {
   "cell_type": "code",
   "execution_count": 100,
   "metadata": {
    "colab": {},
    "colab_type": "code",
    "collapsed": false,
    "id": "ueviu9sNA5c0",
    "jupyter": {
     "outputs_hidden": false
    },
    "outputId": "dc45ee44-c02f-4687-e9e3-d9cba1f4d3c9"
   },
   "outputs": [
    {
     "data": {
      "text/plain": [
       "Text(11.5, 450, '$\\\\mu$=10.43')"
      ]
     },
     "execution_count": 100,
     "metadata": {},
     "output_type": "execute_result"
    },
    {
     "data": {
      "image/png": "[encoded data removed]",
      "text/plain": [
       "<Figure size 432x288 with 1 Axes>"
      ]
     },
     "metadata": {
      "needs_background": "light"
     },
     "output_type": "display_data"
    }
   ],
   "source": [
    "income_log_mean = np.round(np.mean(fcc_survey_df['Income_log']), 2)\n",
    "fig, ax = plt.subplots()\n",
    "fcc_survey_df['Income_log'].hist(bins=30, color='#A9C5D3')\n",
    "plt.axvline(income_log_mean, color='r')\n",
    "ax.set_title('Developer Income Histogram after Log Transform',\n",
    "            fontsize=12)\n",
    "ax.set_xlabel('Developer Income (log scale)', fontsize=12)\n",
    "ax.set_ylabel('Frequency', fontsize=12)\n",
    "ax.text(11.5, 450, r'$\\mu$='+str(income_log_mean), fontsize=10)"
   ]
  },
  {
   "cell_type": "markdown",
   "metadata": {
    "colab_type": "text",
    "id": "tdWPJCx4A5c2"
   },
   "source": [
    "## Box–Cox transform"
   ]
  },
  {
   "cell_type": "code",
   "execution_count": 101,
   "metadata": {
    "colab": {},
    "colab_type": "code",
    "collapsed": false,
    "id": "KFS3M3P2A5c2",
    "jupyter": {
     "outputs_hidden": false
    },
    "outputId": "f982aee2-1846-48a4-bca8-4ba54e5bd4d4"
   },
   "outputs": [
    {
     "name": "stdout",
     "output_type": "stream",
     "text": [
      "Optimal lambda value: 0.11799122497648248\n"
     ]
    }
   ],
   "source": [
    "from scipy import stats\n",
    "\n",
    "# get optimal lambda value from non null income values\n",
    "income = np.array(fcc_survey_df['Income'])\n",
    "income_clean = income[~np.isnan(income)] # los no nan\n",
    "l, opt_lambda = stats.boxcox(income_clean)\n",
    "print('Optimal lambda value:', opt_lambda)"
   ]
  },
  {
   "cell_type": "code",
   "execution_count": 102,
   "metadata": {
    "colab": {},
    "colab_type": "code",
    "collapsed": false,
    "id": "w35rcollA5c3",
    "jupyter": {
     "outputs_hidden": false
    },
    "outputId": "78db1834-14fc-4a7a-a6f7-22ee0e8bfeaf"
   },
   "outputs": [
    {
     "data": {
      "text/html": [
       "<div>\n",
       "<style scoped>\n",
       "    .dataframe tbody tr th:only-of-type {\n",
       "        vertical-align: middle;\n",
       "    }\n",
       "\n",
       "    .dataframe tbody tr th {\n",
       "        vertical-align: top;\n",
       "    }\n",
       "\n",
       "    .dataframe thead th {\n",
       "        text-align: right;\n",
       "    }\n",
       "</style>\n",
       "<table border=\"1\" class=\"dataframe\">\n",
       "  <thead>\n",
       "    <tr style=\"text-align: right;\">\n",
       "      <th></th>\n",
       "      <th>ID.x</th>\n",
       "      <th>Age</th>\n",
       "      <th>Income</th>\n",
       "      <th>Income_log</th>\n",
       "      <th>Income_boxcox_lambda_0</th>\n",
       "      <th>Income_boxcox_lambda_opt</th>\n",
       "    </tr>\n",
       "  </thead>\n",
       "  <tbody>\n",
       "    <tr>\n",
       "      <th>4</th>\n",
       "      <td>9368291c93d5d5f5c8cdb1a575e18bec</td>\n",
       "      <td>20.0</td>\n",
       "      <td>6000.0</td>\n",
       "      <td>8.699681</td>\n",
       "      <td>8.699681</td>\n",
       "      <td>15.180667</td>\n",
       "    </tr>\n",
       "    <tr>\n",
       "      <th>5</th>\n",
       "      <td>dd0e77eab9270e4b67c19b0d6bbf621b</td>\n",
       "      <td>34.0</td>\n",
       "      <td>40000.0</td>\n",
       "      <td>10.596660</td>\n",
       "      <td>10.596660</td>\n",
       "      <td>21.115340</td>\n",
       "    </tr>\n",
       "    <tr>\n",
       "      <th>6</th>\n",
       "      <td>7599c0aa0419b59fd11ffede98a3665d</td>\n",
       "      <td>23.0</td>\n",
       "      <td>32000.0</td>\n",
       "      <td>10.373522</td>\n",
       "      <td>10.373522</td>\n",
       "      <td>20.346418</td>\n",
       "    </tr>\n",
       "    <tr>\n",
       "      <th>7</th>\n",
       "      <td>6dff182db452487f07a47596f314bddc</td>\n",
       "      <td>35.0</td>\n",
       "      <td>40000.0</td>\n",
       "      <td>10.596660</td>\n",
       "      <td>10.596660</td>\n",
       "      <td>21.115340</td>\n",
       "    </tr>\n",
       "    <tr>\n",
       "      <th>8</th>\n",
       "      <td>9dc233f8ed1c6eb2432672ab4bb39249</td>\n",
       "      <td>33.0</td>\n",
       "      <td>80000.0</td>\n",
       "      <td>11.289794</td>\n",
       "      <td>11.289794</td>\n",
       "      <td>23.637128</td>\n",
       "    </tr>\n",
       "  </tbody>\n",
       "</table>\n",
       "</div>"
      ],
      "text/plain": [
       "                               ID.x   Age   Income  Income_log  \\\n",
       "4  9368291c93d5d5f5c8cdb1a575e18bec  20.0   6000.0    8.699681   \n",
       "5  dd0e77eab9270e4b67c19b0d6bbf621b  34.0  40000.0   10.596660   \n",
       "6  7599c0aa0419b59fd11ffede98a3665d  23.0  32000.0   10.373522   \n",
       "7  6dff182db452487f07a47596f314bddc  35.0  40000.0   10.596660   \n",
       "8  9dc233f8ed1c6eb2432672ab4bb39249  33.0  80000.0   11.289794   \n",
       "\n",
       "   Income_boxcox_lambda_0  Income_boxcox_lambda_opt  \n",
       "4                8.699681                 15.180667  \n",
       "5               10.596660                 21.115340  \n",
       "6               10.373522                 20.346418  \n",
       "7               10.596660                 21.115340  \n",
       "8               11.289794                 23.637128  "
      ]
     },
     "execution_count": 102,
     "metadata": {},
     "output_type": "execute_result"
    }
   ],
   "source": [
    "fcc_survey_df['Income_boxcox_lambda_0'] = stats.boxcox((1+fcc_survey_df['Income']), \n",
    "                                                         lmbda=0)\n",
    "fcc_survey_df['Income_boxcox_lambda_opt'] = stats.boxcox(fcc_survey_df['Income'], \n",
    "                                                           lmbda=opt_lambda)\n",
    "fcc_survey_df[['ID.x', 'Age', 'Income', 'Income_log', \n",
    "               'Income_boxcox_lambda_0', 'Income_boxcox_lambda_opt']].iloc[4:9]"
   ]
  },
  {
   "cell_type": "code",
   "execution_count": 103,
   "metadata": {
    "colab": {},
    "colab_type": "code",
    "collapsed": false,
    "id": "xEjacahKA5c5",
    "jupyter": {
     "outputs_hidden": false
    },
    "outputId": "a41adc5b-3a97-49c0-e59a-dd3a11e0777b"
   },
   "outputs": [
    {
     "data": {
      "text/plain": [
       "Text(24, 450, '$\\\\mu$=20.65')"
      ]
     },
     "execution_count": 103,
     "metadata": {},
     "output_type": "execute_result"
    },
    {
     "data": {
      "image/png": "[encoded data removed]",
      "text/plain": [
       "<Figure size 432x288 with 1 Axes>"
      ]
     },
     "metadata": {
      "needs_background": "light"
     },
     "output_type": "display_data"
    }
   ],
   "source": [
    "income_boxcox_mean = np.round(np.mean(fcc_survey_df['Income_boxcox_lambda_opt']), 2)\n",
    "\n",
    "fig, ax = plt.subplots()\n",
    "fcc_survey_df['Income_boxcox_lambda_opt'].hist(bins=30, color='#A9C5D3')\n",
    "plt.axvline(income_boxcox_mean, color='r')\n",
    "ax.set_title('Developer Income Histogram after Box–Cox Transform', fontsize=12)\n",
    "ax.set_xlabel('Developer Income (Box–Cox transform)', fontsize=12)\n",
    "ax.set_ylabel('Frequency', fontsize=12)\n",
    "ax.text(24, 450, r'$\\mu$='+str(income_boxcox_mean), fontsize=10)"
   ]
  },
  {
   "cell_type": "code",
   "execution_count": null,
   "metadata": {
    "colab": {},
    "colab_type": "code",
    "id": "5oe7FUBCA5c8"
   },
   "outputs": [],
   "source": []
  }
 ],
 "metadata": {
  "colab": {
   "name": "1-Numerical_Features.ipynb",
   "provenance": []
  },
  "kernelspec": {
   "display_name": "Python 3 (ipykernel)",
   "language": "python",
   "name": "python3"
  },
  "language_info": {
   "codemirror_mode": {
    "name": "ipython",
    "version": 3
   },
   "file_extension": ".py",
   "mimetype": "text/x-python",
   "name": "python",
   "nbconvert_exporter": "python",
   "pygments_lexer": "ipython3",
   "version": "3.10.9"
  }
 },
 "nbformat": 4,
 "nbformat_minor": 4
}
