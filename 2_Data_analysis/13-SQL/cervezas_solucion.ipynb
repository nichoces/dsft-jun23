{
 "cells": [
  {
   "cell_type": "code",
   "execution_count": 1,
   "id": "3dc2250d-9220-4b49-8932-b6d74d2c4d81",
   "metadata": {},
   "outputs": [],
   "source": [
    "import pandas as pd\n",
    "import sqlite3"
   ]
  },
  {
   "cell_type": "code",
   "execution_count": 2,
   "id": "bb9bf318-05cf-4197-b872-eb886ee0fcd6",
   "metadata": {},
   "outputs": [],
   "source": [
    "# conectamos con la base de datos my_database.db\n",
    "connection = sqlite3.connect(\"my_database.db\")\n",
    "\n",
    "# obtenemos un cursor que utilizamos para las queries\n",
    "crsr = connection.cursor()"
   ]
  },
  {
   "cell_type": "code",
   "execution_count": 3,
   "id": "2dbdd7eb-5778-43da-a4a0-78b5aecbb098",
   "metadata": {},
   "outputs": [],
   "source": [
    "# Con esta función leemos los datos y lo pasamos a un DataFrame de Pandas\n",
    "def sql_query(query):\n",
    "\n",
    "    # Ejecuta la query\n",
    "    crsr.execute(query)\n",
    "\n",
    "    # Almacena los datos de la query \n",
    "    ans = crsr.fetchall()\n",
    "\n",
    "    # Obtenemos los nombres de las columnas de la tabla\n",
    "    names = [description[0] for description in crsr.description]\n",
    "\n",
    "    return pd.DataFrame(ans,columns=names)"
   ]
  },
  {
   "cell_type": "code",
   "execution_count": 4,
   "id": "0994f516-1c59-46f6-bfe3-13a1b7d57fe3",
   "metadata": {},
   "outputs": [],
   "source": [
    "res = crsr.execute(\"SELECT name FROM sqlite_master WHERE type='table'\")\n",
    "for name in res:\n",
    "    print(name[0])"
   ]
  },
  {
   "cell_type": "code",
   "execution_count": 5,
   "id": "793da2a0-95d6-4393-a3cc-4e545d0ec82f",
   "metadata": {},
   "outputs": [
    {
     "data": {
      "text/plain": [
       "<sqlite3.Cursor at 0x1d5464a9ea0>"
      ]
     },
     "execution_count": 5,
     "metadata": {},
     "output_type": "execute_result"
    }
   ],
   "source": [
    "query = '''\n",
    "CREATE TABLE IF NOT EXISTS reparto (\n",
    "\tCodE VARCHAR(2) NOT NULL,\n",
    "\tCodB VARCHAR(3) NOT NULL,\n",
    "\tCodC VARCHAR(2) NOT NULL,\n",
    "\tFecha DATE NOT NULL,\n",
    "\tCantidad SMALLINT,\n",
    "\tPRIMARY KEY (CodE,CodB,CodC,fecha)\n",
    ");\n",
    "'''\n",
    "crsr.execute(query)"
   ]
  },
  {
   "cell_type": "code",
   "execution_count": 6,
   "id": "02ec5d05-1eb6-4c25-96f6-4a3c81934ad3",
   "metadata": {},
   "outputs": [
    {
     "data": {
      "text/plain": [
       "<sqlite3.Cursor at 0x1d5464a9ea0>"
      ]
     },
     "execution_count": 6,
     "metadata": {},
     "output_type": "execute_result"
    }
   ],
   "source": [
    "query = '''\n",
    "CREATE TABLE IF NOT EXISTS cervezas (\n",
    "    CodC VARCHAR(2),\n",
    "    Envase VARCHAR(32),\n",
    "    Capacidad FLOAT(2),\n",
    "    Stock INT(5),\n",
    "    PRIMARY KEY (CodC)\n",
    ")\n",
    "'''\n",
    "\n",
    "crsr.execute(query)"
   ]
  },
  {
   "cell_type": "code",
   "execution_count": 7,
   "id": "da3ca42b-93d9-4287-8608-6db7b65c053d",
   "metadata": {},
   "outputs": [
    {
     "data": {
      "text/plain": [
       "<sqlite3.Cursor at 0x1d5464a9ea0>"
      ]
     },
     "execution_count": 7,
     "metadata": {},
     "output_type": "execute_result"
    }
   ],
   "source": [
    "query = '''\n",
    "CREATE TABLE IF NOT EXISTS bares (\n",
    "    CodB VARCHAR(2),\n",
    "    Nombre VARCHAR(32),\n",
    "    Cif VARCHAR(32),\n",
    "    Localidad VARCHAR(32),\n",
    "    PRIMARY KEY (CodB)\n",
    ")\n",
    "'''\n",
    "\n",
    "crsr.execute(query)"
   ]
  },
  {
   "cell_type": "code",
   "execution_count": 8,
   "id": "8dd72a25-09ad-4778-984d-179b33775038",
   "metadata": {},
   "outputs": [
    {
     "data": {
      "text/plain": [
       "<sqlite3.Cursor at 0x1d5464a9ea0>"
      ]
     },
     "execution_count": 8,
     "metadata": {},
     "output_type": "execute_result"
    }
   ],
   "source": [
    "query = '''\n",
    "CREATE TABLE IF NOT EXISTS empleados (\n",
    "    CodE VARCHAR(2),\n",
    "    Nombre VARCHAR(32),\n",
    "    Sueldo INT(5),\n",
    "    PRIMARY KEY (CodE)\n",
    ")\n",
    "'''\n",
    "\n",
    "crsr.execute(query)"
   ]
  },
  {
   "cell_type": "code",
   "execution_count": 9,
   "id": "f3826b95-3949-4cc6-9ee6-7195b477d295",
   "metadata": {},
   "outputs": [
    {
     "data": {
      "text/plain": [
       "<sqlite3.Cursor at 0x1d5464a9ea0>"
      ]
     },
     "execution_count": 9,
     "metadata": {},
     "output_type": "execute_result"
    }
   ],
   "source": [
    "query = '''\n",
    "INSERT INTO reparto (CodE, CodB, CodC, Fecha, Cantidad) \n",
    "VALUES  ('1','001','01','2005-10-21',240 ),\n",
    "( '1','001','02','2005-10-21',48 ),\n",
    "( '1','002','03','2005-10-22',60 ),\n",
    "( '1','004','05','2005-10-22',4 ),\n",
    "( '2','002','03','2005-10-22',48 ),\n",
    "( '2','002','05','2005-10-23',2 ),\n",
    "( '2','004','01','2005-10-23',480 ),\n",
    "( '2','004','02','2005-10-24',72 ),\n",
    "( '3','003','03','2005-10-24',48 ),\n",
    "( '3','003','04','2005-10-25',20 )\n",
    ";\n",
    "'''\n",
    "crsr.execute(query)"
   ]
  },
  {
   "cell_type": "code",
   "execution_count": 10,
   "id": "74a8e36d-f682-4341-9a5a-1a2fd4a4d11d",
   "metadata": {},
   "outputs": [
    {
     "data": {
      "text/plain": [
       "<sqlite3.Cursor at 0x1d5464a9ea0>"
      ]
     },
     "execution_count": 10,
     "metadata": {},
     "output_type": "execute_result"
    }
   ],
   "source": [
    "query = '''\n",
    "INSERT OR REPLACE INTO bares VALUES ('001','Stop', '11111111X','Villa Botijo'),\n",
    "('002', 'Las Vegas', '22222222Y', 'Villa Botijo'),\n",
    "('003', 'Club Social', NULL, 'Las Ranas'),\n",
    "('004','Otra Ronda','33333333Z','La Esponja')\n",
    "'''\n",
    "crsr.execute(query)"
   ]
  },
  {
   "cell_type": "code",
   "execution_count": 11,
   "id": "97200857-b5ac-4e61-8791-baf0ac2f8380",
   "metadata": {},
   "outputs": [
    {
     "data": {
      "text/plain": [
       "<sqlite3.Cursor at 0x1d5464a9ea0>"
      ]
     },
     "execution_count": 11,
     "metadata": {},
     "output_type": "execute_result"
    }
   ],
   "source": [
    "query = '''\n",
    "INSERT OR IGNORE INTO Cervezas VALUES ('01','Botella',0.2,3600),\n",
    "('02', 'Botella', 0.33, 1200),\n",
    "('03', 'Lata', 0.33, 2400),\n",
    "('04','Botella',1,288),\n",
    "('05','Barril',60,30)\n",
    "'''\n",
    "crsr.execute(query)"
   ]
  },
  {
   "cell_type": "code",
   "execution_count": 12,
   "id": "5bee48af-1a04-44fa-8f11-f9cb5e0bfb37",
   "metadata": {},
   "outputs": [
    {
     "data": {
      "text/plain": [
       "<sqlite3.Cursor at 0x1d5464a9ea0>"
      ]
     },
     "execution_count": 12,
     "metadata": {},
     "output_type": "execute_result"
    }
   ],
   "source": [
    "query = '''\n",
    "INSERT OR REPLACE INTO empleados VALUES ('1','Prudencio Caminero',120000),\n",
    "('2', 'Vicente Merario', 110000),\n",
    "('3', 'Valentin Siempre', 100000)\n",
    "'''\n",
    "# CRUD Create Register(insert) Update Delete\n",
    "crsr.execute(query)"
   ]
  },
  {
   "cell_type": "code",
   "execution_count": 14,
   "id": "ae70b07c-bd0d-4956-a30b-8279c1cbecee",
   "metadata": {},
   "outputs": [
    {
     "data": {
      "text/html": [
       "<div>\n",
       "<style scoped>\n",
       "    .dataframe tbody tr th:only-of-type {\n",
       "        vertical-align: middle;\n",
       "    }\n",
       "\n",
       "    .dataframe tbody tr th {\n",
       "        vertical-align: top;\n",
       "    }\n",
       "\n",
       "    .dataframe thead th {\n",
       "        text-align: right;\n",
       "    }\n",
       "</style>\n",
       "<table border=\"1\" class=\"dataframe\">\n",
       "  <thead>\n",
       "    <tr style=\"text-align: right;\">\n",
       "      <th></th>\n",
       "      <th>CodE</th>\n",
       "      <th>CodB</th>\n",
       "      <th>CodC</th>\n",
       "      <th>Fecha</th>\n",
       "      <th>Cantidad</th>\n",
       "    </tr>\n",
       "  </thead>\n",
       "  <tbody>\n",
       "    <tr>\n",
       "      <th>0</th>\n",
       "      <td>1</td>\n",
       "      <td>001</td>\n",
       "      <td>01</td>\n",
       "      <td>2005-10-21</td>\n",
       "      <td>240</td>\n",
       "    </tr>\n",
       "    <tr>\n",
       "      <th>1</th>\n",
       "      <td>1</td>\n",
       "      <td>001</td>\n",
       "      <td>02</td>\n",
       "      <td>2005-10-21</td>\n",
       "      <td>48</td>\n",
       "    </tr>\n",
       "    <tr>\n",
       "      <th>2</th>\n",
       "      <td>1</td>\n",
       "      <td>002</td>\n",
       "      <td>03</td>\n",
       "      <td>2005-10-22</td>\n",
       "      <td>60</td>\n",
       "    </tr>\n",
       "    <tr>\n",
       "      <th>3</th>\n",
       "      <td>1</td>\n",
       "      <td>004</td>\n",
       "      <td>05</td>\n",
       "      <td>2005-10-22</td>\n",
       "      <td>4</td>\n",
       "    </tr>\n",
       "    <tr>\n",
       "      <th>4</th>\n",
       "      <td>2</td>\n",
       "      <td>002</td>\n",
       "      <td>03</td>\n",
       "      <td>2005-10-22</td>\n",
       "      <td>48</td>\n",
       "    </tr>\n",
       "    <tr>\n",
       "      <th>5</th>\n",
       "      <td>2</td>\n",
       "      <td>002</td>\n",
       "      <td>05</td>\n",
       "      <td>2005-10-23</td>\n",
       "      <td>2</td>\n",
       "    </tr>\n",
       "    <tr>\n",
       "      <th>6</th>\n",
       "      <td>2</td>\n",
       "      <td>004</td>\n",
       "      <td>01</td>\n",
       "      <td>2005-10-23</td>\n",
       "      <td>480</td>\n",
       "    </tr>\n",
       "    <tr>\n",
       "      <th>7</th>\n",
       "      <td>2</td>\n",
       "      <td>004</td>\n",
       "      <td>02</td>\n",
       "      <td>2005-10-24</td>\n",
       "      <td>72</td>\n",
       "    </tr>\n",
       "    <tr>\n",
       "      <th>8</th>\n",
       "      <td>3</td>\n",
       "      <td>003</td>\n",
       "      <td>03</td>\n",
       "      <td>2005-10-24</td>\n",
       "      <td>48</td>\n",
       "    </tr>\n",
       "    <tr>\n",
       "      <th>9</th>\n",
       "      <td>3</td>\n",
       "      <td>003</td>\n",
       "      <td>04</td>\n",
       "      <td>2005-10-25</td>\n",
       "      <td>20</td>\n",
       "    </tr>\n",
       "  </tbody>\n",
       "</table>\n",
       "</div>"
      ],
      "text/plain": [
       "  CodE CodB CodC       Fecha  Cantidad\n",
       "0    1  001   01  2005-10-21       240\n",
       "1    1  001   02  2005-10-21        48\n",
       "2    1  002   03  2005-10-22        60\n",
       "3    1  004   05  2005-10-22         4\n",
       "4    2  002   03  2005-10-22        48\n",
       "5    2  002   05  2005-10-23         2\n",
       "6    2  004   01  2005-10-23       480\n",
       "7    2  004   02  2005-10-24        72\n",
       "8    3  003   03  2005-10-24        48\n",
       "9    3  003   04  2005-10-25        20"
      ]
     },
     "execution_count": 14,
     "metadata": {},
     "output_type": "execute_result"
    }
   ],
   "source": [
    "query = '''\n",
    "SELECT * FROM reparto \n",
    "'''\n",
    "sql_query(query)"
   ]
  },
  {
   "cell_type": "code",
   "execution_count": 38,
   "id": "67bbe88e",
   "metadata": {},
   "outputs": [
    {
     "data": {
      "text/html": [
       "<div>\n",
       "<style scoped>\n",
       "    .dataframe tbody tr th:only-of-type {\n",
       "        vertical-align: middle;\n",
       "    }\n",
       "\n",
       "    .dataframe tbody tr th {\n",
       "        vertical-align: top;\n",
       "    }\n",
       "\n",
       "    .dataframe thead th {\n",
       "        text-align: right;\n",
       "    }\n",
       "</style>\n",
       "<table border=\"1\" class=\"dataframe\">\n",
       "  <thead>\n",
       "    <tr style=\"text-align: right;\">\n",
       "      <th></th>\n",
       "      <th>CodE</th>\n",
       "      <th>Nombre</th>\n",
       "      <th>Sueldo</th>\n",
       "      <th>CodE</th>\n",
       "      <th>CodB</th>\n",
       "      <th>CodC</th>\n",
       "      <th>Fecha</th>\n",
       "      <th>Cantidad</th>\n",
       "      <th>CodB</th>\n",
       "      <th>Nombre</th>\n",
       "      <th>Cif</th>\n",
       "      <th>Localidad</th>\n",
       "    </tr>\n",
       "  </thead>\n",
       "  <tbody>\n",
       "    <tr>\n",
       "      <th>0</th>\n",
       "      <td>1</td>\n",
       "      <td>Prudencio Caminero</td>\n",
       "      <td>120000</td>\n",
       "      <td>1</td>\n",
       "      <td>001</td>\n",
       "      <td>01</td>\n",
       "      <td>2005-10-21</td>\n",
       "      <td>240</td>\n",
       "      <td>001</td>\n",
       "      <td>Stop</td>\n",
       "      <td>11111111X</td>\n",
       "      <td>Villa Botijo</td>\n",
       "    </tr>\n",
       "    <tr>\n",
       "      <th>1</th>\n",
       "      <td>1</td>\n",
       "      <td>Prudencio Caminero</td>\n",
       "      <td>120000</td>\n",
       "      <td>1</td>\n",
       "      <td>001</td>\n",
       "      <td>02</td>\n",
       "      <td>2005-10-21</td>\n",
       "      <td>48</td>\n",
       "      <td>001</td>\n",
       "      <td>Stop</td>\n",
       "      <td>11111111X</td>\n",
       "      <td>Villa Botijo</td>\n",
       "    </tr>\n",
       "  </tbody>\n",
       "</table>\n",
       "</div>"
      ],
      "text/plain": [
       "  CodE              Nombre  Sueldo CodE CodB CodC       Fecha  Cantidad CodB  \\\n",
       "0    1  Prudencio Caminero  120000    1  001   01  2005-10-21       240  001   \n",
       "1    1  Prudencio Caminero  120000    1  001   02  2005-10-21        48  001   \n",
       "\n",
       "  Nombre        Cif     Localidad  \n",
       "0   Stop  11111111X  Villa Botijo  \n",
       "1   Stop  11111111X  Villa Botijo  "
      ]
     },
     "execution_count": 38,
     "metadata": {},
     "output_type": "execute_result"
    }
   ],
   "source": [
    "# 1 Obtener el nombre de los empleados que hayan repartido al bar Stop durante la semana \n",
    "# del 17 al 23 de octubre de 2005.\n",
    "\n",
    "query = '''\n",
    "SELECT DISTINCT empleados.Nombre\n",
    "FROM empleados\n",
    "INNER JOIN reparto\n",
    "ON empleados.CodE = reparto.CodE\n",
    "INNER JOIN bares\n",
    "ON bares.CodB = reparto.CodB\n",
    "WHERE bares.nombre = 'Stop' AND reparto.fecha BETWEEN '17/10/2005' AND '23/10/2005'\n",
    "\n",
    "'''\n",
    "\n",
    "sql_query(query)"
   ]
  },
  {
   "cell_type": "code",
   "execution_count": 46,
   "id": "7bdb7d63",
   "metadata": {},
   "outputs": [
    {
     "data": {
      "text/html": [
       "<div>\n",
       "<style scoped>\n",
       "    .dataframe tbody tr th:only-of-type {\n",
       "        vertical-align: middle;\n",
       "    }\n",
       "\n",
       "    .dataframe tbody tr th {\n",
       "        vertical-align: top;\n",
       "    }\n",
       "\n",
       "    .dataframe thead th {\n",
       "        text-align: right;\n",
       "    }\n",
       "</style>\n",
       "<table border=\"1\" class=\"dataframe\">\n",
       "  <thead>\n",
       "    <tr style=\"text-align: right;\">\n",
       "      <th></th>\n",
       "      <th>Nombre</th>\n",
       "      <th>Cif</th>\n",
       "    </tr>\n",
       "  </thead>\n",
       "  <tbody>\n",
       "    <tr>\n",
       "      <th>0</th>\n",
       "      <td>Otra Ronda</td>\n",
       "      <td>33333333Z</td>\n",
       "    </tr>\n",
       "    <tr>\n",
       "      <th>1</th>\n",
       "      <td>Stop</td>\n",
       "      <td>11111111X</td>\n",
       "    </tr>\n",
       "  </tbody>\n",
       "</table>\n",
       "</div>"
      ],
      "text/plain": [
       "       Nombre        Cif\n",
       "0  Otra Ronda  33333333Z\n",
       "1        Stop  11111111X"
      ]
     },
     "execution_count": 46,
     "metadata": {},
     "output_type": "execute_result"
    }
   ],
   "source": [
    "# 2\n",
    "query = '''\n",
    "SELECT DISTINCT bares.nombre, bares.cif\n",
    "FROM bares\n",
    "INNER JOIN reparto\n",
    "ON bares.CodB= reparto.CodB\n",
    "INNER JOIN cervezas\n",
    "ON cervezas.CodC= reparto.CodC\n",
    "WHERE cervezas.capacidad <1 AND cervezas.envase = 'Botella'\n",
    "ORDER BY bares.Localidad\n",
    "'''\n",
    "\n",
    "sql_query(query)"
   ]
  },
  {
   "cell_type": "code",
   "execution_count": 47,
   "id": "34e5d749",
   "metadata": {},
   "outputs": [
    {
     "data": {
      "text/html": [
       "<div>\n",
       "<style scoped>\n",
       "    .dataframe tbody tr th:only-of-type {\n",
       "        vertical-align: middle;\n",
       "    }\n",
       "\n",
       "    .dataframe tbody tr th {\n",
       "        vertical-align: top;\n",
       "    }\n",
       "\n",
       "    .dataframe thead th {\n",
       "        text-align: right;\n",
       "    }\n",
       "</style>\n",
       "<table border=\"1\" class=\"dataframe\">\n",
       "  <thead>\n",
       "    <tr style=\"text-align: right;\">\n",
       "      <th></th>\n",
       "      <th>Nombre</th>\n",
       "      <th>Envase</th>\n",
       "      <th>Capacidad</th>\n",
       "      <th>Fecha</th>\n",
       "      <th>Cantidad</th>\n",
       "    </tr>\n",
       "  </thead>\n",
       "  <tbody>\n",
       "    <tr>\n",
       "      <th>0</th>\n",
       "      <td>Stop</td>\n",
       "      <td>Botella</td>\n",
       "      <td>0.20</td>\n",
       "      <td>2005-10-21</td>\n",
       "      <td>240</td>\n",
       "    </tr>\n",
       "    <tr>\n",
       "      <th>1</th>\n",
       "      <td>Stop</td>\n",
       "      <td>Botella</td>\n",
       "      <td>0.33</td>\n",
       "      <td>2005-10-21</td>\n",
       "      <td>48</td>\n",
       "    </tr>\n",
       "    <tr>\n",
       "      <th>2</th>\n",
       "      <td>Las Vegas</td>\n",
       "      <td>Lata</td>\n",
       "      <td>0.33</td>\n",
       "      <td>2005-10-22</td>\n",
       "      <td>60</td>\n",
       "    </tr>\n",
       "    <tr>\n",
       "      <th>3</th>\n",
       "      <td>Otra Ronda</td>\n",
       "      <td>Barril</td>\n",
       "      <td>60.00</td>\n",
       "      <td>2005-10-22</td>\n",
       "      <td>4</td>\n",
       "    </tr>\n",
       "  </tbody>\n",
       "</table>\n",
       "</div>"
      ],
      "text/plain": [
       "       Nombre   Envase  Capacidad       Fecha  Cantidad\n",
       "0        Stop  Botella       0.20  2005-10-21       240\n",
       "1        Stop  Botella       0.33  2005-10-21        48\n",
       "2   Las Vegas     Lata       0.33  2005-10-22        60\n",
       "3  Otra Ronda   Barril      60.00  2005-10-22         4"
      ]
     },
     "execution_count": 47,
     "metadata": {},
     "output_type": "execute_result"
    }
   ],
   "source": [
    "#3\n",
    "query =('''\n",
    "SELECT bares.nombre, cervezas.Envase,cervezas.Capacidad, reparto.Fecha,reparto.Cantidad\n",
    "FROM reparto\n",
    "INNER JOIN bares\n",
    "ON reparto.CodB = bares.CodB\n",
    "INNER JOIN cervezas\n",
    "ON reparto.CodC = cervezas.CodC\n",
    "INNER JOIN empleados\n",
    "ON reparto.codE = empleados.CodE\n",
    "WHERE empleados.nombre = 'Prudencio Caminero'\n",
    "''')\n",
    "sql_query(query)"
   ]
  },
  {
   "cell_type": "code",
   "execution_count": 49,
   "id": "b7737be7",
   "metadata": {},
   "outputs": [
    {
     "data": {
      "text/html": [
       "<div>\n",
       "<style scoped>\n",
       "    .dataframe tbody tr th:only-of-type {\n",
       "        vertical-align: middle;\n",
       "    }\n",
       "\n",
       "    .dataframe tbody tr th {\n",
       "        vertical-align: top;\n",
       "    }\n",
       "\n",
       "    .dataframe thead th {\n",
       "        text-align: right;\n",
       "    }\n",
       "</style>\n",
       "<table border=\"1\" class=\"dataframe\">\n",
       "  <thead>\n",
       "    <tr style=\"text-align: right;\">\n",
       "      <th></th>\n",
       "      <th>Nombre</th>\n",
       "    </tr>\n",
       "  </thead>\n",
       "  <tbody>\n",
       "    <tr>\n",
       "      <th>0</th>\n",
       "      <td>Stop</td>\n",
       "    </tr>\n",
       "    <tr>\n",
       "      <th>1</th>\n",
       "      <td>Otra Ronda</td>\n",
       "    </tr>\n",
       "  </tbody>\n",
       "</table>\n",
       "</div>"
      ],
      "text/plain": [
       "       Nombre\n",
       "0        Stop\n",
       "1  Otra Ronda"
      ]
     },
     "execution_count": 49,
     "metadata": {},
     "output_type": "execute_result"
    }
   ],
   "source": [
    "#4\n",
    "query = '''\n",
    "SELECT DISTINCT bares.nombre\n",
    "FROM cervezas\n",
    "INNER JOIN reparto\n",
    "ON cervezas.CodC = reparto.CodC\n",
    "INNER JOIN bares\n",
    "ON bares.CodB = reparto.CodB\n",
    "WHERE capacidad IN (0.2, 0.33) AND envase = \"Botella\"\n",
    "'''\n",
    "sql_query(query)"
   ]
  },
  {
   "cell_type": "code",
   "execution_count": 53,
   "id": "ce68a64d",
   "metadata": {},
   "outputs": [
    {
     "data": {
      "text/html": [
       "<div>\n",
       "<style scoped>\n",
       "    .dataframe tbody tr th:only-of-type {\n",
       "        vertical-align: middle;\n",
       "    }\n",
       "\n",
       "    .dataframe tbody tr th {\n",
       "        vertical-align: top;\n",
       "    }\n",
       "\n",
       "    .dataframe thead th {\n",
       "        text-align: right;\n",
       "    }\n",
       "</style>\n",
       "<table border=\"1\" class=\"dataframe\">\n",
       "  <thead>\n",
       "    <tr style=\"text-align: right;\">\n",
       "      <th></th>\n",
       "      <th>Nombre</th>\n",
       "    </tr>\n",
       "  </thead>\n",
       "  <tbody>\n",
       "    <tr>\n",
       "      <th>0</th>\n",
       "      <td>Stop</td>\n",
       "    </tr>\n",
       "    <tr>\n",
       "      <th>1</th>\n",
       "      <td>Otra Ronda</td>\n",
       "    </tr>\n",
       "  </tbody>\n",
       "</table>\n",
       "</div>"
      ],
      "text/plain": [
       "       Nombre\n",
       "0        Stop\n",
       "1  Otra Ronda"
      ]
     },
     "execution_count": 53,
     "metadata": {},
     "output_type": "execute_result"
    }
   ],
   "source": [
    "#4\n",
    "query = '''\n",
    "SELECT DISTINCT b.nombre --, c.envase, c.capacidad\n",
    "\n",
    "FROM bares b\n",
    "INNER JOIN reparto r\n",
    "ON b.Codb = r.Codb\n",
    "INNER JOIN cervezas c\n",
    "ON r.Codc = c.Codc\n",
    "WHERE c.envase = 'Botella' AND c.capacidad IN (0.2, 0.33)\n",
    "\n",
    "'''\n",
    "sql_query(query)"
   ]
  },
  {
   "cell_type": "code",
   "execution_count": 54,
   "id": "5b72b7ca",
   "metadata": {},
   "outputs": [
    {
     "data": {
      "text/html": [
       "<div>\n",
       "<style scoped>\n",
       "    .dataframe tbody tr th:only-of-type {\n",
       "        vertical-align: middle;\n",
       "    }\n",
       "\n",
       "    .dataframe tbody tr th {\n",
       "        vertical-align: top;\n",
       "    }\n",
       "\n",
       "    .dataframe thead th {\n",
       "        text-align: right;\n",
       "    }\n",
       "</style>\n",
       "<table border=\"1\" class=\"dataframe\">\n",
       "  <thead>\n",
       "    <tr style=\"text-align: right;\">\n",
       "      <th></th>\n",
       "      <th>nombreE</th>\n",
       "      <th>nombreB</th>\n",
       "      <th>Envase</th>\n",
       "    </tr>\n",
       "  </thead>\n",
       "  <tbody>\n",
       "    <tr>\n",
       "      <th>0</th>\n",
       "      <td>Prudencio Caminero</td>\n",
       "      <td>Stop</td>\n",
       "      <td>Botella</td>\n",
       "    </tr>\n",
       "    <tr>\n",
       "      <th>1</th>\n",
       "      <td>Prudencio Caminero</td>\n",
       "      <td>Stop</td>\n",
       "      <td>Botella</td>\n",
       "    </tr>\n",
       "  </tbody>\n",
       "</table>\n",
       "</div>"
      ],
      "text/plain": [
       "              nombreE nombreB   Envase\n",
       "0  Prudencio Caminero    Stop  Botella\n",
       "1  Prudencio Caminero    Stop  Botella"
      ]
     },
     "execution_count": 54,
     "metadata": {},
     "output_type": "execute_result"
    }
   ],
   "source": [
    "#5\n",
    "query = '''\n",
    "SELECT e.nombre as nombreE, b.nombre as nombreB, c.envase\n",
    "\n",
    "FROM bares b\n",
    "INNER JOIN reparto r\n",
    "ON b.Codb = r.Codb\n",
    "INNER JOIN cervezas c\n",
    "ON r.Codc = c.Codc\n",
    "INNER JOIN empleadoS e\n",
    "ON e.CodE = r.CodE\n",
    "WHERE c.envase = 'Botella' AND b.nombre  IN (\"Stop\", \"Las Vegas\")\n",
    "\n",
    "'''\n",
    "sql_query(query)"
   ]
  },
  {
   "cell_type": "code",
   "execution_count": 56,
   "id": "cd5430dc",
   "metadata": {},
   "outputs": [
    {
     "data": {
      "text/html": [
       "<div>\n",
       "<style scoped>\n",
       "    .dataframe tbody tr th:only-of-type {\n",
       "        vertical-align: middle;\n",
       "    }\n",
       "\n",
       "    .dataframe tbody tr th {\n",
       "        vertical-align: top;\n",
       "    }\n",
       "\n",
       "    .dataframe thead th {\n",
       "        text-align: right;\n",
       "    }\n",
       "</style>\n",
       "<table border=\"1\" class=\"dataframe\">\n",
       "  <thead>\n",
       "    <tr style=\"text-align: right;\">\n",
       "      <th></th>\n",
       "      <th>nombreE</th>\n",
       "      <th>nombreB</th>\n",
       "      <th>Envase</th>\n",
       "    </tr>\n",
       "  </thead>\n",
       "  <tbody>\n",
       "    <tr>\n",
       "      <th>0</th>\n",
       "      <td>Prudencio Caminero</td>\n",
       "      <td>Stop</td>\n",
       "      <td>Botella</td>\n",
       "    </tr>\n",
       "  </tbody>\n",
       "</table>\n",
       "</div>"
      ],
      "text/plain": [
       "              nombreE nombreB   Envase\n",
       "0  Prudencio Caminero    Stop  Botella"
      ]
     },
     "execution_count": 56,
     "metadata": {},
     "output_type": "execute_result"
    }
   ],
   "source": [
    "#5 \n",
    "query = '''\n",
    "SELECT e.nombre as nombreE, b.nombre as nombreB, c.envase\n",
    "\n",
    "FROM bares b\n",
    "INNER JOIN reparto r\n",
    "ON b.Codb = r.Codb\n",
    "INNER JOIN cervezas c\n",
    "ON r.Codc = c.Codc\n",
    "INNER JOIN empleadoS e\n",
    "ON e.CodE = r.CodE\n",
    "\n",
    "GROUP BY e.nombre \n",
    "HAVING c.envase = 'Botella' AND b.nombre IN ('Stop', 'Las Vegas')\n",
    "'''\n",
    "sql_query(query)"
   ]
  },
  {
   "cell_type": "code",
   "execution_count": 71,
   "id": "cdbc3108",
   "metadata": {},
   "outputs": [
    {
     "data": {
      "text/html": [
       "<div>\n",
       "<style scoped>\n",
       "    .dataframe tbody tr th:only-of-type {\n",
       "        vertical-align: middle;\n",
       "    }\n",
       "\n",
       "    .dataframe tbody tr th {\n",
       "        vertical-align: top;\n",
       "    }\n",
       "\n",
       "    .dataframe thead th {\n",
       "        text-align: right;\n",
       "    }\n",
       "</style>\n",
       "<table border=\"1\" class=\"dataframe\">\n",
       "  <thead>\n",
       "    <tr style=\"text-align: right;\">\n",
       "      <th></th>\n",
       "      <th>nombreE</th>\n",
       "      <th>nombreB</th>\n",
       "      <th>Localidad</th>\n",
       "      <th>count(distinct r.fecha)</th>\n",
       "    </tr>\n",
       "  </thead>\n",
       "  <tbody>\n",
       "    <tr>\n",
       "      <th>0</th>\n",
       "      <td>Prudencio Caminero</td>\n",
       "      <td>Otra Ronda</td>\n",
       "      <td>La Esponja</td>\n",
       "      <td>1</td>\n",
       "    </tr>\n",
       "    <tr>\n",
       "      <th>1</th>\n",
       "      <td>Valentin Siempre</td>\n",
       "      <td>Club Social</td>\n",
       "      <td>Las Ranas</td>\n",
       "      <td>2</td>\n",
       "    </tr>\n",
       "    <tr>\n",
       "      <th>2</th>\n",
       "      <td>Vicente Merario</td>\n",
       "      <td>Otra Ronda</td>\n",
       "      <td>La Esponja</td>\n",
       "      <td>2</td>\n",
       "    </tr>\n",
       "  </tbody>\n",
       "</table>\n",
       "</div>"
      ],
      "text/plain": [
       "              nombreE      nombreB   Localidad  count(distinct r.fecha)\n",
       "0  Prudencio Caminero   Otra Ronda  La Esponja                        1\n",
       "1    Valentin Siempre  Club Social   Las Ranas                        2\n",
       "2     Vicente Merario   Otra Ronda  La Esponja                        2"
      ]
     },
     "execution_count": 71,
     "metadata": {},
     "output_type": "execute_result"
    }
   ],
   "source": [
    "#6\n",
    "query = '''\n",
    "SELECT  e.nombre AS nombreE, b.nombre AS nombreB, b.localidad, count(distinct r.fecha)\n",
    "FROM empleados e\n",
    "INNER JOIN reparto r\n",
    "ON e.CodE = r.CodE\n",
    "INNER JOIN bares b\n",
    "ON b.CodB = r.CodB\n",
    "WHERE localidad != 'Villa Botijo'\n",
    "GROUP BY e.nombre, b.nombre\n",
    "'''\n",
    "sql_query(query)"
   ]
  },
  {
   "cell_type": "code",
   "execution_count": 74,
   "id": "afd18f6b",
   "metadata": {},
   "outputs": [
    {
     "data": {
      "text/html": [
       "<div>\n",
       "<style scoped>\n",
       "    .dataframe tbody tr th:only-of-type {\n",
       "        vertical-align: middle;\n",
       "    }\n",
       "\n",
       "    .dataframe tbody tr th {\n",
       "        vertical-align: top;\n",
       "    }\n",
       "\n",
       "    .dataframe thead th {\n",
       "        text-align: right;\n",
       "    }\n",
       "</style>\n",
       "<table border=\"1\" class=\"dataframe\">\n",
       "  <thead>\n",
       "    <tr style=\"text-align: right;\">\n",
       "      <th></th>\n",
       "      <th>nombre</th>\n",
       "      <th>localidad</th>\n",
       "      <th>maximo</th>\n",
       "    </tr>\n",
       "  </thead>\n",
       "  <tbody>\n",
       "    <tr>\n",
       "      <th>0</th>\n",
       "      <td>Otra Ronda</td>\n",
       "      <td>La Esponja</td>\n",
       "      <td>240.0</td>\n",
       "    </tr>\n",
       "  </tbody>\n",
       "</table>\n",
       "</div>"
      ],
      "text/plain": [
       "       nombre   localidad  maximo\n",
       "0  Otra Ronda  La Esponja   240.0"
      ]
     },
     "execution_count": 74,
     "metadata": {},
     "output_type": "execute_result"
    }
   ],
   "source": [
    "# 7\n",
    "query = '''\n",
    "SELECT t.nombre, t.localidad, max(t.maximo) AS maximo\n",
    "FROM\n",
    "\n",
    "(SELECT \n",
    "b.nombre, b.localidad, max(r.cantidad * c.capacidad) as maximo\n",
    "FROM cervezas c\n",
    "INNER JOIN reparto r\n",
    "ON c.CodC = r.CodC\n",
    "INNER JOIN bares b\n",
    "ON b.CodB = r.CodB\n",
    "\n",
    "GROUP BY b.nombre, b.localidad)  t\n",
    "\n",
    "\n",
    "'''\n",
    "sql_query(query)"
   ]
  },
  {
   "cell_type": "code",
   "execution_count": 81,
   "id": "552e1907",
   "metadata": {},
   "outputs": [
    {
     "data": {
      "text/html": [
       "<div>\n",
       "<style scoped>\n",
       "    .dataframe tbody tr th:only-of-type {\n",
       "        vertical-align: middle;\n",
       "    }\n",
       "\n",
       "    .dataframe tbody tr th {\n",
       "        vertical-align: top;\n",
       "    }\n",
       "\n",
       "    .dataframe thead th {\n",
       "        text-align: right;\n",
       "    }\n",
       "</style>\n",
       "<table border=\"1\" class=\"dataframe\">\n",
       "  <thead>\n",
       "    <tr style=\"text-align: right;\">\n",
       "      <th></th>\n",
       "      <th>Nombre</th>\n",
       "      <th>Localidad</th>\n",
       "      <th>Cantidad</th>\n",
       "      <th>Capacidad</th>\n",
       "      <th>maximo</th>\n",
       "    </tr>\n",
       "  </thead>\n",
       "  <tbody>\n",
       "    <tr>\n",
       "      <th>0</th>\n",
       "      <td>Club Social</td>\n",
       "      <td>Las Ranas</td>\n",
       "      <td>48</td>\n",
       "      <td>0.33</td>\n",
       "      <td>15.84</td>\n",
       "    </tr>\n",
       "    <tr>\n",
       "      <th>1</th>\n",
       "      <td>Club Social</td>\n",
       "      <td>Las Ranas</td>\n",
       "      <td>20</td>\n",
       "      <td>1.00</td>\n",
       "      <td>20.00</td>\n",
       "    </tr>\n",
       "    <tr>\n",
       "      <th>2</th>\n",
       "      <td>Las Vegas</td>\n",
       "      <td>Villa Botijo</td>\n",
       "      <td>48</td>\n",
       "      <td>0.33</td>\n",
       "      <td>15.84</td>\n",
       "    </tr>\n",
       "    <tr>\n",
       "      <th>3</th>\n",
       "      <td>Las Vegas</td>\n",
       "      <td>Villa Botijo</td>\n",
       "      <td>60</td>\n",
       "      <td>0.33</td>\n",
       "      <td>19.80</td>\n",
       "    </tr>\n",
       "    <tr>\n",
       "      <th>4</th>\n",
       "      <td>Las Vegas</td>\n",
       "      <td>Villa Botijo</td>\n",
       "      <td>2</td>\n",
       "      <td>60.00</td>\n",
       "      <td>120.00</td>\n",
       "    </tr>\n",
       "    <tr>\n",
       "      <th>5</th>\n",
       "      <td>Otra Ronda</td>\n",
       "      <td>La Esponja</td>\n",
       "      <td>72</td>\n",
       "      <td>0.33</td>\n",
       "      <td>23.76</td>\n",
       "    </tr>\n",
       "    <tr>\n",
       "      <th>6</th>\n",
       "      <td>Otra Ronda</td>\n",
       "      <td>La Esponja</td>\n",
       "      <td>480</td>\n",
       "      <td>0.20</td>\n",
       "      <td>96.00</td>\n",
       "    </tr>\n",
       "    <tr>\n",
       "      <th>7</th>\n",
       "      <td>Otra Ronda</td>\n",
       "      <td>La Esponja</td>\n",
       "      <td>4</td>\n",
       "      <td>60.00</td>\n",
       "      <td>240.00</td>\n",
       "    </tr>\n",
       "    <tr>\n",
       "      <th>8</th>\n",
       "      <td>Stop</td>\n",
       "      <td>Villa Botijo</td>\n",
       "      <td>48</td>\n",
       "      <td>0.33</td>\n",
       "      <td>15.84</td>\n",
       "    </tr>\n",
       "    <tr>\n",
       "      <th>9</th>\n",
       "      <td>Stop</td>\n",
       "      <td>Villa Botijo</td>\n",
       "      <td>240</td>\n",
       "      <td>0.20</td>\n",
       "      <td>48.00</td>\n",
       "    </tr>\n",
       "  </tbody>\n",
       "</table>\n",
       "</div>"
      ],
      "text/plain": [
       "        Nombre     Localidad  Cantidad  Capacidad  maximo\n",
       "0  Club Social     Las Ranas        48       0.33   15.84\n",
       "1  Club Social     Las Ranas        20       1.00   20.00\n",
       "2    Las Vegas  Villa Botijo        48       0.33   15.84\n",
       "3    Las Vegas  Villa Botijo        60       0.33   19.80\n",
       "4    Las Vegas  Villa Botijo         2      60.00  120.00\n",
       "5   Otra Ronda    La Esponja        72       0.33   23.76\n",
       "6   Otra Ronda    La Esponja       480       0.20   96.00\n",
       "7   Otra Ronda    La Esponja         4      60.00  240.00\n",
       "8         Stop  Villa Botijo        48       0.33   15.84\n",
       "9         Stop  Villa Botijo       240       0.20   48.00"
      ]
     },
     "execution_count": 81,
     "metadata": {},
     "output_type": "execute_result"
    }
   ],
   "source": [
    "query = '''\n",
    "SELECT \n",
    "b.nombre, b.localidad, r.cantidad, c.capacidad, (r.cantidad * c.capacidad) as maximo\n",
    "FROM cervezas c\n",
    "INNER JOIN reparto r\n",
    "ON c.CodC = r.CodC\n",
    "INNER JOIN bares b\n",
    "ON b.CodB = r.CodB\n",
    "\n",
    "GROUP BY b.nombre, b.localidad, (r.cantidad * c.capacidad)\n",
    "'''\n",
    "sql_query(query)"
   ]
  },
  {
   "cell_type": "code",
   "execution_count": 83,
   "id": "d47e1aaf",
   "metadata": {},
   "outputs": [
    {
     "data": {
      "text/html": [
       "<div>\n",
       "<style scoped>\n",
       "    .dataframe tbody tr th:only-of-type {\n",
       "        vertical-align: middle;\n",
       "    }\n",
       "\n",
       "    .dataframe tbody tr th {\n",
       "        vertical-align: top;\n",
       "    }\n",
       "\n",
       "    .dataframe thead th {\n",
       "        text-align: right;\n",
       "    }\n",
       "</style>\n",
       "<table border=\"1\" class=\"dataframe\">\n",
       "  <thead>\n",
       "    <tr style=\"text-align: right;\">\n",
       "      <th></th>\n",
       "      <th>Nombre</th>\n",
       "    </tr>\n",
       "  </thead>\n",
       "  <tbody>\n",
       "    <tr>\n",
       "      <th>0</th>\n",
       "      <td>Stop</td>\n",
       "    </tr>\n",
       "    <tr>\n",
       "      <th>1</th>\n",
       "      <td>Otra Ronda</td>\n",
       "    </tr>\n",
       "  </tbody>\n",
       "</table>\n",
       "</div>"
      ],
      "text/plain": [
       "       Nombre\n",
       "0        Stop\n",
       "1  Otra Ronda"
      ]
     },
     "execution_count": 83,
     "metadata": {},
     "output_type": "execute_result"
    }
   ],
   "source": [
    "#8\n",
    "query = '''\n",
    "SELECT \n",
    "DISTINCT b.nombre\n",
    "\n",
    "FROM bares b\n",
    "INNER JOIN reparto r\n",
    "ON b.CodB= r.CodB\n",
    "INNER JOIN cervezas c\n",
    "ON c.CodC = r.CodC\n",
    "WHERE c.envase = 'Botella' AND c.Capacidad <1\n",
    "\n",
    "'''\n",
    "sql_query(query)"
   ]
  },
  {
   "cell_type": "code",
   "execution_count": null,
   "id": "2dd595c4",
   "metadata": {},
   "outputs": [],
   "source": [
    "query =('''\n",
    "SELECT t.Nombre, max(t.dias) dias, t.Sueldo*1.05 nuevo_sueldo\n",
    "FROM \n",
    "(SELECT e.nombre, count(Distinct r.fecha) AS dias, e.Sueldo\n",
    "FROM reparto r\n",
    "INNER JOIN bares b\n",
    "ON r.CodB = b.CodB\n",
    "INNER JOIN empleados e\n",
    "ON r.codE = e.CodE\n",
    "GROUP BY e.nombre) t\n",
    "''')\n",
    "sql_query(query)"
   ]
  },
  {
   "cell_type": "code",
   "execution_count": null,
   "id": "4c3d9313",
   "metadata": {},
   "outputs": [],
   "source": [
    "query9 = '''\n",
    "SELECT t.Sueldo*1.05, MAX(t.maximo) ,t.Nombre\n",
    "FROM (SELECT e.Sueldo, COUNT(DISTINCT r.Fecha) as maximo, e.Nombre\n",
    "    FROM empleados as e\n",
    "    INNER JOIN reparto as r\n",
    "    ON e.CodE = r.CodE\n",
    "    GROUP BY e.Nombre) t\n",
    "'''\n",
    "sql_query(query9)"
   ]
  },
  {
   "cell_type": "code",
   "execution_count": null,
   "id": "b53421b6",
   "metadata": {},
   "outputs": [],
   "source": [
    "query = '''\n",
    "UPDATE empleados\n",
    "SET sueldo = sueldo * 1.05\n",
    "WHERE CodE IN (\n",
    "SELECT \n",
    "CodE\n",
    "FROM reparto\n",
    "GROUP BY CodE\n",
    "ORDER BY COUNT( DISTINCT Fecha) DESC LIMIT 1)\n",
    "'''\n",
    "crsr.execute(query)"
   ]
  }
 ],
 "metadata": {
  "kernelspec": {
   "display_name": "Python 3 (ipykernel)",
   "language": "python",
   "name": "python3"
  },
  "language_info": {
   "codemirror_mode": {
    "name": "ipython",
    "version": 3
   },
   "file_extension": ".py",
   "mimetype": "text/x-python",
   "name": "python",
   "nbconvert_exporter": "python",
   "pygments_lexer": "ipython3",
   "version": "3.10.9"
  }
 },
 "nbformat": 4,
 "nbformat_minor": 5
}
