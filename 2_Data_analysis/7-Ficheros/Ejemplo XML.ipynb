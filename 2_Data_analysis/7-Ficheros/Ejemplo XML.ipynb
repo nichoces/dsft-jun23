{
 "cells": [
  {
   "cell_type": "markdown",
   "metadata": {},
   "source": [
    "# Archivo XML\n",
    "Un XML está compuesto de tags y atributos. Es posible leer desde un archivo local o a través de una URL mediante librerías como `urllib`."
   ]
  },
  {
   "cell_type": "code",
   "execution_count": 2,
   "metadata": {},
   "outputs": [
    {
     "name": "stdout",
     "output_type": "stream",
     "text": [
      "<class 'xml.etree.ElementTree.ElementTree'>\n"
     ]
    },
    {
     "data": {
      "text/plain": [
       "<Element 'data' at 0x0000028A3E12D1C0>"
      ]
     },
     "execution_count": 2,
     "metadata": {},
     "output_type": "execute_result"
    }
   ],
   "source": [
    "import xml.etree.ElementTree as ET\n",
    "tree = ET.parse('ejemplo.xml')\n",
    "print(type(tree))\n",
    "root = tree.getroot()\n",
    "root"
   ]
  },
  {
   "cell_type": "markdown",
   "metadata": {},
   "source": [
    "Dentro de root, hay n elementos, considerados como los *children* de root. Cada elemento del XML tiene un *tag* y varios atributos en formato clave-valor."
   ]
  },
  {
   "cell_type": "code",
   "execution_count": 3,
   "metadata": {
    "tags": []
   },
   "outputs": [
    {
     "name": "stdout",
     "output_type": "stream",
     "text": [
      "country\n",
      "{'name': 'Liechtenstein'}\n",
      "Liechtenstein\n",
      "\n",
      "country\n",
      "{'name': 'Singapore'}\n",
      "Singapore\n",
      "\n",
      "country\n",
      "{'name': 'Panama'}\n",
      "Panama\n",
      "\n"
     ]
    }
   ],
   "source": [
    "for child in root:\n",
    "    print(child.tag)\n",
    "    print(child.attrib)\n",
    "    print(child.attrib.get('name') + '\\n')"
   ]
  },
  {
   "cell_type": "markdown",
   "metadata": {},
   "source": [
    "Para obtener los children de cada línea:"
   ]
  },
  {
   "cell_type": "code",
   "execution_count": 4,
   "metadata": {
    "tags": []
   },
   "outputs": [
    {
     "name": "stdout",
     "output_type": "stream",
     "text": [
      "data\n",
      "country\n",
      "rank\n",
      "year\n",
      "gdppc\n",
      "neighbor\n",
      "neighbor\n",
      "country\n",
      "rank\n",
      "year\n",
      "gdppc\n",
      "neighbor\n",
      "country\n",
      "rank\n",
      "year\n",
      "gdppc\n",
      "neighbor\n",
      "neighbor\n"
     ]
    }
   ],
   "source": [
    "for node in root.iter():\n",
    "    print(node.tag)"
   ]
  },
  {
   "cell_type": "markdown",
   "metadata": {},
   "source": [
    "Los elementos van ordenados, por lo que podremos acceder a los mismos mediante su orden.\n",
    "\n",
    "Si queremos acceder a lo que hay dentro de los tags: `.text`. Devuelve un String, aunque estemos hablando de un número."
   ]
  },
  {
   "cell_type": "code",
   "execution_count": 5,
   "metadata": {},
   "outputs": [
    {
     "name": "stdout",
     "output_type": "stream",
     "text": [
      "<Element 'year' at 0x0000028A3E12F0B0>\n",
      "2008\n"
     ]
    }
   ],
   "source": [
    "print(root[0][1])\n",
    "print(root[0][1].text)"
   ]
  },
  {
   "cell_type": "markdown",
   "metadata": {},
   "source": [
    "Para iterar sobre unos elementos concretos. Podría haber atributos que se llamen igual en diferentes puntos del XML, y quizá ese no es el comportamiento que deseamos. Podemos filtrar los que nos interesan usando expresiones XPath."
   ]
  },
  {
   "cell_type": "code",
   "execution_count": 6,
   "metadata": {
    "tags": []
   },
   "outputs": [
    {
     "name": "stdout",
     "output_type": "stream",
     "text": [
      "<class 'xml.etree.ElementTree.Element'>\n",
      "{'name': 'Austria', 'direction': 'E'}\n",
      "Austria\n",
      "<class 'xml.etree.ElementTree.Element'>\n",
      "{'name': 'Switzerland', 'direction': 'W'}\n",
      "Switzerland\n",
      "<class 'xml.etree.ElementTree.Element'>\n",
      "{'name': 'Malaysia', 'direction': 'N'}\n",
      "Malaysia\n",
      "<class 'xml.etree.ElementTree.Element'>\n",
      "{'name': 'Costa Rica', 'direction': 'W'}\n",
      "Costa Rica\n",
      "<class 'xml.etree.ElementTree.Element'>\n",
      "{'name': 'Colombia', 'direction': 'E'}\n",
      "Colombia\n"
     ]
    }
   ],
   "source": [
    "for neighbor in root.iter('neighbor'):\n",
    "    print(type(neighbor))\n",
    "    print(neighbor.attrib)\n",
    "    print(neighbor.attrib['name'])"
   ]
  },
  {
   "cell_type": "markdown",
   "metadata": {},
   "source": [
    "1. `find` para buscar un tag dentro del árbol inmediato, y no de sus hijos.\n",
    "2. `iter` para buscar un tag dentro de todo un árbol, incluidos sus hijos.\n",
    "3. `get` para conseguir el valor de un atributo."
   ]
  },
  {
   "cell_type": "code",
   "execution_count": 7,
   "metadata": {},
   "outputs": [
    {
     "name": "stdout",
     "output_type": "stream",
     "text": [
      "Liechtenstein None 1\n",
      "Singapore None 4\n",
      "Panama None 68\n"
     ]
    }
   ],
   "source": [
    "for country in root.findall('country'):\n",
    "    rank = country.find('rank').text\n",
    "    neighbor = country.find('neighbor').text\n",
    "    name = country.get('name')\n",
    "    \n",
    "    print(name, neighbor, rank)"
   ]
  },
  {
   "cell_type": "markdown",
   "metadata": {},
   "source": [
    "También podríamos modificarlo"
   ]
  },
  {
   "cell_type": "code",
   "execution_count": 8,
   "metadata": {},
   "outputs": [],
   "source": [
    "for rank in root.iter('rank'):\n",
    "    new_rank = int(rank.text) + 1\n",
    "    rank.text = str(new_rank)\n",
    "    rank.set('updated', 'yes')"
   ]
  },
  {
   "cell_type": "code",
   "execution_count": 9,
   "metadata": {},
   "outputs": [
    {
     "name": "stdout",
     "output_type": "stream",
     "text": [
      "Liechtenstein 2\n",
      "Singapore 5\n",
      "Panama 69\n"
     ]
    }
   ],
   "source": [
    "for country in root.findall('country'):\n",
    "    rank = country.find('rank').text \n",
    "    name = country.get('name') \n",
    "    print(name, rank)"
   ]
  },
  {
   "cell_type": "code",
   "execution_count": 10,
   "metadata": {},
   "outputs": [],
   "source": [
    "tree.write('output.xml')"
   ]
  },
  {
   "cell_type": "markdown",
   "metadata": {},
   "source": [
    "O eliminar elementos"
   ]
  },
  {
   "cell_type": "code",
   "execution_count": 11,
   "metadata": {},
   "outputs": [],
   "source": [
    "for country in root.findall('country'):\n",
    "    rank = int(country.find('rank').text)\n",
    "    if rank > 50:\n",
    "        root.remove(country)"
   ]
  },
  {
   "cell_type": "markdown",
   "metadata": {},
   "source": [
    "Para escribir los datos en un nuevo XML"
   ]
  },
  {
   "cell_type": "code",
   "execution_count": 12,
   "metadata": {
    "tags": []
   },
   "outputs": [],
   "source": [
    "tree.write('output.xml')"
   ]
  },
  {
   "cell_type": "markdown",
   "metadata": {},
   "source": [
    "Cada elemento que encuentra `findall()` o `iter()` es un `Element`, sobre el que podemos acceder a sus datos gracias a atributos como como `tag` o `attrib`.\n",
    "\n",
    "Acceso mediante XPath. Ya que la estructura de los XML es un árbol de tags, podremos acceder a los elementos mediante la ruta relativa de los tags."
   ]
  },
  {
   "cell_type": "code",
   "execution_count": 13,
   "metadata": {},
   "outputs": [
    {
     "name": "stdout",
     "output_type": "stream",
     "text": [
      "[<Element 'neighbor' at 0x0000028A3E12F9C0>, <Element 'neighbor' at 0x0000028A3E12C950>, <Element 'neighbor' at 0x0000028A3E12D8F0>]\n"
     ]
    }
   ],
   "source": [
    "print(root.findall('./country/neighbor'))"
   ]
  },
  {
   "cell_type": "markdown",
   "metadata": {},
   "source": [
    "# XML con RSS\n",
    "RSS es una manera que tienen las páginas web de publicar su contenido. En este caso no es un HTML, ni un CSS como se hace habitualmente, sino que será un XML, con un árbol de tags y distinta información. Páginas que utilizan esto son periódicos, foros o blogs. Permite acceder a los titulares de noticias, tanto de las generales, como de las secciones del periódico, de tal manera que puedas monitorizarlos en una aplicación. Los datos son abiertos y el formato de publicación es XML.\n",
    "\n",
    "En nuestro caso vamos a desarrollar un programa mediante el que recogeremos el RSS del periódico *El Pais* y montaremos una tabla con las principales noticias."
   ]
  },
  {
   "cell_type": "code",
   "execution_count": 14,
   "metadata": {
    "tags": []
   },
   "outputs": [
    {
     "name": "stdout",
     "output_type": "stream",
     "text": [
      "Logotipo de EL PAÍS https://ep00.epimg.net/iconos/v1.x/v1.0/logos/cabecera_portada.png https://elpais.com/\n"
     ]
    }
   ],
   "source": [
    "from urllib.request import urlopen\n",
    "from xml.etree.ElementTree import parse\n",
    "\n",
    "var_url = urlopen('http://ep00.epimg.net/rss/tags/ultimas_noticias.xml')\n",
    "xmldoc = parse(var_url)\n",
    "\n",
    "for item in xmldoc.findall('./channel/image'):\n",
    "    title = item.findtext('title')\n",
    "    url = item.findtext('url')\n",
    "    link = item.findtext('link')\n",
    "    \n",
    "    print(title, url, link)"
   ]
  },
  {
   "cell_type": "markdown",
   "metadata": {},
   "source": [
    "Enlaces documentación\n",
    "\n",
    "https://docs.python.org/3/library/xml.etree.elementtree.html\n",
    "\n",
    "https://rico-schmidt.name/pymotw-3/xml.etree.ElementTree/parse.html"
   ]
  }
 ],
 "metadata": {
  "kernelspec": {
   "display_name": "Python 3 (ipykernel)",
   "language": "python",
   "name": "python3"
  },
  "language_info": {
   "codemirror_mode": {
    "name": "ipython",
    "version": 3
   },
   "file_extension": ".py",
   "mimetype": "text/x-python",
   "name": "python",
   "nbconvert_exporter": "python",
   "pygments_lexer": "ipython3",
   "version": "3.10.9"
  },
  "vscode": {
   "interpreter": {
    "hash": "252189e587d1e2aeba4a06e91fa71896c7a7f6e22e918b9407c7cde4ef2d5985"
   }
  }
 },
 "nbformat": 4,
 "nbformat_minor": 4
}
