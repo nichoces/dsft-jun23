{
 "cells": [
  {
   "cell_type": "markdown",
   "metadata": {},
   "source": [
    "# Keras\n",
    "Librería para programar redes neuronales de una manera más sencilla que con TensorFlow. Keras se encuentra en una capa de abstracción por encima de TensorFlow.\n",
    "\n",
    "[Documentación](https://keras.io/guides/)"
   ]
  },
  {
   "cell_type": "code",
   "execution_count": 2,
   "metadata": {},
   "outputs": [],
   "source": [
    "#!pip install tensorflow --user\n",
    "#!pip install keras --user\n"
   ]
  },
  {
   "cell_type": "markdown",
   "metadata": {},
   "source": [
    "Empezamos importando librerías"
   ]
  },
  {
   "cell_type": "code",
   "execution_count": 1,
   "metadata": {},
   "outputs": [],
   "source": [
    "import tensorflow as tf\n",
    "from tensorflow import keras\n",
    "from tensorflow.keras import layers\n",
    "import pandas as pd\n",
    "import numpy as np"
   ]
  },
  {
   "cell_type": "markdown",
   "metadata": {},
   "source": [
    "Cargamos los datos de mnist. No vamos a tratar imagenes con redes convolucionales (perdemos la estructura espacial 2D). Todos los pixeles se convertirán en un vector de 28x28 features independientes, que serán las entradas del modelo."
   ]
  },
  {
   "cell_type": "code",
   "execution_count": 2,
   "metadata": {},
   "outputs": [],
   "source": [
    "# Cogemos las imágenes de los dígitos asi como el conjunto de train y test\n",
    "(X_train, y_train), (X_test, y_test) = keras.datasets.mnist.load_data()"
   ]
  },
  {
   "cell_type": "markdown",
   "metadata": {},
   "source": [
    "Vemos dimensiones del dataset"
   ]
  },
  {
   "cell_type": "code",
   "execution_count": 3,
   "metadata": {},
   "outputs": [
    {
     "name": "stdout",
     "output_type": "stream",
     "text": [
      "(60000, 28, 28)\n",
      "(60000,)\n",
      "(10000, 28, 28)\n",
      "(10000,)\n"
     ]
    }
   ],
   "source": [
    "'''\n",
    "60.000 imagenes de 28x28 pixeles\n",
    "'''\n",
    "print(X_train.shape)\n",
    "print(y_train.shape)\n",
    "print(X_test.shape)\n",
    "print(y_test.shape)"
   ]
  },
  {
   "cell_type": "code",
   "execution_count": 4,
   "metadata": {
    "tags": []
   },
   "outputs": [
    {
     "data": {
      "text/plain": [
       "array([[  0,   0,   0,   0,   0,   0,   0,   0,   0,   0,   0,   0,   0,\n",
       "          0,   0,   0,   0,   0,   0,   0,   0,   0,   0,   0,   0,   0,\n",
       "          0,   0],\n",
       "       [  0,   0,   0,   0,   0,   0,   0,   0,   0,   0,   0,   0,   0,\n",
       "          0,   0,   0,   0,   0,   0,   0,   0,   0,   0,   0,   0,   0,\n",
       "          0,   0],\n",
       "       [  0,   0,   0,   0,   0,   0,   0,   0,   0,   0,   0,   0,   0,\n",
       "          0,   0,   0,   0,   0,   0,   0,   0,   0,   0,   0,   0,   0,\n",
       "          0,   0],\n",
       "       [  0,   0,   0,   0,   0,   0,   0,   0,   0,   0,   0,   0,   0,\n",
       "          0,   0,   0,   0,   0,   0,   0,   0,   0,   0,   0,   0,   0,\n",
       "          0,   0],\n",
       "       [  0,   0,   0,   0,   0,   0,   0,   0,   0,   0,   0,   0,   0,\n",
       "          0,   0,   0,   0,   0,   0,   0,   0,   0,   0,   0,   0,   0,\n",
       "          0,   0],\n",
       "       [  0,   0,   0,   0,   0,   0,   0,   0,   0,   0,   0,   0,   3,\n",
       "         18,  18,  18, 126, 136, 175,  26, 166, 255, 247, 127,   0,   0,\n",
       "          0,   0],\n",
       "       [  0,   0,   0,   0,   0,   0,   0,   0,  30,  36,  94, 154, 170,\n",
       "        253, 253, 253, 253, 253, 225, 172, 253, 242, 195,  64,   0,   0,\n",
       "          0,   0],\n",
       "       [  0,   0,   0,   0,   0,   0,   0,  49, 238, 253, 253, 253, 253,\n",
       "        253, 253, 253, 253, 251,  93,  82,  82,  56,  39,   0,   0,   0,\n",
       "          0,   0],\n",
       "       [  0,   0,   0,   0,   0,   0,   0,  18, 219, 253, 253, 253, 253,\n",
       "        253, 198, 182, 247, 241,   0,   0,   0,   0,   0,   0,   0,   0,\n",
       "          0,   0],\n",
       "       [  0,   0,   0,   0,   0,   0,   0,   0,  80, 156, 107, 253, 253,\n",
       "        205,  11,   0,  43, 154,   0,   0,   0,   0,   0,   0,   0,   0,\n",
       "          0,   0],\n",
       "       [  0,   0,   0,   0,   0,   0,   0,   0,   0,  14,   1, 154, 253,\n",
       "         90,   0,   0,   0,   0,   0,   0,   0,   0,   0,   0,   0,   0,\n",
       "          0,   0],\n",
       "       [  0,   0,   0,   0,   0,   0,   0,   0,   0,   0,   0, 139, 253,\n",
       "        190,   2,   0,   0,   0,   0,   0,   0,   0,   0,   0,   0,   0,\n",
       "          0,   0],\n",
       "       [  0,   0,   0,   0,   0,   0,   0,   0,   0,   0,   0,  11, 190,\n",
       "        253,  70,   0,   0,   0,   0,   0,   0,   0,   0,   0,   0,   0,\n",
       "          0,   0],\n",
       "       [  0,   0,   0,   0,   0,   0,   0,   0,   0,   0,   0,   0,  35,\n",
       "        241, 225, 160, 108,   1,   0,   0,   0,   0,   0,   0,   0,   0,\n",
       "          0,   0],\n",
       "       [  0,   0,   0,   0,   0,   0,   0,   0,   0,   0,   0,   0,   0,\n",
       "         81, 240, 253, 253, 119,  25,   0,   0,   0,   0,   0,   0,   0,\n",
       "          0,   0],\n",
       "       [  0,   0,   0,   0,   0,   0,   0,   0,   0,   0,   0,   0,   0,\n",
       "          0,  45, 186, 253, 253, 150,  27,   0,   0,   0,   0,   0,   0,\n",
       "          0,   0],\n",
       "       [  0,   0,   0,   0,   0,   0,   0,   0,   0,   0,   0,   0,   0,\n",
       "          0,   0,  16,  93, 252, 253, 187,   0,   0,   0,   0,   0,   0,\n",
       "          0,   0],\n",
       "       [  0,   0,   0,   0,   0,   0,   0,   0,   0,   0,   0,   0,   0,\n",
       "          0,   0,   0,   0, 249, 253, 249,  64,   0,   0,   0,   0,   0,\n",
       "          0,   0],\n",
       "       [  0,   0,   0,   0,   0,   0,   0,   0,   0,   0,   0,   0,   0,\n",
       "          0,  46, 130, 183, 253, 253, 207,   2,   0,   0,   0,   0,   0,\n",
       "          0,   0],\n",
       "       [  0,   0,   0,   0,   0,   0,   0,   0,   0,   0,   0,   0,  39,\n",
       "        148, 229, 253, 253, 253, 250, 182,   0,   0,   0,   0,   0,   0,\n",
       "          0,   0],\n",
       "       [  0,   0,   0,   0,   0,   0,   0,   0,   0,   0,  24, 114, 221,\n",
       "        253, 253, 253, 253, 201,  78,   0,   0,   0,   0,   0,   0,   0,\n",
       "          0,   0],\n",
       "       [  0,   0,   0,   0,   0,   0,   0,   0,  23,  66, 213, 253, 253,\n",
       "        253, 253, 198,  81,   2,   0,   0,   0,   0,   0,   0,   0,   0,\n",
       "          0,   0],\n",
       "       [  0,   0,   0,   0,   0,   0,  18, 171, 219, 253, 253, 253, 253,\n",
       "        195,  80,   9,   0,   0,   0,   0,   0,   0,   0,   0,   0,   0,\n",
       "          0,   0],\n",
       "       [  0,   0,   0,   0,  55, 172, 226, 253, 253, 253, 253, 244, 133,\n",
       "         11,   0,   0,   0,   0,   0,   0,   0,   0,   0,   0,   0,   0,\n",
       "          0,   0],\n",
       "       [  0,   0,   0,   0, 136, 253, 253, 253, 212, 135, 132,  16,   0,\n",
       "          0,   0,   0,   0,   0,   0,   0,   0,   0,   0,   0,   0,   0,\n",
       "          0,   0],\n",
       "       [  0,   0,   0,   0,   0,   0,   0,   0,   0,   0,   0,   0,   0,\n",
       "          0,   0,   0,   0,   0,   0,   0,   0,   0,   0,   0,   0,   0,\n",
       "          0,   0],\n",
       "       [  0,   0,   0,   0,   0,   0,   0,   0,   0,   0,   0,   0,   0,\n",
       "          0,   0,   0,   0,   0,   0,   0,   0,   0,   0,   0,   0,   0,\n",
       "          0,   0],\n",
       "       [  0,   0,   0,   0,   0,   0,   0,   0,   0,   0,   0,   0,   0,\n",
       "          0,   0,   0,   0,   0,   0,   0,   0,   0,   0,   0,   0,   0,\n",
       "          0,   0]], dtype=uint8)"
      ]
     },
     "execution_count": 4,
     "metadata": {},
     "output_type": "execute_result"
    }
   ],
   "source": [
    "X_train[0]"
   ]
  },
  {
   "cell_type": "markdown",
   "metadata": {},
   "source": [
    "60.000 imágenes de 28x28 pixeles. Vamos a representar una de ellas"
   ]
  },
  {
   "cell_type": "code",
   "execution_count": 5,
   "metadata": {},
   "outputs": [
    {
     "name": "stderr",
     "output_type": "stream",
     "text": [
      "C:\\Users\\Admin\\AppData\\Local\\Temp\\ipykernel_12520\\3096108358.py:3: MatplotlibDeprecationWarning: The get_cmap function was deprecated in Matplotlib 3.7 and will be removed two minor releases later. Use ``matplotlib.colormaps[name]`` or ``matplotlib.colormaps.get_cmap(obj)`` instead.\n",
      "  plt.imshow(X_train[0], cmap=plt.cm.get_cmap('Greys'));\n"
     ]
    },
    {
     "data": {
      "image/png": "[encoded data removed]",
      "text/plain": [
       "<Figure size 640x480 with 1 Axes>"
      ]
     },
     "metadata": {},
     "output_type": "display_data"
    }
   ],
   "source": [
    "import matplotlib.pyplot as plt\n",
    "\n",
    "plt.imshow(X_train[0], cmap=plt.cm.get_cmap('Greys'));"
   ]
  },
  {
   "cell_type": "markdown",
   "metadata": {},
   "source": [
    "Cada imagen se compone de 28x28 pixeles, y cada pixel representa una escala de grises que va del 0 al 255. Siendo 0 el blanco y 255 negro.\n",
    "\n",
    "¿Se te ocurre alguna manera de normalizar los datos?"
   ]
  },
  {
   "cell_type": "code",
   "execution_count": 8,
   "metadata": {},
   "outputs": [
    {
     "data": {
      "text/plain": [
       "0.0"
      ]
     },
     "execution_count": 8,
     "metadata": {},
     "output_type": "execute_result"
    }
   ],
   "source": [
    "0/255"
   ]
  },
  {
   "cell_type": "code",
   "execution_count": 9,
   "metadata": {},
   "outputs": [
    {
     "data": {
      "text/plain": [
       "0.5019607843137255"
      ]
     },
     "execution_count": 9,
     "metadata": {},
     "output_type": "execute_result"
    }
   ],
   "source": [
    "128/255"
   ]
  },
  {
   "cell_type": "code",
   "execution_count": 10,
   "metadata": {},
   "outputs": [
    {
     "data": {
      "text/plain": [
       "1.0"
      ]
     },
     "execution_count": 10,
     "metadata": {},
     "output_type": "execute_result"
    }
   ],
   "source": [
    "255/255"
   ]
  },
  {
   "cell_type": "code",
   "execution_count": 6,
   "metadata": {},
   "outputs": [],
   "source": [
    "X_train = X_train.astype(\"float32\")/255\n",
    "X_test = X_test.astype(\"float32\")/255"
   ]
  },
  {
   "cell_type": "code",
   "execution_count": 12,
   "metadata": {},
   "outputs": [
    {
     "data": {
      "text/plain": [
       "0.13066062"
      ]
     },
     "execution_count": 12,
     "metadata": {},
     "output_type": "execute_result"
    }
   ],
   "source": [
    "np.mean(X_train)"
   ]
  },
  {
   "cell_type": "code",
   "execution_count": 7,
   "metadata": {
    "tags": []
   },
   "outputs": [
    {
     "data": {
      "text/plain": [
       "array([[0.        , 0.        , 0.        , 0.        , 0.        ,\n",
       "        0.        , 0.        , 0.        , 0.        , 0.        ,\n",
       "        0.        , 0.        , 0.        , 0.        , 0.        ,\n",
       "        0.        , 0.        , 0.        , 0.        , 0.        ,\n",
       "        0.        , 0.        , 0.        , 0.        , 0.        ,\n",
       "        0.        , 0.        , 0.        ],\n",
       "       [0.        , 0.        , 0.        , 0.        , 0.        ,\n",
       "        0.        , 0.        , 0.        , 0.        , 0.        ,\n",
       "        0.        , 0.        , 0.        , 0.        , 0.        ,\n",
       "        0.        , 0.        , 0.        , 0.        , 0.        ,\n",
       "        0.        , 0.        , 0.        , 0.        , 0.        ,\n",
       "        0.        , 0.        , 0.        ],\n",
       "       [0.        , 0.        , 0.        , 0.        , 0.        ,\n",
       "        0.        , 0.        , 0.        , 0.        , 0.        ,\n",
       "        0.        , 0.        , 0.        , 0.        , 0.        ,\n",
       "        0.        , 0.        , 0.        , 0.        , 0.        ,\n",
       "        0.        , 0.        , 0.        , 0.        , 0.        ,\n",
       "        0.        , 0.        , 0.        ],\n",
       "       [0.        , 0.        , 0.        , 0.        , 0.        ,\n",
       "        0.        , 0.        , 0.        , 0.        , 0.        ,\n",
       "        0.        , 0.        , 0.        , 0.        , 0.        ,\n",
       "        0.        , 0.        , 0.        , 0.        , 0.        ,\n",
       "        0.        , 0.        , 0.        , 0.        , 0.        ,\n",
       "        0.        , 0.        , 0.        ],\n",
       "       [0.        , 0.        , 0.        , 0.        , 0.        ,\n",
       "        0.        , 0.        , 0.        , 0.        , 0.        ,\n",
       "        0.        , 0.        , 0.        , 0.        , 0.        ,\n",
       "        0.        , 0.        , 0.        , 0.        , 0.        ,\n",
       "        0.        , 0.        , 0.        , 0.        , 0.        ,\n",
       "        0.        , 0.        , 0.        ],\n",
       "       [0.        , 0.        , 0.        , 0.        , 0.        ,\n",
       "        0.        , 0.        , 0.        , 0.        , 0.        ,\n",
       "        0.        , 0.        , 0.01176471, 0.07058824, 0.07058824,\n",
       "        0.07058824, 0.49411765, 0.53333336, 0.6862745 , 0.10196079,\n",
       "        0.6509804 , 1.        , 0.96862745, 0.49803922, 0.        ,\n",
       "        0.        , 0.        , 0.        ],\n",
       "       [0.        , 0.        , 0.        , 0.        , 0.        ,\n",
       "        0.        , 0.        , 0.        , 0.11764706, 0.14117648,\n",
       "        0.36862746, 0.6039216 , 0.6666667 , 0.99215686, 0.99215686,\n",
       "        0.99215686, 0.99215686, 0.99215686, 0.88235295, 0.6745098 ,\n",
       "        0.99215686, 0.9490196 , 0.7647059 , 0.2509804 , 0.        ,\n",
       "        0.        , 0.        , 0.        ],\n",
       "       [0.        , 0.        , 0.        , 0.        , 0.        ,\n",
       "        0.        , 0.        , 0.19215687, 0.93333334, 0.99215686,\n",
       "        0.99215686, 0.99215686, 0.99215686, 0.99215686, 0.99215686,\n",
       "        0.99215686, 0.99215686, 0.9843137 , 0.3647059 , 0.32156864,\n",
       "        0.32156864, 0.21960784, 0.15294118, 0.        , 0.        ,\n",
       "        0.        , 0.        , 0.        ],\n",
       "       [0.        , 0.        , 0.        , 0.        , 0.        ,\n",
       "        0.        , 0.        , 0.07058824, 0.85882354, 0.99215686,\n",
       "        0.99215686, 0.99215686, 0.99215686, 0.99215686, 0.7764706 ,\n",
       "        0.7137255 , 0.96862745, 0.94509804, 0.        , 0.        ,\n",
       "        0.        , 0.        , 0.        , 0.        , 0.        ,\n",
       "        0.        , 0.        , 0.        ],\n",
       "       [0.        , 0.        , 0.        , 0.        , 0.        ,\n",
       "        0.        , 0.        , 0.        , 0.3137255 , 0.6117647 ,\n",
       "        0.41960785, 0.99215686, 0.99215686, 0.8039216 , 0.04313726,\n",
       "        0.        , 0.16862746, 0.6039216 , 0.        , 0.        ,\n",
       "        0.        , 0.        , 0.        , 0.        , 0.        ,\n",
       "        0.        , 0.        , 0.        ],\n",
       "       [0.        , 0.        , 0.        , 0.        , 0.        ,\n",
       "        0.        , 0.        , 0.        , 0.        , 0.05490196,\n",
       "        0.00392157, 0.6039216 , 0.99215686, 0.3529412 , 0.        ,\n",
       "        0.        , 0.        , 0.        , 0.        , 0.        ,\n",
       "        0.        , 0.        , 0.        , 0.        , 0.        ,\n",
       "        0.        , 0.        , 0.        ],\n",
       "       [0.        , 0.        , 0.        , 0.        , 0.        ,\n",
       "        0.        , 0.        , 0.        , 0.        , 0.        ,\n",
       "        0.        , 0.54509807, 0.99215686, 0.74509805, 0.00784314,\n",
       "        0.        , 0.        , 0.        , 0.        , 0.        ,\n",
       "        0.        , 0.        , 0.        , 0.        , 0.        ,\n",
       "        0.        , 0.        , 0.        ],\n",
       "       [0.        , 0.        , 0.        , 0.        , 0.        ,\n",
       "        0.        , 0.        , 0.        , 0.        , 0.        ,\n",
       "        0.        , 0.04313726, 0.74509805, 0.99215686, 0.27450982,\n",
       "        0.        , 0.        , 0.        , 0.        , 0.        ,\n",
       "        0.        , 0.        , 0.        , 0.        , 0.        ,\n",
       "        0.        , 0.        , 0.        ],\n",
       "       [0.        , 0.        , 0.        , 0.        , 0.        ,\n",
       "        0.        , 0.        , 0.        , 0.        , 0.        ,\n",
       "        0.        , 0.        , 0.13725491, 0.94509804, 0.88235295,\n",
       "        0.627451  , 0.42352942, 0.00392157, 0.        , 0.        ,\n",
       "        0.        , 0.        , 0.        , 0.        , 0.        ,\n",
       "        0.        , 0.        , 0.        ],\n",
       "       [0.        , 0.        , 0.        , 0.        , 0.        ,\n",
       "        0.        , 0.        , 0.        , 0.        , 0.        ,\n",
       "        0.        , 0.        , 0.        , 0.31764707, 0.9411765 ,\n",
       "        0.99215686, 0.99215686, 0.46666667, 0.09803922, 0.        ,\n",
       "        0.        , 0.        , 0.        , 0.        , 0.        ,\n",
       "        0.        , 0.        , 0.        ],\n",
       "       [0.        , 0.        , 0.        , 0.        , 0.        ,\n",
       "        0.        , 0.        , 0.        , 0.        , 0.        ,\n",
       "        0.        , 0.        , 0.        , 0.        , 0.1764706 ,\n",
       "        0.7294118 , 0.99215686, 0.99215686, 0.5882353 , 0.10588235,\n",
       "        0.        , 0.        , 0.        , 0.        , 0.        ,\n",
       "        0.        , 0.        , 0.        ],\n",
       "       [0.        , 0.        , 0.        , 0.        , 0.        ,\n",
       "        0.        , 0.        , 0.        , 0.        , 0.        ,\n",
       "        0.        , 0.        , 0.        , 0.        , 0.        ,\n",
       "        0.0627451 , 0.3647059 , 0.9882353 , 0.99215686, 0.73333335,\n",
       "        0.        , 0.        , 0.        , 0.        , 0.        ,\n",
       "        0.        , 0.        , 0.        ],\n",
       "       [0.        , 0.        , 0.        , 0.        , 0.        ,\n",
       "        0.        , 0.        , 0.        , 0.        , 0.        ,\n",
       "        0.        , 0.        , 0.        , 0.        , 0.        ,\n",
       "        0.        , 0.        , 0.9764706 , 0.99215686, 0.9764706 ,\n",
       "        0.2509804 , 0.        , 0.        , 0.        , 0.        ,\n",
       "        0.        , 0.        , 0.        ],\n",
       "       [0.        , 0.        , 0.        , 0.        , 0.        ,\n",
       "        0.        , 0.        , 0.        , 0.        , 0.        ,\n",
       "        0.        , 0.        , 0.        , 0.        , 0.18039216,\n",
       "        0.50980395, 0.7176471 , 0.99215686, 0.99215686, 0.8117647 ,\n",
       "        0.00784314, 0.        , 0.        , 0.        , 0.        ,\n",
       "        0.        , 0.        , 0.        ],\n",
       "       [0.        , 0.        , 0.        , 0.        , 0.        ,\n",
       "        0.        , 0.        , 0.        , 0.        , 0.        ,\n",
       "        0.        , 0.        , 0.15294118, 0.5803922 , 0.8980392 ,\n",
       "        0.99215686, 0.99215686, 0.99215686, 0.98039216, 0.7137255 ,\n",
       "        0.        , 0.        , 0.        , 0.        , 0.        ,\n",
       "        0.        , 0.        , 0.        ],\n",
       "       [0.        , 0.        , 0.        , 0.        , 0.        ,\n",
       "        0.        , 0.        , 0.        , 0.        , 0.        ,\n",
       "        0.09411765, 0.44705883, 0.8666667 , 0.99215686, 0.99215686,\n",
       "        0.99215686, 0.99215686, 0.7882353 , 0.30588236, 0.        ,\n",
       "        0.        , 0.        , 0.        , 0.        , 0.        ,\n",
       "        0.        , 0.        , 0.        ],\n",
       "       [0.        , 0.        , 0.        , 0.        , 0.        ,\n",
       "        0.        , 0.        , 0.        , 0.09019608, 0.25882354,\n",
       "        0.8352941 , 0.99215686, 0.99215686, 0.99215686, 0.99215686,\n",
       "        0.7764706 , 0.31764707, 0.00784314, 0.        , 0.        ,\n",
       "        0.        , 0.        , 0.        , 0.        , 0.        ,\n",
       "        0.        , 0.        , 0.        ],\n",
       "       [0.        , 0.        , 0.        , 0.        , 0.        ,\n",
       "        0.        , 0.07058824, 0.67058825, 0.85882354, 0.99215686,\n",
       "        0.99215686, 0.99215686, 0.99215686, 0.7647059 , 0.3137255 ,\n",
       "        0.03529412, 0.        , 0.        , 0.        , 0.        ,\n",
       "        0.        , 0.        , 0.        , 0.        , 0.        ,\n",
       "        0.        , 0.        , 0.        ],\n",
       "       [0.        , 0.        , 0.        , 0.        , 0.21568628,\n",
       "        0.6745098 , 0.8862745 , 0.99215686, 0.99215686, 0.99215686,\n",
       "        0.99215686, 0.95686275, 0.52156866, 0.04313726, 0.        ,\n",
       "        0.        , 0.        , 0.        , 0.        , 0.        ,\n",
       "        0.        , 0.        , 0.        , 0.        , 0.        ,\n",
       "        0.        , 0.        , 0.        ],\n",
       "       [0.        , 0.        , 0.        , 0.        , 0.53333336,\n",
       "        0.99215686, 0.99215686, 0.99215686, 0.83137256, 0.5294118 ,\n",
       "        0.5176471 , 0.0627451 , 0.        , 0.        , 0.        ,\n",
       "        0.        , 0.        , 0.        , 0.        , 0.        ,\n",
       "        0.        , 0.        , 0.        , 0.        , 0.        ,\n",
       "        0.        , 0.        , 0.        ],\n",
       "       [0.        , 0.        , 0.        , 0.        , 0.        ,\n",
       "        0.        , 0.        , 0.        , 0.        , 0.        ,\n",
       "        0.        , 0.        , 0.        , 0.        , 0.        ,\n",
       "        0.        , 0.        , 0.        , 0.        , 0.        ,\n",
       "        0.        , 0.        , 0.        , 0.        , 0.        ,\n",
       "        0.        , 0.        , 0.        ],\n",
       "       [0.        , 0.        , 0.        , 0.        , 0.        ,\n",
       "        0.        , 0.        , 0.        , 0.        , 0.        ,\n",
       "        0.        , 0.        , 0.        , 0.        , 0.        ,\n",
       "        0.        , 0.        , 0.        , 0.        , 0.        ,\n",
       "        0.        , 0.        , 0.        , 0.        , 0.        ,\n",
       "        0.        , 0.        , 0.        ],\n",
       "       [0.        , 0.        , 0.        , 0.        , 0.        ,\n",
       "        0.        , 0.        , 0.        , 0.        , 0.        ,\n",
       "        0.        , 0.        , 0.        , 0.        , 0.        ,\n",
       "        0.        , 0.        , 0.        , 0.        , 0.        ,\n",
       "        0.        , 0.        , 0.        , 0.        , 0.        ,\n",
       "        0.        , 0.        , 0.        ]], dtype=float32)"
      ]
     },
     "execution_count": 7,
     "metadata": {},
     "output_type": "execute_result"
    }
   ],
   "source": [
    "'''\n",
    "Comprobamos la normalización\n",
    "'''\n",
    "X_train[0]"
   ]
  },
  {
   "cell_type": "code",
   "execution_count": 8,
   "metadata": {},
   "outputs": [],
   "source": [
    "y_train = y_train.astype(\"float32\")\n",
    "y_test = y_test.astype(\"float32\")"
   ]
  },
  {
   "cell_type": "markdown",
   "metadata": {},
   "source": [
    "Guardamos datos para validación. Estos datos se usarán durante el entrenamiento. Otra opción es decirle a keras en la etapa de entrenamiento que reserve un X % de los datos para validar."
   ]
  },
  {
   "cell_type": "code",
   "execution_count": 9,
   "metadata": {},
   "outputs": [],
   "source": [
    "X_val = X_train[-10000:]\n",
    "y_val = y_train[-10000:]\n",
    "\n",
    "X_train = X_train[:-10000]\n",
    "y_train = y_train[:-10000]"
   ]
  },
  {
   "cell_type": "code",
   "execution_count": 10,
   "metadata": {},
   "outputs": [
    {
     "name": "stdout",
     "output_type": "stream",
     "text": [
      "(50000, 28, 28)\n",
      "(10000, 28, 28)\n",
      "(10000, 28, 28)\n"
     ]
    }
   ],
   "source": [
    "print(X_train.shape)\n",
    "print(X_val.shape)\n",
    "print(X_test.shape)"
   ]
  },
  {
   "cell_type": "markdown",
   "metadata": {},
   "source": [
    "Montamos la arquitectura de la red neuronal. Se va a componer de:\n",
    "* **Sequential**: API para iniciar la red neuronal. No cuenta como capa.\n",
    "* **Flatten**: capa de entrada. Necesita un vector unidimensional. Como tenemos imágenes, esta capa aplana las imagenes (2D) en 1D.\n",
    "* **Dense**: es una hidden layer. Se compondrá de `n` neuronas y de una función de activación que se aplicará a todas las neuronas de la capa.\n",
    "\n",
    "Recuerda que es un problema de clasificación multiclase (10 clases) y que por tanto la última capa se compondrá de tantas neuronas como clases tengas.\n",
    "\n",
    "En cuanto a las funciones de activación es recomendable usar relu en las hidden layer, que tarda menos en entrenar, mientras que la ultima (output) suele ser una softmax."
   ]
  },
  {
   "cell_type": "code",
   "execution_count": 11,
   "metadata": {},
   "outputs": [],
   "source": [
    "model = keras.models.Sequential()\n",
    "\n",
    "# Capa entrada\n",
    "model.add(keras.layers.Flatten(input_shape=(28, 28)))\n",
    "\n",
    "# Hidden layer\n",
    "model.add(keras.layers.Dense(units = 300,\n",
    "                            activation='relu'))\n",
    "\n",
    "# Hidden layer\n",
    "model.add(keras.layers.Dense(units = 100,\n",
    "                            activation='relu'))\n",
    "\n",
    "# Capa salida\n",
    "model.add(keras.layers.Dense(units = 10,\n",
    "                            activation='softmax'))"
   ]
  },
  {
   "cell_type": "code",
   "execution_count": 12,
   "metadata": {},
   "outputs": [],
   "source": [
    "# Otra manera de declarar la red neuronal\n",
    "capas = [\n",
    "    keras.layers.Flatten(input_shape=(28, 28)),\n",
    "    keras.layers.Dense(units = 300, activation='relu'),\n",
    "    keras.layers.Dense(units = 100, activation='relu'),\n",
    "    keras.layers.Dense(units = 10, activation='softmax')\n",
    "]\n",
    "\n",
    "model = keras.models.Sequential(capas)"
   ]
  },
  {
   "cell_type": "code",
   "execution_count": 19,
   "metadata": {},
   "outputs": [
    {
     "data": {
      "text/plain": [
       "784"
      ]
     },
     "execution_count": 19,
     "metadata": {},
     "output_type": "execute_result"
    }
   ],
   "source": [
    "28*28"
   ]
  },
  {
   "cell_type": "markdown",
   "metadata": {},
   "source": [
    "Podemos ver las capas, y acceder a sus elementos"
   ]
  },
  {
   "cell_type": "code",
   "execution_count": 13,
   "metadata": {},
   "outputs": [
    {
     "name": "stdout",
     "output_type": "stream",
     "text": [
      "<keras.src.layers.reshaping.flatten.Flatten object at 0x000001CECF703BB0>\n"
     ]
    }
   ],
   "source": [
    "print(model.layers[0])"
   ]
  },
  {
   "cell_type": "markdown",
   "metadata": {},
   "source": [
    "Podemos ver los pesos de las capas sin entrenar, porque los inicializa aleatoriamente. Los bias los inicializa a 0."
   ]
  },
  {
   "cell_type": "code",
   "execution_count": 14,
   "metadata": {},
   "outputs": [],
   "source": [
    "hidden1 = model.layers[1]\n",
    "weights, biases = hidden1.get_weights()"
   ]
  },
  {
   "cell_type": "code",
   "execution_count": 15,
   "metadata": {},
   "outputs": [
    {
     "data": {
      "text/plain": [
       "(784, 300)"
      ]
     },
     "execution_count": 15,
     "metadata": {},
     "output_type": "execute_result"
    }
   ],
   "source": [
    "weights.shape"
   ]
  },
  {
   "cell_type": "code",
   "execution_count": 20,
   "metadata": {},
   "outputs": [
    {
     "data": {
      "text/plain": [
       "(300,)"
      ]
     },
     "execution_count": 20,
     "metadata": {},
     "output_type": "execute_result"
    }
   ],
   "source": [
    "biases.shape"
   ]
  },
  {
   "cell_type": "code",
   "execution_count": 22,
   "metadata": {},
   "outputs": [],
   "source": [
    "#weights"
   ]
  },
  {
   "cell_type": "code",
   "execution_count": 23,
   "metadata": {},
   "outputs": [
    {
     "data": {
      "text/plain": [
       "784"
      ]
     },
     "execution_count": 23,
     "metadata": {},
     "output_type": "execute_result"
    }
   ],
   "source": [
    "28*28"
   ]
  },
  {
   "cell_type": "code",
   "execution_count": 24,
   "metadata": {
    "tags": []
   },
   "outputs": [
    {
     "data": {
      "text/plain": [
       "300"
      ]
     },
     "execution_count": 24,
     "metadata": {},
     "output_type": "execute_result"
    }
   ],
   "source": [
    "len(weights[0])"
   ]
  },
  {
   "cell_type": "code",
   "execution_count": 25,
   "metadata": {},
   "outputs": [
    {
     "data": {
      "text/plain": [
       "784"
      ]
     },
     "execution_count": 25,
     "metadata": {},
     "output_type": "execute_result"
    }
   ],
   "source": [
    "28*28"
   ]
  },
  {
   "cell_type": "code",
   "execution_count": 26,
   "metadata": {},
   "outputs": [
    {
     "data": {
      "text/plain": [
       "235200"
      ]
     },
     "execution_count": 26,
     "metadata": {},
     "output_type": "execute_result"
    }
   ],
   "source": [
    "300*784"
   ]
  },
  {
   "cell_type": "code",
   "execution_count": 27,
   "metadata": {},
   "outputs": [
    {
     "data": {
      "text/plain": [
       "235200"
      ]
     },
     "execution_count": 27,
     "metadata": {},
     "output_type": "execute_result"
    }
   ],
   "source": [
    "weights.size"
   ]
  },
  {
   "cell_type": "code",
   "execution_count": 28,
   "metadata": {},
   "outputs": [
    {
     "data": {
      "text/plain": [
       "array([0., 0., 0., 0., 0., 0., 0., 0., 0., 0., 0., 0., 0., 0., 0., 0., 0.,\n",
       "       0., 0., 0.], dtype=float32)"
      ]
     },
     "execution_count": 28,
     "metadata": {},
     "output_type": "execute_result"
    }
   ],
   "source": [
    "biases[:20]"
   ]
  },
  {
   "cell_type": "markdown",
   "metadata": {},
   "source": [
    "Establecemos la configuración de ejecución... el compile."
   ]
  },
  {
   "cell_type": "code",
   "execution_count": 29,
   "metadata": {},
   "outputs": [],
   "source": [
    "model.compile(\n",
    "    optimizer = keras.optimizers.SGD(),\n",
    "    loss = keras.losses.SparseCategoricalCrossentropy(),\n",
    "    metrics = [keras.metrics.SparseCategoricalAccuracy()]\n",
    ")"
   ]
  },
  {
   "cell_type": "code",
   "execution_count": 21,
   "metadata": {},
   "outputs": [],
   "source": [
    "# Equivalente\n",
    "model.compile(\n",
    "    optimizer = \"sgd\",\n",
    "    loss = \"sparse_categorical_crossentropy\",\n",
    "    metrics = [\"accuracy\"]\n",
    ")"
   ]
  },
  {
   "cell_type": "code",
   "execution_count": 31,
   "metadata": {},
   "outputs": [
    {
     "data": {
      "text/plain": [
       "235500"
      ]
     },
     "execution_count": 31,
     "metadata": {},
     "output_type": "execute_result"
    }
   ],
   "source": [
    "784*300 + 300"
   ]
  },
  {
   "cell_type": "code",
   "execution_count": 22,
   "metadata": {
    "tags": []
   },
   "outputs": [
    {
     "name": "stdout",
     "output_type": "stream",
     "text": [
      "Model: \"sequential_1\"\n",
      "_________________________________________________________________\n",
      " Layer (type)                Output Shape              Param #   \n",
      "=================================================================\n",
      " flatten_1 (Flatten)         (None, 784)               0         \n",
      "                                                                 \n",
      " dense_3 (Dense)             (None, 300)               235500    \n",
      "                                                                 \n",
      " dense_4 (Dense)             (None, 100)               30100     \n",
      "                                                                 \n",
      " dense_5 (Dense)             (None, 10)                1010      \n",
      "                                                                 \n",
      "=================================================================\n",
      "Total params: 266610 (1.02 MB)\n",
      "Trainable params: 266610 (1.02 MB)\n",
      "Non-trainable params: 0 (0.00 Byte)\n",
      "_________________________________________________________________\n"
     ]
    }
   ],
   "source": [
    "# Summary\n",
    "model.summary()"
   ]
  },
  {
   "cell_type": "code",
   "execution_count": 33,
   "metadata": {},
   "outputs": [
    {
     "data": {
      "text/plain": [
       "235500"
      ]
     },
     "execution_count": 33,
     "metadata": {},
     "output_type": "execute_result"
    }
   ],
   "source": [
    "300*28*28 + 300\n"
   ]
  },
  {
   "cell_type": "markdown",
   "metadata": {},
   "source": [
    "Entrenamos el modelo. Usamos los datos de entrenamiento. El batch_size es la cantidad de muestras que utiliza el SGD, y las epochs son las iteraciones que realiza en el entrenamiento."
   ]
  },
  {
   "cell_type": "code",
   "execution_count": 34,
   "metadata": {},
   "outputs": [
    {
     "data": {
      "text/plain": [
       "(50000, 28, 28)"
      ]
     },
     "execution_count": 34,
     "metadata": {},
     "output_type": "execute_result"
    }
   ],
   "source": [
    "X_train.shape"
   ]
  },
  {
   "cell_type": "code",
   "execution_count": 35,
   "metadata": {},
   "outputs": [
    {
     "data": {
      "text/plain": [
       "390.625"
      ]
     },
     "execution_count": 35,
     "metadata": {},
     "output_type": "execute_result"
    }
   ],
   "source": [
    "50000/128"
   ]
  },
  {
   "cell_type": "code",
   "execution_count": 36,
   "metadata": {},
   "outputs": [
    {
     "data": {
      "text/plain": [
       "390.625"
      ]
     },
     "execution_count": 36,
     "metadata": {},
     "output_type": "execute_result"
    }
   ],
   "source": [
    "50000/128"
   ]
  },
  {
   "cell_type": "code",
   "execution_count": 37,
   "metadata": {
    "tags": []
   },
   "outputs": [
    {
     "name": "stdout",
     "output_type": "stream",
     "text": [
      "Epoch 1/50\n",
      "391/391 [==============================] - 5s 10ms/step - loss: 1.2680 - accuracy: 0.6947 - val_loss: 0.5979 - val_accuracy: 0.8654\n",
      "Epoch 2/50\n",
      "391/391 [==============================] - 3s 8ms/step - loss: 0.5167 - accuracy: 0.8697 - val_loss: 0.3940 - val_accuracy: 0.8952\n",
      "Epoch 3/50\n",
      "391/391 [==============================] - 3s 8ms/step - loss: 0.4002 - accuracy: 0.8926 - val_loss: 0.3336 - val_accuracy: 0.9069\n",
      "Epoch 4/50\n",
      "391/391 [==============================] - 3s 7ms/step - loss: 0.3522 - accuracy: 0.9017 - val_loss: 0.3041 - val_accuracy: 0.9153\n",
      "Epoch 5/50\n",
      "391/391 [==============================] - 3s 8ms/step - loss: 0.3229 - accuracy: 0.9103 - val_loss: 0.2828 - val_accuracy: 0.9210\n",
      "Epoch 6/50\n",
      "391/391 [==============================] - 3s 8ms/step - loss: 0.3020 - accuracy: 0.9152 - val_loss: 0.2670 - val_accuracy: 0.9241\n",
      "Epoch 7/50\n",
      "391/391 [==============================] - 3s 8ms/step - loss: 0.2853 - accuracy: 0.9196 - val_loss: 0.2558 - val_accuracy: 0.9270\n",
      "Epoch 8/50\n",
      "391/391 [==============================] - 5s 12ms/step - loss: 0.2711 - accuracy: 0.9228 - val_loss: 0.2453 - val_accuracy: 0.9313\n",
      "Epoch 9/50\n",
      "391/391 [==============================] - 4s 11ms/step - loss: 0.2586 - accuracy: 0.9271 - val_loss: 0.2351 - val_accuracy: 0.9344\n",
      "Epoch 10/50\n",
      "391/391 [==============================] - 5s 12ms/step - loss: 0.2476 - accuracy: 0.9301 - val_loss: 0.2270 - val_accuracy: 0.9352\n",
      "Epoch 11/50\n",
      "391/391 [==============================] - 4s 11ms/step - loss: 0.2375 - accuracy: 0.9329 - val_loss: 0.2188 - val_accuracy: 0.9390\n",
      "Epoch 12/50\n",
      "391/391 [==============================] - 4s 11ms/step - loss: 0.2280 - accuracy: 0.9351 - val_loss: 0.2123 - val_accuracy: 0.9397\n",
      "Epoch 13/50\n",
      "391/391 [==============================] - 4s 11ms/step - loss: 0.2192 - accuracy: 0.9382 - val_loss: 0.2048 - val_accuracy: 0.9440\n",
      "Epoch 14/50\n",
      "391/391 [==============================] - 5s 12ms/step - loss: 0.2116 - accuracy: 0.9396 - val_loss: 0.1976 - val_accuracy: 0.9461\n",
      "Epoch 15/50\n",
      "391/391 [==============================] - 4s 11ms/step - loss: 0.2040 - accuracy: 0.9420 - val_loss: 0.1914 - val_accuracy: 0.9472\n",
      "Epoch 16/50\n",
      "391/391 [==============================] - 5s 12ms/step - loss: 0.1967 - accuracy: 0.9442 - val_loss: 0.1850 - val_accuracy: 0.9493\n",
      "Epoch 17/50\n",
      "391/391 [==============================] - 5s 13ms/step - loss: 0.1899 - accuracy: 0.9461 - val_loss: 0.1804 - val_accuracy: 0.9507\n",
      "Epoch 18/50\n",
      "391/391 [==============================] - 5s 12ms/step - loss: 0.1841 - accuracy: 0.9479 - val_loss: 0.1749 - val_accuracy: 0.9527\n",
      "Epoch 19/50\n",
      "391/391 [==============================] - 5s 12ms/step - loss: 0.1782 - accuracy: 0.9492 - val_loss: 0.1708 - val_accuracy: 0.9543\n",
      "Epoch 20/50\n",
      "391/391 [==============================] - 4s 11ms/step - loss: 0.1726 - accuracy: 0.9507 - val_loss: 0.1705 - val_accuracy: 0.9536\n",
      "Epoch 21/50\n",
      "391/391 [==============================] - 5s 12ms/step - loss: 0.1676 - accuracy: 0.9520 - val_loss: 0.1625 - val_accuracy: 0.9562\n",
      "Epoch 22/50\n",
      "391/391 [==============================] - 5s 12ms/step - loss: 0.1626 - accuracy: 0.9536 - val_loss: 0.1596 - val_accuracy: 0.9572\n",
      "Epoch 23/50\n",
      "391/391 [==============================] - 5s 12ms/step - loss: 0.1579 - accuracy: 0.9551 - val_loss: 0.1552 - val_accuracy: 0.9586\n",
      "Epoch 24/50\n",
      "391/391 [==============================] - 5s 13ms/step - loss: 0.1536 - accuracy: 0.9560 - val_loss: 0.1515 - val_accuracy: 0.9590\n",
      "Epoch 25/50\n",
      "391/391 [==============================] - 5s 12ms/step - loss: 0.1493 - accuracy: 0.9578 - val_loss: 0.1485 - val_accuracy: 0.9593\n",
      "Epoch 26/50\n",
      "391/391 [==============================] - 5s 13ms/step - loss: 0.1452 - accuracy: 0.9585 - val_loss: 0.1466 - val_accuracy: 0.9614\n",
      "Epoch 27/50\n",
      "391/391 [==============================] - 5s 13ms/step - loss: 0.1414 - accuracy: 0.9601 - val_loss: 0.1430 - val_accuracy: 0.9620\n",
      "Epoch 28/50\n",
      "391/391 [==============================] - 5s 12ms/step - loss: 0.1377 - accuracy: 0.9608 - val_loss: 0.1410 - val_accuracy: 0.9615\n",
      "Epoch 29/50\n",
      "391/391 [==============================] - 5s 12ms/step - loss: 0.1341 - accuracy: 0.9622 - val_loss: 0.1382 - val_accuracy: 0.9627\n",
      "Epoch 30/50\n",
      "391/391 [==============================] - 5s 12ms/step - loss: 0.1307 - accuracy: 0.9628 - val_loss: 0.1353 - val_accuracy: 0.9628\n",
      "Epoch 31/50\n",
      "391/391 [==============================] - 5s 12ms/step - loss: 0.1276 - accuracy: 0.9640 - val_loss: 0.1332 - val_accuracy: 0.9636\n",
      "Epoch 32/50\n",
      "391/391 [==============================] - 5s 12ms/step - loss: 0.1244 - accuracy: 0.9653 - val_loss: 0.1325 - val_accuracy: 0.9632\n",
      "Epoch 33/50\n",
      "391/391 [==============================] - 5s 13ms/step - loss: 0.1215 - accuracy: 0.9661 - val_loss: 0.1284 - val_accuracy: 0.9645\n",
      "Epoch 34/50\n",
      "391/391 [==============================] - 5s 14ms/step - loss: 0.1188 - accuracy: 0.9667 - val_loss: 0.1265 - val_accuracy: 0.9651\n",
      "Epoch 35/50\n",
      "391/391 [==============================] - 5s 12ms/step - loss: 0.1157 - accuracy: 0.9675 - val_loss: 0.1255 - val_accuracy: 0.9648\n",
      "Epoch 36/50\n",
      "391/391 [==============================] - 5s 13ms/step - loss: 0.1133 - accuracy: 0.9685 - val_loss: 0.1240 - val_accuracy: 0.9654\n",
      "Epoch 37/50\n",
      "391/391 [==============================] - 5s 13ms/step - loss: 0.1106 - accuracy: 0.9694 - val_loss: 0.1209 - val_accuracy: 0.9658\n",
      "Epoch 38/50\n",
      "391/391 [==============================] - 5s 12ms/step - loss: 0.1081 - accuracy: 0.9703 - val_loss: 0.1193 - val_accuracy: 0.9677\n",
      "Epoch 39/50\n",
      "391/391 [==============================] - 4s 11ms/step - loss: 0.1058 - accuracy: 0.9705 - val_loss: 0.1185 - val_accuracy: 0.9674\n",
      "Epoch 40/50\n",
      "391/391 [==============================] - 4s 10ms/step - loss: 0.1035 - accuracy: 0.9714 - val_loss: 0.1175 - val_accuracy: 0.9677\n",
      "Epoch 41/50\n",
      "391/391 [==============================] - 4s 10ms/step - loss: 0.1013 - accuracy: 0.9719 - val_loss: 0.1158 - val_accuracy: 0.9675\n",
      "Epoch 42/50\n",
      "391/391 [==============================] - 4s 10ms/step - loss: 0.0991 - accuracy: 0.9727 - val_loss: 0.1161 - val_accuracy: 0.9679\n",
      "Epoch 43/50\n",
      "391/391 [==============================] - 4s 11ms/step - loss: 0.0969 - accuracy: 0.9728 - val_loss: 0.1134 - val_accuracy: 0.9691\n",
      "Epoch 44/50\n",
      "391/391 [==============================] - 4s 11ms/step - loss: 0.0951 - accuracy: 0.9736 - val_loss: 0.1107 - val_accuracy: 0.9680\n",
      "Epoch 45/50\n",
      "391/391 [==============================] - 4s 11ms/step - loss: 0.0930 - accuracy: 0.9744 - val_loss: 0.1105 - val_accuracy: 0.9692\n",
      "Epoch 46/50\n",
      "391/391 [==============================] - 4s 11ms/step - loss: 0.0913 - accuracy: 0.9747 - val_loss: 0.1091 - val_accuracy: 0.9687\n",
      "Epoch 47/50\n",
      "391/391 [==============================] - 4s 9ms/step - loss: 0.0894 - accuracy: 0.9751 - val_loss: 0.1075 - val_accuracy: 0.9693\n",
      "Epoch 48/50\n",
      "391/391 [==============================] - 4s 9ms/step - loss: 0.0875 - accuracy: 0.9764 - val_loss: 0.1061 - val_accuracy: 0.9700\n",
      "Epoch 49/50\n",
      "391/391 [==============================] - 4s 10ms/step - loss: 0.0858 - accuracy: 0.9762 - val_loss: 0.1054 - val_accuracy: 0.9707\n",
      "Epoch 50/50\n",
      "391/391 [==============================] - 4s 11ms/step - loss: 0.0842 - accuracy: 0.9769 - val_loss: 0.1041 - val_accuracy: 0.9707\n"
     ]
    }
   ],
   "source": [
    "history = model.fit(\n",
    "    X_train,\n",
    "    y_train,\n",
    "    batch_size = 128,\n",
    "    epochs = 50,\n",
    "    validation_data = (X_val, y_val) # validation_split = 0.1\n",
    ")"
   ]
  },
  {
   "cell_type": "markdown",
   "metadata": {},
   "source": [
    "Podemos reentrenar el modelo. No empieza de nuevo, sino que retoma el entrenamiento anterior."
   ]
  },
  {
   "cell_type": "code",
   "execution_count": 38,
   "metadata": {},
   "outputs": [
    {
     "name": "stdout",
     "output_type": "stream",
     "text": [
      "Epoch 1/10\n",
      "782/782 [==============================] - 6s 7ms/step - loss: 0.0837 - accuracy: 0.9770 - val_loss: 0.1033 - val_accuracy: 0.9703\n",
      "Epoch 2/10\n",
      "782/782 [==============================] - 6s 8ms/step - loss: 0.0806 - accuracy: 0.9779 - val_loss: 0.1009 - val_accuracy: 0.9715\n",
      "Epoch 3/10\n",
      "782/782 [==============================] - 6s 7ms/step - loss: 0.0777 - accuracy: 0.9787 - val_loss: 0.0996 - val_accuracy: 0.9717\n",
      "Epoch 4/10\n",
      "782/782 [==============================] - 6s 7ms/step - loss: 0.0746 - accuracy: 0.9795 - val_loss: 0.0973 - val_accuracy: 0.9713\n",
      "Epoch 5/10\n",
      "782/782 [==============================] - 7s 8ms/step - loss: 0.0722 - accuracy: 0.9801 - val_loss: 0.1007 - val_accuracy: 0.9712\n",
      "Epoch 6/10\n",
      "782/782 [==============================] - 6s 7ms/step - loss: 0.0693 - accuracy: 0.9811 - val_loss: 0.0960 - val_accuracy: 0.9718\n",
      "Epoch 7/10\n",
      "782/782 [==============================] - 5s 7ms/step - loss: 0.0670 - accuracy: 0.9817 - val_loss: 0.0936 - val_accuracy: 0.9730\n",
      "Epoch 8/10\n",
      "782/782 [==============================] - 6s 7ms/step - loss: 0.0648 - accuracy: 0.9827 - val_loss: 0.0914 - val_accuracy: 0.9735\n",
      "Epoch 9/10\n",
      "782/782 [==============================] - 6s 7ms/step - loss: 0.0624 - accuracy: 0.9831 - val_loss: 0.0927 - val_accuracy: 0.9733\n",
      "Epoch 10/10\n",
      "782/782 [==============================] - 6s 7ms/step - loss: 0.0603 - accuracy: 0.9835 - val_loss: 0.0906 - val_accuracy: 0.9736\n"
     ]
    },
    {
     "data": {
      "text/plain": [
       "<keras.src.callbacks.History at 0x1bf5de84a90>"
      ]
     },
     "execution_count": 38,
     "metadata": {},
     "output_type": "execute_result"
    }
   ],
   "source": [
    "model.fit(\n",
    "    X_train,\n",
    "    y_train,\n",
    "    batch_size = 64,\n",
    "    epochs = 10,\n",
    "    validation_data = (X_val, y_val) # validation_split = 0.1\n",
    ")"
   ]
  },
  {
   "cell_type": "markdown",
   "metadata": {},
   "source": [
    "Veamos el histórico del entrenamiento, para poder representarlo posteriormente."
   ]
  },
  {
   "cell_type": "code",
   "execution_count": 39,
   "metadata": {
    "tags": []
   },
   "outputs": [
    {
     "name": "stdout",
     "output_type": "stream",
     "text": [
      "{'verbose': 1, 'epochs': 50, 'steps': 391}\n",
      "[0, 1, 2, 3, 4, 5, 6, 7, 8, 9, 10, 11, 12, 13, 14, 15, 16, 17, 18, 19, 20, 21, 22, 23, 24, 25, 26, 27, 28, 29, 30, 31, 32, 33, 34, 35, 36, 37, 38, 39, 40, 41, 42, 43, 44, 45, 46, 47, 48, 49]\n"
     ]
    },
    {
     "data": {
      "text/plain": [
       "{'loss': [1.2680251598358154,\n",
       "  0.516708493232727,\n",
       "  0.4001864194869995,\n",
       "  0.35216519236564636,\n",
       "  0.322948694229126,\n",
       "  0.3019847571849823,\n",
       "  0.2853052318096161,\n",
       "  0.2710574269294739,\n",
       "  0.2585524618625641,\n",
       "  0.24756674468517303,\n",
       "  0.23751796782016754,\n",
       "  0.2279692441225052,\n",
       "  0.21917316317558289,\n",
       "  0.21158431470394135,\n",
       "  0.20397046208381653,\n",
       "  0.1967160701751709,\n",
       "  0.18989063799381256,\n",
       "  0.18413853645324707,\n",
       "  0.17816676199436188,\n",
       "  0.1726297289133072,\n",
       "  0.16756874322891235,\n",
       "  0.1626046746969223,\n",
       "  0.15785840153694153,\n",
       "  0.15356744825839996,\n",
       "  0.14927998185157776,\n",
       "  0.145199716091156,\n",
       "  0.1413542926311493,\n",
       "  0.13771525025367737,\n",
       "  0.1341484636068344,\n",
       "  0.1307005137205124,\n",
       "  0.12761110067367554,\n",
       "  0.12439665198326111,\n",
       "  0.12147916108369827,\n",
       "  0.11877723783254623,\n",
       "  0.11567539721727371,\n",
       "  0.11331459134817123,\n",
       "  0.11064445227384567,\n",
       "  0.10807811468839645,\n",
       "  0.10579188168048859,\n",
       "  0.10352008789777756,\n",
       "  0.10125179588794708,\n",
       "  0.09906696528196335,\n",
       "  0.09692033380270004,\n",
       "  0.09505481272935867,\n",
       "  0.09303297102451324,\n",
       "  0.0912671759724617,\n",
       "  0.0893821194767952,\n",
       "  0.08749686181545258,\n",
       "  0.08578009903430939,\n",
       "  0.08415936678647995],\n",
       " 'accuracy': [0.6946600079536438,\n",
       "  0.8697199821472168,\n",
       "  0.8925600051879883,\n",
       "  0.9017199873924255,\n",
       "  0.9102799892425537,\n",
       "  0.9151800274848938,\n",
       "  0.9195799827575684,\n",
       "  0.9228399991989136,\n",
       "  0.9270600080490112,\n",
       "  0.9301400184631348,\n",
       "  0.9328600168228149,\n",
       "  0.9351199865341187,\n",
       "  0.9381800293922424,\n",
       "  0.9395999908447266,\n",
       "  0.9419999718666077,\n",
       "  0.944159984588623,\n",
       "  0.946120023727417,\n",
       "  0.9478800296783447,\n",
       "  0.9492400288581848,\n",
       "  0.950659990310669,\n",
       "  0.951960027217865,\n",
       "  0.9535800218582153,\n",
       "  0.9551399946212769,\n",
       "  0.9560400247573853,\n",
       "  0.9577800035476685,\n",
       "  0.9585000276565552,\n",
       "  0.9600600004196167,\n",
       "  0.9607999920845032,\n",
       "  0.9622399806976318,\n",
       "  0.9627799987792969,\n",
       "  0.9639800190925598,\n",
       "  0.9652600288391113,\n",
       "  0.9661200046539307,\n",
       "  0.9667199850082397,\n",
       "  0.967519998550415,\n",
       "  0.9684799909591675,\n",
       "  0.9694200158119202,\n",
       "  0.970300018787384,\n",
       "  0.9704599976539612,\n",
       "  0.9713600277900696,\n",
       "  0.9718599915504456,\n",
       "  0.9726600050926208,\n",
       "  0.972819983959198,\n",
       "  0.973580002784729,\n",
       "  0.9743800163269043,\n",
       "  0.9746999740600586,\n",
       "  0.9750999808311462,\n",
       "  0.9763799905776978,\n",
       "  0.9762399792671204,\n",
       "  0.9768999814987183],\n",
       " 'val_loss': [0.5979459881782532,\n",
       "  0.39401400089263916,\n",
       "  0.3336280882358551,\n",
       "  0.30408090353012085,\n",
       "  0.2828068733215332,\n",
       "  0.2670290172100067,\n",
       "  0.2557826340198517,\n",
       "  0.24525631964206696,\n",
       "  0.23511992394924164,\n",
       "  0.22695881128311157,\n",
       "  0.21879199147224426,\n",
       "  0.21231181919574738,\n",
       "  0.2047956883907318,\n",
       "  0.19760224223136902,\n",
       "  0.19135752320289612,\n",
       "  0.1849605292081833,\n",
       "  0.18040962517261505,\n",
       "  0.1749059408903122,\n",
       "  0.17084553837776184,\n",
       "  0.17054766416549683,\n",
       "  0.16254514455795288,\n",
       "  0.15959089994430542,\n",
       "  0.15520119667053223,\n",
       "  0.15145593881607056,\n",
       "  0.14847703278064728,\n",
       "  0.14657914638519287,\n",
       "  0.14301922917366028,\n",
       "  0.14098654687404633,\n",
       "  0.13817337155342102,\n",
       "  0.13532833755016327,\n",
       "  0.13315832614898682,\n",
       "  0.13247466087341309,\n",
       "  0.12836575508117676,\n",
       "  0.1265334039926529,\n",
       "  0.12545090913772583,\n",
       "  0.12395738810300827,\n",
       "  0.12086192518472672,\n",
       "  0.1193002462387085,\n",
       "  0.11848289519548416,\n",
       "  0.11752330511808395,\n",
       "  0.11579801142215729,\n",
       "  0.11605223268270493,\n",
       "  0.11341454088687897,\n",
       "  0.11067333072423935,\n",
       "  0.11047829687595367,\n",
       "  0.10905098915100098,\n",
       "  0.10748320072889328,\n",
       "  0.10605861991643906,\n",
       "  0.10540633648633957,\n",
       "  0.1041247546672821],\n",
       " 'val_accuracy': [0.8654000163078308,\n",
       "  0.8952000141143799,\n",
       "  0.9068999886512756,\n",
       "  0.9153000116348267,\n",
       "  0.9210000038146973,\n",
       "  0.9240999817848206,\n",
       "  0.9269999861717224,\n",
       "  0.9312999844551086,\n",
       "  0.9344000220298767,\n",
       "  0.9351999759674072,\n",
       "  0.9390000104904175,\n",
       "  0.9397000074386597,\n",
       "  0.9440000057220459,\n",
       "  0.9460999965667725,\n",
       "  0.9472000002861023,\n",
       "  0.9492999911308289,\n",
       "  0.9506999850273132,\n",
       "  0.9527000188827515,\n",
       "  0.9542999863624573,\n",
       "  0.9535999894142151,\n",
       "  0.9562000036239624,\n",
       "  0.9571999907493591,\n",
       "  0.9585999846458435,\n",
       "  0.9589999914169312,\n",
       "  0.9592999815940857,\n",
       "  0.9613999724388123,\n",
       "  0.9620000123977661,\n",
       "  0.9614999890327454,\n",
       "  0.9627000093460083,\n",
       "  0.9628000259399414,\n",
       "  0.9635999798774719,\n",
       "  0.9631999731063843,\n",
       "  0.9645000100135803,\n",
       "  0.9650999903678894,\n",
       "  0.9648000001907349,\n",
       "  0.965399980545044,\n",
       "  0.9657999873161316,\n",
       "  0.9677000045776367,\n",
       "  0.9674000144004822,\n",
       "  0.9677000045776367,\n",
       "  0.9674999713897705,\n",
       "  0.9678999781608582,\n",
       "  0.9690999984741211,\n",
       "  0.9679999947547913,\n",
       "  0.9692000150680542,\n",
       "  0.9686999917030334,\n",
       "  0.9692999720573425,\n",
       "  0.9700000286102295,\n",
       "  0.9707000255584717,\n",
       "  0.9707000255584717]}"
      ]
     },
     "execution_count": 39,
     "metadata": {},
     "output_type": "execute_result"
    }
   ],
   "source": [
    "print(history.params)\n",
    "print(history.epoch)\n",
    "history.history"
   ]
  },
  {
   "cell_type": "code",
   "execution_count": 40,
   "metadata": {},
   "outputs": [
    {
     "data": {
      "text/plain": [
       "{'loss': [1.2680251598358154,\n",
       "  0.516708493232727,\n",
       "  0.4001864194869995,\n",
       "  0.35216519236564636,\n",
       "  0.322948694229126,\n",
       "  0.3019847571849823,\n",
       "  0.2853052318096161,\n",
       "  0.2710574269294739,\n",
       "  0.2585524618625641,\n",
       "  0.24756674468517303,\n",
       "  0.23751796782016754,\n",
       "  0.2279692441225052,\n",
       "  0.21917316317558289,\n",
       "  0.21158431470394135,\n",
       "  0.20397046208381653,\n",
       "  0.1967160701751709,\n",
       "  0.18989063799381256,\n",
       "  0.18413853645324707,\n",
       "  0.17816676199436188,\n",
       "  0.1726297289133072,\n",
       "  0.16756874322891235,\n",
       "  0.1626046746969223,\n",
       "  0.15785840153694153,\n",
       "  0.15356744825839996,\n",
       "  0.14927998185157776,\n",
       "  0.145199716091156,\n",
       "  0.1413542926311493,\n",
       "  0.13771525025367737,\n",
       "  0.1341484636068344,\n",
       "  0.1307005137205124,\n",
       "  0.12761110067367554,\n",
       "  0.12439665198326111,\n",
       "  0.12147916108369827,\n",
       "  0.11877723783254623,\n",
       "  0.11567539721727371,\n",
       "  0.11331459134817123,\n",
       "  0.11064445227384567,\n",
       "  0.10807811468839645,\n",
       "  0.10579188168048859,\n",
       "  0.10352008789777756,\n",
       "  0.10125179588794708,\n",
       "  0.09906696528196335,\n",
       "  0.09692033380270004,\n",
       "  0.09505481272935867,\n",
       "  0.09303297102451324,\n",
       "  0.0912671759724617,\n",
       "  0.0893821194767952,\n",
       "  0.08749686181545258,\n",
       "  0.08578009903430939,\n",
       "  0.08415936678647995],\n",
       " 'accuracy': [0.6946600079536438,\n",
       "  0.8697199821472168,\n",
       "  0.8925600051879883,\n",
       "  0.9017199873924255,\n",
       "  0.9102799892425537,\n",
       "  0.9151800274848938,\n",
       "  0.9195799827575684,\n",
       "  0.9228399991989136,\n",
       "  0.9270600080490112,\n",
       "  0.9301400184631348,\n",
       "  0.9328600168228149,\n",
       "  0.9351199865341187,\n",
       "  0.9381800293922424,\n",
       "  0.9395999908447266,\n",
       "  0.9419999718666077,\n",
       "  0.944159984588623,\n",
       "  0.946120023727417,\n",
       "  0.9478800296783447,\n",
       "  0.9492400288581848,\n",
       "  0.950659990310669,\n",
       "  0.951960027217865,\n",
       "  0.9535800218582153,\n",
       "  0.9551399946212769,\n",
       "  0.9560400247573853,\n",
       "  0.9577800035476685,\n",
       "  0.9585000276565552,\n",
       "  0.9600600004196167,\n",
       "  0.9607999920845032,\n",
       "  0.9622399806976318,\n",
       "  0.9627799987792969,\n",
       "  0.9639800190925598,\n",
       "  0.9652600288391113,\n",
       "  0.9661200046539307,\n",
       "  0.9667199850082397,\n",
       "  0.967519998550415,\n",
       "  0.9684799909591675,\n",
       "  0.9694200158119202,\n",
       "  0.970300018787384,\n",
       "  0.9704599976539612,\n",
       "  0.9713600277900696,\n",
       "  0.9718599915504456,\n",
       "  0.9726600050926208,\n",
       "  0.972819983959198,\n",
       "  0.973580002784729,\n",
       "  0.9743800163269043,\n",
       "  0.9746999740600586,\n",
       "  0.9750999808311462,\n",
       "  0.9763799905776978,\n",
       "  0.9762399792671204,\n",
       "  0.9768999814987183],\n",
       " 'val_loss': [0.5979459881782532,\n",
       "  0.39401400089263916,\n",
       "  0.3336280882358551,\n",
       "  0.30408090353012085,\n",
       "  0.2828068733215332,\n",
       "  0.2670290172100067,\n",
       "  0.2557826340198517,\n",
       "  0.24525631964206696,\n",
       "  0.23511992394924164,\n",
       "  0.22695881128311157,\n",
       "  0.21879199147224426,\n",
       "  0.21231181919574738,\n",
       "  0.2047956883907318,\n",
       "  0.19760224223136902,\n",
       "  0.19135752320289612,\n",
       "  0.1849605292081833,\n",
       "  0.18040962517261505,\n",
       "  0.1749059408903122,\n",
       "  0.17084553837776184,\n",
       "  0.17054766416549683,\n",
       "  0.16254514455795288,\n",
       "  0.15959089994430542,\n",
       "  0.15520119667053223,\n",
       "  0.15145593881607056,\n",
       "  0.14847703278064728,\n",
       "  0.14657914638519287,\n",
       "  0.14301922917366028,\n",
       "  0.14098654687404633,\n",
       "  0.13817337155342102,\n",
       "  0.13532833755016327,\n",
       "  0.13315832614898682,\n",
       "  0.13247466087341309,\n",
       "  0.12836575508117676,\n",
       "  0.1265334039926529,\n",
       "  0.12545090913772583,\n",
       "  0.12395738810300827,\n",
       "  0.12086192518472672,\n",
       "  0.1193002462387085,\n",
       "  0.11848289519548416,\n",
       "  0.11752330511808395,\n",
       "  0.11579801142215729,\n",
       "  0.11605223268270493,\n",
       "  0.11341454088687897,\n",
       "  0.11067333072423935,\n",
       "  0.11047829687595367,\n",
       "  0.10905098915100098,\n",
       "  0.10748320072889328,\n",
       "  0.10605861991643906,\n",
       "  0.10540633648633957,\n",
       "  0.1041247546672821],\n",
       " 'val_accuracy': [0.8654000163078308,\n",
       "  0.8952000141143799,\n",
       "  0.9068999886512756,\n",
       "  0.9153000116348267,\n",
       "  0.9210000038146973,\n",
       "  0.9240999817848206,\n",
       "  0.9269999861717224,\n",
       "  0.9312999844551086,\n",
       "  0.9344000220298767,\n",
       "  0.9351999759674072,\n",
       "  0.9390000104904175,\n",
       "  0.9397000074386597,\n",
       "  0.9440000057220459,\n",
       "  0.9460999965667725,\n",
       "  0.9472000002861023,\n",
       "  0.9492999911308289,\n",
       "  0.9506999850273132,\n",
       "  0.9527000188827515,\n",
       "  0.9542999863624573,\n",
       "  0.9535999894142151,\n",
       "  0.9562000036239624,\n",
       "  0.9571999907493591,\n",
       "  0.9585999846458435,\n",
       "  0.9589999914169312,\n",
       "  0.9592999815940857,\n",
       "  0.9613999724388123,\n",
       "  0.9620000123977661,\n",
       "  0.9614999890327454,\n",
       "  0.9627000093460083,\n",
       "  0.9628000259399414,\n",
       "  0.9635999798774719,\n",
       "  0.9631999731063843,\n",
       "  0.9645000100135803,\n",
       "  0.9650999903678894,\n",
       "  0.9648000001907349,\n",
       "  0.965399980545044,\n",
       "  0.9657999873161316,\n",
       "  0.9677000045776367,\n",
       "  0.9674000144004822,\n",
       "  0.9677000045776367,\n",
       "  0.9674999713897705,\n",
       "  0.9678999781608582,\n",
       "  0.9690999984741211,\n",
       "  0.9679999947547913,\n",
       "  0.9692000150680542,\n",
       "  0.9686999917030334,\n",
       "  0.9692999720573425,\n",
       "  0.9700000286102295,\n",
       "  0.9707000255584717,\n",
       "  0.9707000255584717]}"
      ]
     },
     "execution_count": 40,
     "metadata": {},
     "output_type": "execute_result"
    }
   ],
   "source": [
    "history.history"
   ]
  },
  {
   "cell_type": "code",
   "execution_count": 41,
   "metadata": {},
   "outputs": [
    {
     "data": {
      "text/plain": [
       "dict_keys(['loss', 'accuracy', 'val_loss', 'val_accuracy'])"
      ]
     },
     "execution_count": 41,
     "metadata": {},
     "output_type": "execute_result"
    }
   ],
   "source": [
    "history.history.keys()"
   ]
  },
  {
   "cell_type": "code",
   "execution_count": 42,
   "metadata": {},
   "outputs": [
    {
     "data": {
      "text/html": [
       "<div>\n",
       "<style scoped>\n",
       "    .dataframe tbody tr th:only-of-type {\n",
       "        vertical-align: middle;\n",
       "    }\n",
       "\n",
       "    .dataframe tbody tr th {\n",
       "        vertical-align: top;\n",
       "    }\n",
       "\n",
       "    .dataframe thead th {\n",
       "        text-align: right;\n",
       "    }\n",
       "</style>\n",
       "<table border=\"1\" class=\"dataframe\">\n",
       "  <thead>\n",
       "    <tr style=\"text-align: right;\">\n",
       "      <th></th>\n",
       "      <th>loss</th>\n",
       "      <th>accuracy</th>\n",
       "      <th>val_loss</th>\n",
       "      <th>val_accuracy</th>\n",
       "    </tr>\n",
       "  </thead>\n",
       "  <tbody>\n",
       "    <tr>\n",
       "      <th>0</th>\n",
       "      <td>1.268025</td>\n",
       "      <td>0.69466</td>\n",
       "      <td>0.597946</td>\n",
       "      <td>0.8654</td>\n",
       "    </tr>\n",
       "    <tr>\n",
       "      <th>1</th>\n",
       "      <td>0.516708</td>\n",
       "      <td>0.86972</td>\n",
       "      <td>0.394014</td>\n",
       "      <td>0.8952</td>\n",
       "    </tr>\n",
       "    <tr>\n",
       "      <th>2</th>\n",
       "      <td>0.400186</td>\n",
       "      <td>0.89256</td>\n",
       "      <td>0.333628</td>\n",
       "      <td>0.9069</td>\n",
       "    </tr>\n",
       "    <tr>\n",
       "      <th>3</th>\n",
       "      <td>0.352165</td>\n",
       "      <td>0.90172</td>\n",
       "      <td>0.304081</td>\n",
       "      <td>0.9153</td>\n",
       "    </tr>\n",
       "    <tr>\n",
       "      <th>4</th>\n",
       "      <td>0.322949</td>\n",
       "      <td>0.91028</td>\n",
       "      <td>0.282807</td>\n",
       "      <td>0.9210</td>\n",
       "    </tr>\n",
       "    <tr>\n",
       "      <th>5</th>\n",
       "      <td>0.301985</td>\n",
       "      <td>0.91518</td>\n",
       "      <td>0.267029</td>\n",
       "      <td>0.9241</td>\n",
       "    </tr>\n",
       "    <tr>\n",
       "      <th>6</th>\n",
       "      <td>0.285305</td>\n",
       "      <td>0.91958</td>\n",
       "      <td>0.255783</td>\n",
       "      <td>0.9270</td>\n",
       "    </tr>\n",
       "    <tr>\n",
       "      <th>7</th>\n",
       "      <td>0.271057</td>\n",
       "      <td>0.92284</td>\n",
       "      <td>0.245256</td>\n",
       "      <td>0.9313</td>\n",
       "    </tr>\n",
       "    <tr>\n",
       "      <th>8</th>\n",
       "      <td>0.258552</td>\n",
       "      <td>0.92706</td>\n",
       "      <td>0.235120</td>\n",
       "      <td>0.9344</td>\n",
       "    </tr>\n",
       "    <tr>\n",
       "      <th>9</th>\n",
       "      <td>0.247567</td>\n",
       "      <td>0.93014</td>\n",
       "      <td>0.226959</td>\n",
       "      <td>0.9352</td>\n",
       "    </tr>\n",
       "    <tr>\n",
       "      <th>10</th>\n",
       "      <td>0.237518</td>\n",
       "      <td>0.93286</td>\n",
       "      <td>0.218792</td>\n",
       "      <td>0.9390</td>\n",
       "    </tr>\n",
       "    <tr>\n",
       "      <th>11</th>\n",
       "      <td>0.227969</td>\n",
       "      <td>0.93512</td>\n",
       "      <td>0.212312</td>\n",
       "      <td>0.9397</td>\n",
       "    </tr>\n",
       "    <tr>\n",
       "      <th>12</th>\n",
       "      <td>0.219173</td>\n",
       "      <td>0.93818</td>\n",
       "      <td>0.204796</td>\n",
       "      <td>0.9440</td>\n",
       "    </tr>\n",
       "    <tr>\n",
       "      <th>13</th>\n",
       "      <td>0.211584</td>\n",
       "      <td>0.93960</td>\n",
       "      <td>0.197602</td>\n",
       "      <td>0.9461</td>\n",
       "    </tr>\n",
       "    <tr>\n",
       "      <th>14</th>\n",
       "      <td>0.203970</td>\n",
       "      <td>0.94200</td>\n",
       "      <td>0.191358</td>\n",
       "      <td>0.9472</td>\n",
       "    </tr>\n",
       "    <tr>\n",
       "      <th>15</th>\n",
       "      <td>0.196716</td>\n",
       "      <td>0.94416</td>\n",
       "      <td>0.184961</td>\n",
       "      <td>0.9493</td>\n",
       "    </tr>\n",
       "    <tr>\n",
       "      <th>16</th>\n",
       "      <td>0.189891</td>\n",
       "      <td>0.94612</td>\n",
       "      <td>0.180410</td>\n",
       "      <td>0.9507</td>\n",
       "    </tr>\n",
       "    <tr>\n",
       "      <th>17</th>\n",
       "      <td>0.184139</td>\n",
       "      <td>0.94788</td>\n",
       "      <td>0.174906</td>\n",
       "      <td>0.9527</td>\n",
       "    </tr>\n",
       "    <tr>\n",
       "      <th>18</th>\n",
       "      <td>0.178167</td>\n",
       "      <td>0.94924</td>\n",
       "      <td>0.170846</td>\n",
       "      <td>0.9543</td>\n",
       "    </tr>\n",
       "    <tr>\n",
       "      <th>19</th>\n",
       "      <td>0.172630</td>\n",
       "      <td>0.95066</td>\n",
       "      <td>0.170548</td>\n",
       "      <td>0.9536</td>\n",
       "    </tr>\n",
       "    <tr>\n",
       "      <th>20</th>\n",
       "      <td>0.167569</td>\n",
       "      <td>0.95196</td>\n",
       "      <td>0.162545</td>\n",
       "      <td>0.9562</td>\n",
       "    </tr>\n",
       "    <tr>\n",
       "      <th>21</th>\n",
       "      <td>0.162605</td>\n",
       "      <td>0.95358</td>\n",
       "      <td>0.159591</td>\n",
       "      <td>0.9572</td>\n",
       "    </tr>\n",
       "    <tr>\n",
       "      <th>22</th>\n",
       "      <td>0.157858</td>\n",
       "      <td>0.95514</td>\n",
       "      <td>0.155201</td>\n",
       "      <td>0.9586</td>\n",
       "    </tr>\n",
       "    <tr>\n",
       "      <th>23</th>\n",
       "      <td>0.153567</td>\n",
       "      <td>0.95604</td>\n",
       "      <td>0.151456</td>\n",
       "      <td>0.9590</td>\n",
       "    </tr>\n",
       "    <tr>\n",
       "      <th>24</th>\n",
       "      <td>0.149280</td>\n",
       "      <td>0.95778</td>\n",
       "      <td>0.148477</td>\n",
       "      <td>0.9593</td>\n",
       "    </tr>\n",
       "    <tr>\n",
       "      <th>25</th>\n",
       "      <td>0.145200</td>\n",
       "      <td>0.95850</td>\n",
       "      <td>0.146579</td>\n",
       "      <td>0.9614</td>\n",
       "    </tr>\n",
       "    <tr>\n",
       "      <th>26</th>\n",
       "      <td>0.141354</td>\n",
       "      <td>0.96006</td>\n",
       "      <td>0.143019</td>\n",
       "      <td>0.9620</td>\n",
       "    </tr>\n",
       "    <tr>\n",
       "      <th>27</th>\n",
       "      <td>0.137715</td>\n",
       "      <td>0.96080</td>\n",
       "      <td>0.140987</td>\n",
       "      <td>0.9615</td>\n",
       "    </tr>\n",
       "    <tr>\n",
       "      <th>28</th>\n",
       "      <td>0.134148</td>\n",
       "      <td>0.96224</td>\n",
       "      <td>0.138173</td>\n",
       "      <td>0.9627</td>\n",
       "    </tr>\n",
       "    <tr>\n",
       "      <th>29</th>\n",
       "      <td>0.130701</td>\n",
       "      <td>0.96278</td>\n",
       "      <td>0.135328</td>\n",
       "      <td>0.9628</td>\n",
       "    </tr>\n",
       "    <tr>\n",
       "      <th>30</th>\n",
       "      <td>0.127611</td>\n",
       "      <td>0.96398</td>\n",
       "      <td>0.133158</td>\n",
       "      <td>0.9636</td>\n",
       "    </tr>\n",
       "    <tr>\n",
       "      <th>31</th>\n",
       "      <td>0.124397</td>\n",
       "      <td>0.96526</td>\n",
       "      <td>0.132475</td>\n",
       "      <td>0.9632</td>\n",
       "    </tr>\n",
       "    <tr>\n",
       "      <th>32</th>\n",
       "      <td>0.121479</td>\n",
       "      <td>0.96612</td>\n",
       "      <td>0.128366</td>\n",
       "      <td>0.9645</td>\n",
       "    </tr>\n",
       "    <tr>\n",
       "      <th>33</th>\n",
       "      <td>0.118777</td>\n",
       "      <td>0.96672</td>\n",
       "      <td>0.126533</td>\n",
       "      <td>0.9651</td>\n",
       "    </tr>\n",
       "    <tr>\n",
       "      <th>34</th>\n",
       "      <td>0.115675</td>\n",
       "      <td>0.96752</td>\n",
       "      <td>0.125451</td>\n",
       "      <td>0.9648</td>\n",
       "    </tr>\n",
       "    <tr>\n",
       "      <th>35</th>\n",
       "      <td>0.113315</td>\n",
       "      <td>0.96848</td>\n",
       "      <td>0.123957</td>\n",
       "      <td>0.9654</td>\n",
       "    </tr>\n",
       "    <tr>\n",
       "      <th>36</th>\n",
       "      <td>0.110644</td>\n",
       "      <td>0.96942</td>\n",
       "      <td>0.120862</td>\n",
       "      <td>0.9658</td>\n",
       "    </tr>\n",
       "    <tr>\n",
       "      <th>37</th>\n",
       "      <td>0.108078</td>\n",
       "      <td>0.97030</td>\n",
       "      <td>0.119300</td>\n",
       "      <td>0.9677</td>\n",
       "    </tr>\n",
       "    <tr>\n",
       "      <th>38</th>\n",
       "      <td>0.105792</td>\n",
       "      <td>0.97046</td>\n",
       "      <td>0.118483</td>\n",
       "      <td>0.9674</td>\n",
       "    </tr>\n",
       "    <tr>\n",
       "      <th>39</th>\n",
       "      <td>0.103520</td>\n",
       "      <td>0.97136</td>\n",
       "      <td>0.117523</td>\n",
       "      <td>0.9677</td>\n",
       "    </tr>\n",
       "    <tr>\n",
       "      <th>40</th>\n",
       "      <td>0.101252</td>\n",
       "      <td>0.97186</td>\n",
       "      <td>0.115798</td>\n",
       "      <td>0.9675</td>\n",
       "    </tr>\n",
       "    <tr>\n",
       "      <th>41</th>\n",
       "      <td>0.099067</td>\n",
       "      <td>0.97266</td>\n",
       "      <td>0.116052</td>\n",
       "      <td>0.9679</td>\n",
       "    </tr>\n",
       "    <tr>\n",
       "      <th>42</th>\n",
       "      <td>0.096920</td>\n",
       "      <td>0.97282</td>\n",
       "      <td>0.113415</td>\n",
       "      <td>0.9691</td>\n",
       "    </tr>\n",
       "    <tr>\n",
       "      <th>43</th>\n",
       "      <td>0.095055</td>\n",
       "      <td>0.97358</td>\n",
       "      <td>0.110673</td>\n",
       "      <td>0.9680</td>\n",
       "    </tr>\n",
       "    <tr>\n",
       "      <th>44</th>\n",
       "      <td>0.093033</td>\n",
       "      <td>0.97438</td>\n",
       "      <td>0.110478</td>\n",
       "      <td>0.9692</td>\n",
       "    </tr>\n",
       "    <tr>\n",
       "      <th>45</th>\n",
       "      <td>0.091267</td>\n",
       "      <td>0.97470</td>\n",
       "      <td>0.109051</td>\n",
       "      <td>0.9687</td>\n",
       "    </tr>\n",
       "    <tr>\n",
       "      <th>46</th>\n",
       "      <td>0.089382</td>\n",
       "      <td>0.97510</td>\n",
       "      <td>0.107483</td>\n",
       "      <td>0.9693</td>\n",
       "    </tr>\n",
       "    <tr>\n",
       "      <th>47</th>\n",
       "      <td>0.087497</td>\n",
       "      <td>0.97638</td>\n",
       "      <td>0.106059</td>\n",
       "      <td>0.9700</td>\n",
       "    </tr>\n",
       "    <tr>\n",
       "      <th>48</th>\n",
       "      <td>0.085780</td>\n",
       "      <td>0.97624</td>\n",
       "      <td>0.105406</td>\n",
       "      <td>0.9707</td>\n",
       "    </tr>\n",
       "    <tr>\n",
       "      <th>49</th>\n",
       "      <td>0.084159</td>\n",
       "      <td>0.97690</td>\n",
       "      <td>0.104125</td>\n",
       "      <td>0.9707</td>\n",
       "    </tr>\n",
       "  </tbody>\n",
       "</table>\n",
       "</div>"
      ],
      "text/plain": [
       "        loss  accuracy  val_loss  val_accuracy\n",
       "0   1.268025   0.69466  0.597946        0.8654\n",
       "1   0.516708   0.86972  0.394014        0.8952\n",
       "2   0.400186   0.89256  0.333628        0.9069\n",
       "3   0.352165   0.90172  0.304081        0.9153\n",
       "4   0.322949   0.91028  0.282807        0.9210\n",
       "5   0.301985   0.91518  0.267029        0.9241\n",
       "6   0.285305   0.91958  0.255783        0.9270\n",
       "7   0.271057   0.92284  0.245256        0.9313\n",
       "8   0.258552   0.92706  0.235120        0.9344\n",
       "9   0.247567   0.93014  0.226959        0.9352\n",
       "10  0.237518   0.93286  0.218792        0.9390\n",
       "11  0.227969   0.93512  0.212312        0.9397\n",
       "12  0.219173   0.93818  0.204796        0.9440\n",
       "13  0.211584   0.93960  0.197602        0.9461\n",
       "14  0.203970   0.94200  0.191358        0.9472\n",
       "15  0.196716   0.94416  0.184961        0.9493\n",
       "16  0.189891   0.94612  0.180410        0.9507\n",
       "17  0.184139   0.94788  0.174906        0.9527\n",
       "18  0.178167   0.94924  0.170846        0.9543\n",
       "19  0.172630   0.95066  0.170548        0.9536\n",
       "20  0.167569   0.95196  0.162545        0.9562\n",
       "21  0.162605   0.95358  0.159591        0.9572\n",
       "22  0.157858   0.95514  0.155201        0.9586\n",
       "23  0.153567   0.95604  0.151456        0.9590\n",
       "24  0.149280   0.95778  0.148477        0.9593\n",
       "25  0.145200   0.95850  0.146579        0.9614\n",
       "26  0.141354   0.96006  0.143019        0.9620\n",
       "27  0.137715   0.96080  0.140987        0.9615\n",
       "28  0.134148   0.96224  0.138173        0.9627\n",
       "29  0.130701   0.96278  0.135328        0.9628\n",
       "30  0.127611   0.96398  0.133158        0.9636\n",
       "31  0.124397   0.96526  0.132475        0.9632\n",
       "32  0.121479   0.96612  0.128366        0.9645\n",
       "33  0.118777   0.96672  0.126533        0.9651\n",
       "34  0.115675   0.96752  0.125451        0.9648\n",
       "35  0.113315   0.96848  0.123957        0.9654\n",
       "36  0.110644   0.96942  0.120862        0.9658\n",
       "37  0.108078   0.97030  0.119300        0.9677\n",
       "38  0.105792   0.97046  0.118483        0.9674\n",
       "39  0.103520   0.97136  0.117523        0.9677\n",
       "40  0.101252   0.97186  0.115798        0.9675\n",
       "41  0.099067   0.97266  0.116052        0.9679\n",
       "42  0.096920   0.97282  0.113415        0.9691\n",
       "43  0.095055   0.97358  0.110673        0.9680\n",
       "44  0.093033   0.97438  0.110478        0.9692\n",
       "45  0.091267   0.97470  0.109051        0.9687\n",
       "46  0.089382   0.97510  0.107483        0.9693\n",
       "47  0.087497   0.97638  0.106059        0.9700\n",
       "48  0.085780   0.97624  0.105406        0.9707\n",
       "49  0.084159   0.97690  0.104125        0.9707"
      ]
     },
     "execution_count": 42,
     "metadata": {},
     "output_type": "execute_result"
    }
   ],
   "source": [
    "pd.DataFrame(history.history)"
   ]
  },
  {
   "cell_type": "code",
   "execution_count": 43,
   "metadata": {},
   "outputs": [
    {
     "data": {
      "image/png": "[encoded data removed]",
      "text/plain": [
       "<Figure size 800x500 with 1 Axes>"
      ]
     },
     "metadata": {},
     "output_type": "display_data"
    }
   ],
   "source": [
    "import pandas as pd\n",
    "import matplotlib.pyplot as plt\n",
    "\n",
    "pd.DataFrame(history.history).plot(figsize=(8, 5))\n",
    "plt.grid(True)\n",
    "plt.gca().set_ylim(0, 1) # set the vertical range to [0-1]\n",
    "plt.show()"
   ]
  },
  {
   "cell_type": "markdown",
   "metadata": {},
   "source": [
    "Si el modelo no ha ido bien, prueba a cambiar el learning rate, cambia de optimizador y después prueba a cambiar capas, neuronas y funciones de activación.\n",
    "\n",
    "Ya tenemos el modelo entrenado. Probémoslo con test"
   ]
  },
  {
   "cell_type": "code",
   "execution_count": 44,
   "metadata": {
    "tags": []
   },
   "outputs": [
    {
     "name": "stdout",
     "output_type": "stream",
     "text": [
      "313/313 [==============================] - 1s 4ms/step - loss: 0.0886 - accuracy: 0.9726\n"
     ]
    },
    {
     "data": {
      "text/plain": [
       "[0.08856378495693207, 0.972599983215332]"
      ]
     },
     "execution_count": 44,
     "metadata": {},
     "output_type": "execute_result"
    }
   ],
   "source": [
    "results = model.evaluate(X_test, y_test)\n",
    "results"
   ]
  },
  {
   "cell_type": "code",
   "execution_count": 45,
   "metadata": {
    "tags": []
   },
   "outputs": [
    {
     "name": "stderr",
     "output_type": "stream",
     "text": [
      "C:\\Users\\Admin\\AppData\\Local\\Temp\\ipykernel_3776\\1468152043.py:2: MatplotlibDeprecationWarning: The get_cmap function was deprecated in Matplotlib 3.7 and will be removed two minor releases later. Use ``matplotlib.colormaps[name]`` or ``matplotlib.colormaps.get_cmap(obj)`` instead.\n",
      "  plt.imshow(X_test[0].reshape(28,28), cmap=plt.cm.get_cmap('Greys'));\n"
     ]
    },
    {
     "data": {
      "image/png": "[encoded data removed]",
      "text/plain": [
       "<Figure size 640x480 with 1 Axes>"
      ]
     },
     "metadata": {},
     "output_type": "display_data"
    }
   ],
   "source": [
    "# Cogemos el primero\n",
    "plt.imshow(X_test[0].reshape(28,28), cmap=plt.cm.get_cmap('Greys'));"
   ]
  },
  {
   "cell_type": "code",
   "execution_count": 46,
   "metadata": {},
   "outputs": [
    {
     "data": {
      "text/plain": [
       "array([[[0.        , 0.        , 0.        , 0.        , 0.        ,\n",
       "         0.        , 0.        , 0.        , 0.        , 0.        ,\n",
       "         0.        , 0.        , 0.        , 0.        , 0.        ,\n",
       "         0.        , 0.        , 0.        , 0.        , 0.        ,\n",
       "         0.        , 0.        , 0.        , 0.        , 0.        ,\n",
       "         0.        , 0.        , 0.        ],\n",
       "        [0.        , 0.        , 0.        , 0.        , 0.        ,\n",
       "         0.        , 0.        , 0.        , 0.        , 0.        ,\n",
       "         0.        , 0.        , 0.        , 0.        , 0.        ,\n",
       "         0.        , 0.        , 0.        , 0.        , 0.        ,\n",
       "         0.        , 0.        , 0.        , 0.        , 0.        ,\n",
       "         0.        , 0.        , 0.        ],\n",
       "        [0.        , 0.        , 0.        , 0.        , 0.        ,\n",
       "         0.        , 0.        , 0.        , 0.        , 0.        ,\n",
       "         0.        , 0.        , 0.        , 0.        , 0.        ,\n",
       "         0.        , 0.        , 0.        , 0.        , 0.        ,\n",
       "         0.        , 0.        , 0.        , 0.        , 0.        ,\n",
       "         0.        , 0.        , 0.        ],\n",
       "        [0.        , 0.        , 0.        , 0.        , 0.        ,\n",
       "         0.        , 0.        , 0.        , 0.        , 0.        ,\n",
       "         0.        , 0.        , 0.        , 0.        , 0.        ,\n",
       "         0.        , 0.        , 0.        , 0.        , 0.        ,\n",
       "         0.        , 0.        , 0.        , 0.        , 0.        ,\n",
       "         0.        , 0.        , 0.        ],\n",
       "        [0.        , 0.        , 0.        , 0.        , 0.        ,\n",
       "         0.        , 0.        , 0.        , 0.        , 0.        ,\n",
       "         0.        , 0.        , 0.        , 0.        , 0.        ,\n",
       "         0.        , 0.        , 0.        , 0.        , 0.        ,\n",
       "         0.        , 0.        , 0.        , 0.        , 0.        ,\n",
       "         0.        , 0.        , 0.        ],\n",
       "        [0.        , 0.        , 0.        , 0.        , 0.        ,\n",
       "         0.        , 0.        , 0.        , 0.        , 0.        ,\n",
       "         0.        , 0.        , 0.        , 0.        , 0.        ,\n",
       "         0.        , 0.        , 0.        , 0.        , 0.        ,\n",
       "         0.        , 0.        , 0.        , 0.        , 0.        ,\n",
       "         0.        , 0.        , 0.        ],\n",
       "        [0.        , 0.        , 0.        , 0.        , 0.        ,\n",
       "         0.        , 0.        , 0.        , 0.        , 0.        ,\n",
       "         0.        , 0.        , 0.        , 0.        , 0.        ,\n",
       "         0.        , 0.        , 0.        , 0.        , 0.        ,\n",
       "         0.        , 0.        , 0.        , 0.        , 0.        ,\n",
       "         0.        , 0.        , 0.        ],\n",
       "        [0.        , 0.        , 0.        , 0.        , 0.        ,\n",
       "         0.        , 0.32941177, 0.7254902 , 0.62352943, 0.5921569 ,\n",
       "         0.23529412, 0.14117648, 0.        , 0.        , 0.        ,\n",
       "         0.        , 0.        , 0.        , 0.        , 0.        ,\n",
       "         0.        , 0.        , 0.        , 0.        , 0.        ,\n",
       "         0.        , 0.        , 0.        ],\n",
       "        [0.        , 0.        , 0.        , 0.        , 0.        ,\n",
       "         0.        , 0.87058824, 0.99607843, 0.99607843, 0.99607843,\n",
       "         0.99607843, 0.94509804, 0.7764706 , 0.7764706 , 0.7764706 ,\n",
       "         0.7764706 , 0.7764706 , 0.7764706 , 0.7764706 , 0.7764706 ,\n",
       "         0.6666667 , 0.20392157, 0.        , 0.        , 0.        ,\n",
       "         0.        , 0.        , 0.        ],\n",
       "        [0.        , 0.        , 0.        , 0.        , 0.        ,\n",
       "         0.        , 0.2627451 , 0.44705883, 0.28235295, 0.44705883,\n",
       "         0.6392157 , 0.8901961 , 0.99607843, 0.88235295, 0.99607843,\n",
       "         0.99607843, 0.99607843, 0.98039216, 0.8980392 , 0.99607843,\n",
       "         0.99607843, 0.54901963, 0.        , 0.        , 0.        ,\n",
       "         0.        , 0.        , 0.        ],\n",
       "        [0.        , 0.        , 0.        , 0.        , 0.        ,\n",
       "         0.        , 0.        , 0.        , 0.        , 0.        ,\n",
       "         0.        , 0.06666667, 0.25882354, 0.05490196, 0.2627451 ,\n",
       "         0.2627451 , 0.2627451 , 0.23137255, 0.08235294, 0.9254902 ,\n",
       "         0.99607843, 0.41568628, 0.        , 0.        , 0.        ,\n",
       "         0.        , 0.        , 0.        ],\n",
       "        [0.        , 0.        , 0.        , 0.        , 0.        ,\n",
       "         0.        , 0.        , 0.        , 0.        , 0.        ,\n",
       "         0.        , 0.        , 0.        , 0.        , 0.        ,\n",
       "         0.        , 0.        , 0.        , 0.3254902 , 0.99215686,\n",
       "         0.81960785, 0.07058824, 0.        , 0.        , 0.        ,\n",
       "         0.        , 0.        , 0.        ],\n",
       "        [0.        , 0.        , 0.        , 0.        , 0.        ,\n",
       "         0.        , 0.        , 0.        , 0.        , 0.        ,\n",
       "         0.        , 0.        , 0.        , 0.        , 0.        ,\n",
       "         0.        , 0.        , 0.08627451, 0.9137255 , 1.        ,\n",
       "         0.3254902 , 0.        , 0.        , 0.        , 0.        ,\n",
       "         0.        , 0.        , 0.        ],\n",
       "        [0.        , 0.        , 0.        , 0.        , 0.        ,\n",
       "         0.        , 0.        , 0.        , 0.        , 0.        ,\n",
       "         0.        , 0.        , 0.        , 0.        , 0.        ,\n",
       "         0.        , 0.        , 0.5058824 , 0.99607843, 0.93333334,\n",
       "         0.17254902, 0.        , 0.        , 0.        , 0.        ,\n",
       "         0.        , 0.        , 0.        ],\n",
       "        [0.        , 0.        , 0.        , 0.        , 0.        ,\n",
       "         0.        , 0.        , 0.        , 0.        , 0.        ,\n",
       "         0.        , 0.        , 0.        , 0.        , 0.        ,\n",
       "         0.        , 0.23137255, 0.9764706 , 0.99607843, 0.24313726,\n",
       "         0.        , 0.        , 0.        , 0.        , 0.        ,\n",
       "         0.        , 0.        , 0.        ],\n",
       "        [0.        , 0.        , 0.        , 0.        , 0.        ,\n",
       "         0.        , 0.        , 0.        , 0.        , 0.        ,\n",
       "         0.        , 0.        , 0.        , 0.        , 0.        ,\n",
       "         0.        , 0.52156866, 0.99607843, 0.73333335, 0.01960784,\n",
       "         0.        , 0.        , 0.        , 0.        , 0.        ,\n",
       "         0.        , 0.        , 0.        ],\n",
       "        [0.        , 0.        , 0.        , 0.        , 0.        ,\n",
       "         0.        , 0.        , 0.        , 0.        , 0.        ,\n",
       "         0.        , 0.        , 0.        , 0.        , 0.        ,\n",
       "         0.03529412, 0.8039216 , 0.972549  , 0.22745098, 0.        ,\n",
       "         0.        , 0.        , 0.        , 0.        , 0.        ,\n",
       "         0.        , 0.        , 0.        ],\n",
       "        [0.        , 0.        , 0.        , 0.        , 0.        ,\n",
       "         0.        , 0.        , 0.        , 0.        , 0.        ,\n",
       "         0.        , 0.        , 0.        , 0.        , 0.        ,\n",
       "         0.49411765, 0.99607843, 0.7137255 , 0.        , 0.        ,\n",
       "         0.        , 0.        , 0.        , 0.        , 0.        ,\n",
       "         0.        , 0.        , 0.        ],\n",
       "        [0.        , 0.        , 0.        , 0.        , 0.        ,\n",
       "         0.        , 0.        , 0.        , 0.        , 0.        ,\n",
       "         0.        , 0.        , 0.        , 0.        , 0.29411766,\n",
       "         0.9843137 , 0.9411765 , 0.22352941, 0.        , 0.        ,\n",
       "         0.        , 0.        , 0.        , 0.        , 0.        ,\n",
       "         0.        , 0.        , 0.        ],\n",
       "        [0.        , 0.        , 0.        , 0.        , 0.        ,\n",
       "         0.        , 0.        , 0.        , 0.        , 0.        ,\n",
       "         0.        , 0.        , 0.        , 0.07450981, 0.8666667 ,\n",
       "         0.99607843, 0.6509804 , 0.        , 0.        , 0.        ,\n",
       "         0.        , 0.        , 0.        , 0.        , 0.        ,\n",
       "         0.        , 0.        , 0.        ],\n",
       "        [0.        , 0.        , 0.        , 0.        , 0.        ,\n",
       "         0.        , 0.        , 0.        , 0.        , 0.        ,\n",
       "         0.        , 0.        , 0.01176471, 0.79607844, 0.99607843,\n",
       "         0.85882354, 0.13725491, 0.        , 0.        , 0.        ,\n",
       "         0.        , 0.        , 0.        , 0.        , 0.        ,\n",
       "         0.        , 0.        , 0.        ],\n",
       "        [0.        , 0.        , 0.        , 0.        , 0.        ,\n",
       "         0.        , 0.        , 0.        , 0.        , 0.        ,\n",
       "         0.        , 0.        , 0.14901961, 0.99607843, 0.99607843,\n",
       "         0.3019608 , 0.        , 0.        , 0.        , 0.        ,\n",
       "         0.        , 0.        , 0.        , 0.        , 0.        ,\n",
       "         0.        , 0.        , 0.        ],\n",
       "        [0.        , 0.        , 0.        , 0.        , 0.        ,\n",
       "         0.        , 0.        , 0.        , 0.        , 0.        ,\n",
       "         0.        , 0.12156863, 0.8784314 , 0.99607843, 0.4509804 ,\n",
       "         0.00392157, 0.        , 0.        , 0.        , 0.        ,\n",
       "         0.        , 0.        , 0.        , 0.        , 0.        ,\n",
       "         0.        , 0.        , 0.        ],\n",
       "        [0.        , 0.        , 0.        , 0.        , 0.        ,\n",
       "         0.        , 0.        , 0.        , 0.        , 0.        ,\n",
       "         0.        , 0.52156866, 0.99607843, 0.99607843, 0.20392157,\n",
       "         0.        , 0.        , 0.        , 0.        , 0.        ,\n",
       "         0.        , 0.        , 0.        , 0.        , 0.        ,\n",
       "         0.        , 0.        , 0.        ],\n",
       "        [0.        , 0.        , 0.        , 0.        , 0.        ,\n",
       "         0.        , 0.        , 0.        , 0.        , 0.        ,\n",
       "         0.23921569, 0.9490196 , 0.99607843, 0.99607843, 0.20392157,\n",
       "         0.        , 0.        , 0.        , 0.        , 0.        ,\n",
       "         0.        , 0.        , 0.        , 0.        , 0.        ,\n",
       "         0.        , 0.        , 0.        ],\n",
       "        [0.        , 0.        , 0.        , 0.        , 0.        ,\n",
       "         0.        , 0.        , 0.        , 0.        , 0.        ,\n",
       "         0.4745098 , 0.99607843, 0.99607843, 0.85882354, 0.15686275,\n",
       "         0.        , 0.        , 0.        , 0.        , 0.        ,\n",
       "         0.        , 0.        , 0.        , 0.        , 0.        ,\n",
       "         0.        , 0.        , 0.        ],\n",
       "        [0.        , 0.        , 0.        , 0.        , 0.        ,\n",
       "         0.        , 0.        , 0.        , 0.        , 0.        ,\n",
       "         0.4745098 , 0.99607843, 0.8117647 , 0.07058824, 0.        ,\n",
       "         0.        , 0.        , 0.        , 0.        , 0.        ,\n",
       "         0.        , 0.        , 0.        , 0.        , 0.        ,\n",
       "         0.        , 0.        , 0.        ],\n",
       "        [0.        , 0.        , 0.        , 0.        , 0.        ,\n",
       "         0.        , 0.        , 0.        , 0.        , 0.        ,\n",
       "         0.        , 0.        , 0.        , 0.        , 0.        ,\n",
       "         0.        , 0.        , 0.        , 0.        , 0.        ,\n",
       "         0.        , 0.        , 0.        , 0.        , 0.        ,\n",
       "         0.        , 0.        , 0.        ]]], dtype=float32)"
      ]
     },
     "execution_count": 46,
     "metadata": {},
     "output_type": "execute_result"
    }
   ],
   "source": [
    "X_test[:1]"
   ]
  },
  {
   "cell_type": "code",
   "execution_count": 47,
   "metadata": {
    "tags": []
   },
   "outputs": [
    {
     "name": "stdout",
     "output_type": "stream",
     "text": [
      "1/1 [==============================] - 0s 300ms/step\n",
      "(1, 10)\n"
     ]
    },
    {
     "data": {
      "text/plain": [
       "array([[0.   , 0.   , 0.   , 0.003, 0.   , 0.   , 0.   , 0.997, 0.   ,\n",
       "        0.   ]], dtype=float32)"
      ]
     },
     "execution_count": 47,
     "metadata": {},
     "output_type": "execute_result"
    }
   ],
   "source": [
    "predictions = model.predict(X_test[:1]).round(3)\n",
    "print(predictions.shape)\n",
    "predictions"
   ]
  },
  {
   "cell_type": "code",
   "execution_count": 48,
   "metadata": {},
   "outputs": [
    {
     "data": {
      "text/plain": [
       "7"
      ]
     },
     "execution_count": 48,
     "metadata": {},
     "output_type": "execute_result"
    }
   ],
   "source": [
    "predictions.argmax()"
   ]
  },
  {
   "cell_type": "code",
   "execution_count": 49,
   "metadata": {},
   "outputs": [
    {
     "name": "stdout",
     "output_type": "stream",
     "text": [
      "313/313 [==============================] - 1s 4ms/step\n"
     ]
    },
    {
     "data": {
      "text/plain": [
       "array([7, 2, 1, ..., 4, 5, 6], dtype=int64)"
      ]
     },
     "execution_count": 49,
     "metadata": {},
     "output_type": "execute_result"
    }
   ],
   "source": [
    "model.predict(X_test).argmax(axis=1)"
   ]
  },
  {
   "cell_type": "code",
   "execution_count": 50,
   "metadata": {},
   "outputs": [
    {
     "data": {
      "text/plain": [
       "7.0"
      ]
     },
     "execution_count": 50,
     "metadata": {},
     "output_type": "execute_result"
    }
   ],
   "source": [
    "y_test[0]"
   ]
  },
  {
   "cell_type": "code",
   "execution_count": 51,
   "metadata": {},
   "outputs": [
    {
     "name": "stderr",
     "output_type": "stream",
     "text": [
      "C:\\Users\\Admin\\AppData\\Local\\Temp\\ipykernel_3776\\1084033691.py:1: MatplotlibDeprecationWarning: The get_cmap function was deprecated in Matplotlib 3.7 and will be removed two minor releases later. Use ``matplotlib.colormaps[name]`` or ``matplotlib.colormaps.get_cmap(obj)`` instead.\n",
      "  plt.imshow(X_test[2].reshape(28,28), cmap=plt.cm.get_cmap('Greys'));\n"
     ]
    },
    {
     "data": {
      "image/png": "[encoded data removed]",
      "text/plain": [
       "<Figure size 640x480 with 1 Axes>"
      ]
     },
     "metadata": {},
     "output_type": "display_data"
    }
   ],
   "source": [
    "plt.imshow(X_test[2].reshape(28,28), cmap=plt.cm.get_cmap('Greys'));"
   ]
  },
  {
   "cell_type": "markdown",
   "metadata": {},
   "source": [
    "### Problema de regresión\n",
    "Veamos un ejemplo de cómo aplicar una red neuronal de TensorFlow a un problema de regresión."
   ]
  },
  {
   "cell_type": "code",
   "execution_count": 52,
   "metadata": {},
   "outputs": [],
   "source": [
    "#housing.keys()"
   ]
  },
  {
   "cell_type": "code",
   "execution_count": 2,
   "metadata": {},
   "outputs": [
    {
     "data": {
      "text/html": [
       "<div>\n",
       "<style scoped>\n",
       "    .dataframe tbody tr th:only-of-type {\n",
       "        vertical-align: middle;\n",
       "    }\n",
       "\n",
       "    .dataframe tbody tr th {\n",
       "        vertical-align: top;\n",
       "    }\n",
       "\n",
       "    .dataframe thead th {\n",
       "        text-align: right;\n",
       "    }\n",
       "</style>\n",
       "<table border=\"1\" class=\"dataframe\">\n",
       "  <thead>\n",
       "    <tr style=\"text-align: right;\">\n",
       "      <th></th>\n",
       "      <th>MedInc</th>\n",
       "      <th>HouseAge</th>\n",
       "      <th>AveRooms</th>\n",
       "      <th>AveBedrms</th>\n",
       "      <th>Population</th>\n",
       "      <th>AveOccup</th>\n",
       "      <th>Latitude</th>\n",
       "      <th>Longitude</th>\n",
       "      <th>target</th>\n",
       "    </tr>\n",
       "  </thead>\n",
       "  <tbody>\n",
       "    <tr>\n",
       "      <th>0</th>\n",
       "      <td>8.3252</td>\n",
       "      <td>41.0</td>\n",
       "      <td>6.984127</td>\n",
       "      <td>1.023810</td>\n",
       "      <td>322.0</td>\n",
       "      <td>2.555556</td>\n",
       "      <td>37.88</td>\n",
       "      <td>-122.23</td>\n",
       "      <td>4.526</td>\n",
       "    </tr>\n",
       "    <tr>\n",
       "      <th>1</th>\n",
       "      <td>8.3014</td>\n",
       "      <td>21.0</td>\n",
       "      <td>6.238137</td>\n",
       "      <td>0.971880</td>\n",
       "      <td>2401.0</td>\n",
       "      <td>2.109842</td>\n",
       "      <td>37.86</td>\n",
       "      <td>-122.22</td>\n",
       "      <td>3.585</td>\n",
       "    </tr>\n",
       "    <tr>\n",
       "      <th>2</th>\n",
       "      <td>7.2574</td>\n",
       "      <td>52.0</td>\n",
       "      <td>8.288136</td>\n",
       "      <td>1.073446</td>\n",
       "      <td>496.0</td>\n",
       "      <td>2.802260</td>\n",
       "      <td>37.85</td>\n",
       "      <td>-122.24</td>\n",
       "      <td>3.521</td>\n",
       "    </tr>\n",
       "    <tr>\n",
       "      <th>3</th>\n",
       "      <td>5.6431</td>\n",
       "      <td>52.0</td>\n",
       "      <td>5.817352</td>\n",
       "      <td>1.073059</td>\n",
       "      <td>558.0</td>\n",
       "      <td>2.547945</td>\n",
       "      <td>37.85</td>\n",
       "      <td>-122.25</td>\n",
       "      <td>3.413</td>\n",
       "    </tr>\n",
       "    <tr>\n",
       "      <th>4</th>\n",
       "      <td>3.8462</td>\n",
       "      <td>52.0</td>\n",
       "      <td>6.281853</td>\n",
       "      <td>1.081081</td>\n",
       "      <td>565.0</td>\n",
       "      <td>2.181467</td>\n",
       "      <td>37.85</td>\n",
       "      <td>-122.25</td>\n",
       "      <td>3.422</td>\n",
       "    </tr>\n",
       "  </tbody>\n",
       "</table>\n",
       "</div>"
      ],
      "text/plain": [
       "   MedInc  HouseAge  AveRooms  AveBedrms  Population  AveOccup  Latitude  \\\n",
       "0  8.3252      41.0  6.984127   1.023810       322.0  2.555556     37.88   \n",
       "1  8.3014      21.0  6.238137   0.971880      2401.0  2.109842     37.86   \n",
       "2  7.2574      52.0  8.288136   1.073446       496.0  2.802260     37.85   \n",
       "3  5.6431      52.0  5.817352   1.073059       558.0  2.547945     37.85   \n",
       "4  3.8462      52.0  6.281853   1.081081       565.0  2.181467     37.85   \n",
       "\n",
       "   Longitude  target  \n",
       "0    -122.23   4.526  \n",
       "1    -122.22   3.585  \n",
       "2    -122.24   3.521  \n",
       "3    -122.25   3.413  \n",
       "4    -122.25   3.422  "
      ]
     },
     "execution_count": 2,
     "metadata": {},
     "output_type": "execute_result"
    }
   ],
   "source": [
    "# Cargamos datos\n",
    "from sklearn.datasets import fetch_california_housing\n",
    "from sklearn.model_selection import train_test_split\n",
    "from sklearn.preprocessing import StandardScaler\n",
    "\n",
    "housing = fetch_california_housing()\n",
    "df = pd.DataFrame(housing.data, columns = housing.feature_names)\n",
    "df['target'] = housing['target']\n",
    "df.head()"
   ]
  },
  {
   "cell_type": "markdown",
   "metadata": {},
   "source": [
    "Divimos en train, test y validation"
   ]
  },
  {
   "cell_type": "code",
   "execution_count": 3,
   "metadata": {},
   "outputs": [],
   "source": [
    "X_train_full, X_test, y_train_full, y_test = train_test_split(housing.data,\n",
    "                                                              housing.target)\n",
    "\n",
    "X_train, X_valid, y_train, y_valid = train_test_split(X_train_full,\n",
    "                                                      y_train_full)\n",
    "\n",
    "scaler = StandardScaler()\n",
    "X_train = scaler.fit_transform(X_train)\n",
    "X_valid = scaler.transform(X_valid)\n",
    "X_test = scaler.transform(X_test)"
   ]
  },
  {
   "cell_type": "code",
   "execution_count": 5,
   "metadata": {},
   "outputs": [
    {
     "data": {
      "text/plain": [
       "(11610, 8)"
      ]
     },
     "execution_count": 5,
     "metadata": {},
     "output_type": "execute_result"
    }
   ],
   "source": [
    "X_train.shape"
   ]
  },
  {
   "cell_type": "code",
   "execution_count": 56,
   "metadata": {},
   "outputs": [
    {
     "name": "stdout",
     "output_type": "stream",
     "text": [
      "False\n",
      "False\n",
      "False\n"
     ]
    }
   ],
   "source": [
    "print(np.any(np.isnan(X_train)))\n",
    "print(np.any(np.isnan(X_valid)))\n",
    "print(np.any(np.isnan(X_test)))"
   ]
  },
  {
   "cell_type": "markdown",
   "metadata": {},
   "source": [
    "Montamos el modelo. Simplemente se compondrá de una hidden layer, a la que le configuramos una capa previa de entrada de 8 neuronas (las features).\n",
    "\n",
    "Se trata de un modelo de regresión, por lo que la capa de salida es una única neurona."
   ]
  },
  {
   "cell_type": "code",
   "execution_count": 6,
   "metadata": {},
   "outputs": [
    {
     "data": {
      "text/plain": [
       "(11610, 8)"
      ]
     },
     "execution_count": 6,
     "metadata": {},
     "output_type": "execute_result"
    }
   ],
   "source": [
    "X_train.shape"
   ]
  },
  {
   "cell_type": "code",
   "execution_count": 12,
   "metadata": {},
   "outputs": [
    {
     "data": {
      "text/plain": [
       "(8,)"
      ]
     },
     "execution_count": 12,
     "metadata": {},
     "output_type": "execute_result"
    }
   ],
   "source": [
    "X_train.shape[1:]"
   ]
  },
  {
   "cell_type": "code",
   "execution_count": 6,
   "metadata": {},
   "outputs": [
    {
     "name": "stdout",
     "output_type": "stream",
     "text": [
      "Epoch 1/20\n",
      "363/363 [==============================] - 4s 9ms/step - loss: 0.9866 - val_loss: 0.5101\n",
      "Epoch 2/20\n",
      "363/363 [==============================] - 3s 8ms/step - loss: 0.4938 - val_loss: 0.4615\n",
      "Epoch 3/20\n",
      "363/363 [==============================] - 3s 7ms/step - loss: 0.4529 - val_loss: 0.4321\n",
      "Epoch 4/20\n",
      "363/363 [==============================] - 3s 8ms/step - loss: 0.4398 - val_loss: 0.4258\n",
      "Epoch 5/20\n",
      "363/363 [==============================] - 2s 6ms/step - loss: 0.4309 - val_loss: 0.4057\n",
      "Epoch 6/20\n",
      "363/363 [==============================] - 2s 6ms/step - loss: 0.4186 - val_loss: 0.3996\n",
      "Epoch 7/20\n",
      "363/363 [==============================] - 3s 9ms/step - loss: 0.4095 - val_loss: 0.3894\n",
      "Epoch 8/20\n",
      "363/363 [==============================] - 4s 10ms/step - loss: 0.4058 - val_loss: 0.3880\n",
      "Epoch 9/20\n",
      "363/363 [==============================] - 2s 6ms/step - loss: 0.4018 - val_loss: 0.3821\n",
      "Epoch 10/20\n",
      "363/363 [==============================] - 2s 6ms/step - loss: 0.4079 - val_loss: 0.3803\n",
      "Epoch 11/20\n",
      "363/363 [==============================] - 2s 5ms/step - loss: 0.3933 - val_loss: 0.3721\n",
      "Epoch 12/20\n",
      "363/363 [==============================] - 2s 5ms/step - loss: 0.3930 - val_loss: 0.3742\n",
      "Epoch 13/20\n",
      "363/363 [==============================] - 2s 4ms/step - loss: 0.4084 - val_loss: 0.3721\n",
      "Epoch 14/20\n",
      "363/363 [==============================] - 1s 4ms/step - loss: 0.3869 - val_loss: 0.3685\n",
      "Epoch 15/20\n",
      "363/363 [==============================] - 1s 4ms/step - loss: 0.3819 - val_loss: 0.3618\n",
      "Epoch 16/20\n",
      "363/363 [==============================] - 2s 5ms/step - loss: 0.3827 - val_loss: 0.3742\n",
      "Epoch 17/20\n",
      "363/363 [==============================] - 2s 4ms/step - loss: 0.3825 - val_loss: 0.3554\n",
      "Epoch 18/20\n",
      "363/363 [==============================] - 2s 5ms/step - loss: 0.3983 - val_loss: 0.3541\n",
      "Epoch 19/20\n",
      "363/363 [==============================] - 2s 4ms/step - loss: 0.3692 - val_loss: 0.3570\n",
      "Epoch 20/20\n",
      "363/363 [==============================] - 2s 4ms/step - loss: 0.3758 - val_loss: 0.3512\n"
     ]
    }
   ],
   "source": [
    "model = keras.models.Sequential([\n",
    "    keras.layers.Dense(30, activation = 'relu',\n",
    "                      input_shape = X_train.shape[1:]),\n",
    "    keras.layers.Dense(1)\n",
    "])\n",
    "\n",
    "optimizer = keras.optimizers.SGD()\n",
    "\n",
    "model.compile(loss = \"mean_squared_error\",\n",
    "             optimizer = optimizer) \n",
    "\n",
    "history = model.fit(X_train,\n",
    "                   y_train,\n",
    "                   epochs = 20,\n",
    "                   validation_data = (X_valid, y_valid))"
   ]
  },
  {
   "cell_type": "code",
   "execution_count": 59,
   "metadata": {},
   "outputs": [
    {
     "data": {
      "text/plain": [
       "270"
      ]
     },
     "execution_count": 59,
     "metadata": {},
     "output_type": "execute_result"
    }
   ],
   "source": [
    "8*30 + 30"
   ]
  },
  {
   "cell_type": "code",
   "execution_count": 60,
   "metadata": {},
   "outputs": [
    {
     "name": "stdout",
     "output_type": "stream",
     "text": [
      "Model: \"sequential_2\"\n",
      "_________________________________________________________________\n",
      " Layer (type)                Output Shape              Param #   \n",
      "=================================================================\n",
      " dense_6 (Dense)             (None, 30)                270       \n",
      "                                                                 \n",
      " dense_7 (Dense)             (None, 1)                 31        \n",
      "                                                                 \n",
      "=================================================================\n",
      "Total params: 301 (1.18 KB)\n",
      "Trainable params: 301 (1.18 KB)\n",
      "Non-trainable params: 0 (0.00 Byte)\n",
      "_________________________________________________________________\n"
     ]
    }
   ],
   "source": [
    "model.summary()"
   ]
  },
  {
   "cell_type": "code",
   "execution_count": 7,
   "metadata": {},
   "outputs": [
    {
     "name": "stdout",
     "output_type": "stream",
     "text": [
      "162/162 [==============================] - 1s 4ms/step - loss: 0.3725\n",
      "0.3725224733352661\n"
     ]
    }
   ],
   "source": [
    "mse_test = model.evaluate(X_test, y_test)\n",
    "print(mse_test)"
   ]
  },
  {
   "cell_type": "code",
   "execution_count": 8,
   "metadata": {},
   "outputs": [
    {
     "name": "stdout",
     "output_type": "stream",
     "text": [
      "1/1 [==============================] - 0s 284ms/step\n"
     ]
    },
    {
     "data": {
      "text/plain": [
       "array([[1.7874575],\n",
       "       [3.8865545],\n",
       "       [3.4208465],\n",
       "       [2.641945 ],\n",
       "       [0.7510129]], dtype=float32)"
      ]
     },
     "execution_count": 8,
     "metadata": {},
     "output_type": "execute_result"
    }
   ],
   "source": [
    "y_pred = model.predict(X_test[:5])\n",
    "y_pred"
   ]
  },
  {
   "cell_type": "markdown",
   "metadata": {},
   "source": [
    "### Guardar modelo\n",
    "Para guardar el modelo, en el formato de Keras. "
   ]
  },
  {
   "cell_type": "code",
   "execution_count": 9,
   "metadata": {},
   "outputs": [],
   "source": [
    "model.save(\"my_keras_model.keras\")"
   ]
  },
  {
   "cell_type": "code",
   "execution_count": 10,
   "metadata": {},
   "outputs": [],
   "source": [
    "# Lo volvemos a cargar\n",
    "model = keras.models.load_model(\"my_keras_model.keras\")"
   ]
  },
  {
   "cell_type": "markdown",
   "metadata": {},
   "source": [
    "### Callbacks\n",
    "Son funciones predefinidas de Keras a aplicar durante el entrenamiento\n",
    "Por ejemplo, `ModelCheckpoint` sirve para que el modelo se vaya guardando tras cada epoch. Así no perdemos el progreso en caso de que decidamos interrumpir el entrenamiento. El callback recibe como argumento el nombre del objeto donde queremos que se guarde el modelo entrenado."
   ]
  },
  {
   "cell_type": "code",
   "execution_count": 11,
   "metadata": {
    "tags": []
   },
   "outputs": [
    {
     "name": "stdout",
     "output_type": "stream",
     "text": [
      "Epoch 1/30\n",
      "363/363 [==============================] - 2s 4ms/step - loss: 0.3689\n",
      "Epoch 2/30\n",
      "363/363 [==============================] - 2s 5ms/step - loss: 0.3663\n",
      "Epoch 3/30\n",
      "363/363 [==============================] - 2s 6ms/step - loss: 0.4142\n",
      "Epoch 4/30\n",
      "363/363 [==============================] - 2s 6ms/step - loss: 0.3774\n",
      "Epoch 5/30\n",
      "363/363 [==============================] - 2s 4ms/step - loss: 0.3631\n",
      "Epoch 6/30\n",
      "363/363 [==============================] - 2s 5ms/step - loss: 0.3636\n",
      "Epoch 7/30\n",
      "363/363 [==============================] - 3s 8ms/step - loss: 0.3628\n",
      "Epoch 8/30\n",
      "363/363 [==============================] - 3s 9ms/step - loss: 0.3572\n",
      "Epoch 9/30\n",
      "363/363 [==============================] - 2s 5ms/step - loss: 0.3697\n",
      "Epoch 10/30\n",
      "363/363 [==============================] - 2s 5ms/step - loss: 0.3578\n",
      "Epoch 11/30\n",
      "363/363 [==============================] - 3s 10ms/step - loss: 0.3517\n",
      "Epoch 12/30\n",
      "363/363 [==============================] - 2s 5ms/step - loss: 0.3542\n",
      "Epoch 13/30\n",
      "363/363 [==============================] - 2s 5ms/step - loss: 0.3487\n",
      "Epoch 14/30\n",
      "363/363 [==============================] - 2s 6ms/step - loss: 0.3468\n",
      "Epoch 15/30\n",
      "363/363 [==============================] - 2s 6ms/step - loss: 0.3456\n",
      "Epoch 16/30\n",
      "363/363 [==============================] - 4s 10ms/step - loss: 0.3455\n",
      "Epoch 17/30\n",
      "363/363 [==============================] - 2s 6ms/step - loss: 0.3441\n",
      "Epoch 18/30\n",
      "363/363 [==============================] - 2s 5ms/step - loss: 0.3421\n",
      "Epoch 19/30\n",
      "363/363 [==============================] - 2s 5ms/step - loss: 0.3450\n",
      "Epoch 20/30\n",
      "363/363 [==============================] - 2s 5ms/step - loss: 0.3439\n",
      "Epoch 21/30\n",
      "363/363 [==============================] - 2s 5ms/step - loss: 0.3395\n",
      "Epoch 22/30\n",
      "363/363 [==============================] - 2s 5ms/step - loss: 0.3391\n",
      "Epoch 23/30\n",
      "363/363 [==============================] - 2s 5ms/step - loss: 0.3381\n",
      "Epoch 24/30\n",
      "363/363 [==============================] - 2s 5ms/step - loss: 0.3374\n",
      "Epoch 25/30\n",
      "363/363 [==============================] - 2s 5ms/step - loss: 0.3390\n",
      "Epoch 26/30\n",
      "363/363 [==============================] - 2s 5ms/step - loss: 0.3358\n",
      "Epoch 27/30\n",
      "363/363 [==============================] - 2s 5ms/step - loss: 0.3350\n",
      "Epoch 28/30\n",
      "363/363 [==============================] - 2s 5ms/step - loss: 0.3352\n",
      "Epoch 29/30\n",
      "363/363 [==============================] - 2s 5ms/step - loss: 0.3340\n",
      "Epoch 30/30\n",
      "363/363 [==============================] - 2s 5ms/step - loss: 0.3325\n"
     ]
    }
   ],
   "source": [
    "checkpoint_cb = keras.callbacks.ModelCheckpoint(\"callback_model.keras\")\n",
    "history = model.fit(X_train,\n",
    "                   y_train,\n",
    "                   epochs=30,\n",
    "                   callbacks = [checkpoint_cb])"
   ]
  },
  {
   "cell_type": "markdown",
   "metadata": {},
   "source": [
    "### Early Stopping\n",
    "Interrumpe el entrenamiento cuando no ve progreso en el set de validación. Para ello tiene en cuenta un numero de epochs llamado `patience`. Se puede combinar con el callback"
   ]
  },
  {
   "cell_type": "code",
   "execution_count": null,
   "metadata": {},
   "outputs": [
    {
     "name": "stdout",
     "output_type": "stream",
     "text": [
      "Epoch 1/20\n",
      "363/363 [==============================] - 2s 5ms/step - loss: 0.3368 - val_loss: 0.3177\n",
      "Epoch 2/20\n",
      "363/363 [==============================] - 3s 7ms/step - loss: 0.3365 - val_loss: 0.3292\n",
      "Epoch 3/20\n",
      "363/363 [==============================] - 2s 5ms/step - loss: 0.3424 - val_loss: 0.3240\n",
      "Epoch 4/20\n",
      "363/363 [==============================] - 2s 6ms/step - loss: 0.3331 - val_loss: 0.3170\n",
      "Epoch 5/20\n",
      "363/363 [==============================] - 3s 7ms/step - loss: 0.3320 - val_loss: 0.3167\n",
      "Epoch 6/20\n",
      "363/363 [==============================] - 4s 11ms/step - loss: 0.3319 - val_loss: 0.3193\n",
      "Epoch 7/20\n",
      "363/363 [==============================] - 3s 7ms/step - loss: 0.3306 - val_loss: 0.3200\n",
      "Epoch 8/20\n",
      "363/363 [==============================] - 3s 7ms/step - loss: 0.3290 - val_loss: 0.3166\n",
      "Epoch 9/20\n",
      "363/363 [==============================] - 2s 7ms/step - loss: 0.3284 - val_loss: 0.3165\n",
      "Epoch 10/20\n",
      "363/363 [==============================] - 3s 9ms/step - loss: 0.3296 - val_loss: 0.3263\n",
      "Epoch 11/20\n",
      "363/363 [==============================] - 4s 10ms/step - loss: 0.3297 - val_loss: 0.3176\n",
      "Epoch 12/20\n",
      "363/363 [==============================] - 2s 7ms/step - loss: 0.3299 - val_loss: 0.3225\n",
      "Epoch 13/20\n",
      "363/363 [==============================] - 4s 12ms/step - loss: 0.3266 - val_loss: 0.3170\n",
      "Epoch 14/20\n",
      "233/363 [==================>...........] - ETA: 0s - loss: 0.3317"
     ]
    }
   ],
   "source": [
    "early_stopping_cb = keras.callbacks.EarlyStopping(patience=5)\n",
    "history = model.fit(X_train,\n",
    "                   y_train,\n",
    "                   epochs=20,\n",
    "                    validation_data = (X_valid, y_valid),\n",
    "                   callbacks = [early_stopping_cb])"
   ]
  },
  {
   "cell_type": "code",
   "execution_count": null,
   "metadata": {},
   "outputs": [],
   "source": []
  }
 ],
 "metadata": {
  "kernelspec": {
   "display_name": "Python 3 (ipykernel)",
   "language": "python",
   "name": "python3"
  },
  "language_info": {
   "codemirror_mode": {
    "name": "ipython",
    "version": 3
   },
   "file_extension": ".py",
   "mimetype": "text/x-python",
   "name": "python",
   "nbconvert_exporter": "python",
   "pygments_lexer": "ipython3",
   "version": "3.10.9"
  }
 },
 "nbformat": 4,
 "nbformat_minor": 4
}
